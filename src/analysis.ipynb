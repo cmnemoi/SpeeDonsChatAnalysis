{
 "cells": [
  {
   "cell_type": "markdown",
   "metadata": {},
   "source": [
    "# Import libraries"
   ]
  },
  {
   "cell_type": "code",
   "execution_count": 11,
   "metadata": {},
   "outputs": [],
   "source": [
    "import pandas as pd \n",
    "from spacy.lang.fr.stop_words import STOP_WORDS\n",
    "from wordcloud import WordCloud, ImageColorGenerator\n",
    "from matplotlib import pyplot as plt\n",
    "import seaborn as sns \n",
    "sns.set()\n",
    "from plotly import express as px \n",
    "from plotly import graph_objects as go\n",
    "import json\n",
    "from PIL import Image\n",
    "import numpy as np"
   ]
  },
  {
   "cell_type": "markdown",
   "metadata": {},
   "source": [
    "# Import messages"
   ]
  },
  {
   "cell_type": "code",
   "execution_count": 12,
   "metadata": {},
   "outputs": [],
   "source": [
    "#uncomment below and execute this if you haven't done it yet\n",
    "#!python scrape_SpeeDons_messages.py "
   ]
  },
  {
   "cell_type": "code",
   "execution_count": 13,
   "metadata": {},
   "outputs": [],
   "source": [
    "with open(\"../data/SpeeDons_chat.json\", \"r\") as file:\n",
    "    data = json.load(file)"
   ]
  },
  {
   "cell_type": "code",
   "execution_count": 14,
   "metadata": {},
   "outputs": [],
   "source": [
    "messages = pd.DataFrame.from_dict(data)"
   ]
  },
  {
   "cell_type": "markdown",
   "metadata": {},
   "source": [
    "# Feature engineering"
   ]
  },
  {
   "cell_type": "code",
   "execution_count": 15,
   "metadata": {},
   "outputs": [],
   "source": [
    "def is_subscriber(author):\n",
    "    try:\n",
    "        return author[\"badges\"][0][\"name\"] == \"subscriber\"\n",
    "    except KeyError:\n",
    "        return False"
   ]
  },
  {
   "cell_type": "code",
   "execution_count": 16,
   "metadata": {},
   "outputs": [],
   "source": [
    "messages[\"author_name\"] = [author[\"display_name\"] for author in messages[\"author\"]]\n",
    "messages[\"MV_subscriber\"] = [is_subscriber(author) for author in messages[\"author\"]]\n",
    "messages[\"date\"] = pd.to_datetime(messages[\"timestamp\"], unit=\"us\", utc=True)\n",
    "messages[\"message_day\"] = [date.day_name() for date in messages[\"date\"]]"
   ]
  },
  {
   "cell_type": "code",
   "execution_count": 17,
   "metadata": {},
   "outputs": [
    {
     "data": {
      "text/html": [
       "<div>\n",
       "<style scoped>\n",
       "    .dataframe tbody tr th:only-of-type {\n",
       "        vertical-align: middle;\n",
       "    }\n",
       "\n",
       "    .dataframe tbody tr th {\n",
       "        vertical-align: top;\n",
       "    }\n",
       "\n",
       "    .dataframe thead th {\n",
       "        text-align: right;\n",
       "    }\n",
       "</style>\n",
       "<table border=\"1\" class=\"dataframe\">\n",
       "  <thead>\n",
       "    <tr style=\"text-align: right;\">\n",
       "      <th></th>\n",
       "      <th>author</th>\n",
       "      <th>emotes</th>\n",
       "      <th>message</th>\n",
       "      <th>message_id</th>\n",
       "      <th>message_type</th>\n",
       "      <th>source</th>\n",
       "      <th>state</th>\n",
       "      <th>time_in_seconds</th>\n",
       "      <th>time_text</th>\n",
       "      <th>timestamp</th>\n",
       "      <th>author_name</th>\n",
       "      <th>MV_subscriber</th>\n",
       "      <th>date</th>\n",
       "      <th>message_day</th>\n",
       "    </tr>\n",
       "  </thead>\n",
       "  <tbody>\n",
       "    <tr>\n",
       "      <th>0</th>\n",
       "      <td>{'badges': [{'click_action': 'turbo', 'click_u...</td>\n",
       "      <td>[{'id': '34', 'images': [{'height': 28, 'id': ...</td>\n",
       "      <td>SwiftRage</td>\n",
       "      <td>6b32e8ac-0d8d-4fa4-91ea-9f7441db7d04</td>\n",
       "      <td>text_message</td>\n",
       "      <td>chat</td>\n",
       "      <td>published</td>\n",
       "      <td>5.866</td>\n",
       "      <td>0:05</td>\n",
       "      <td>1650028650566000</td>\n",
       "      <td>Wadjaah</td>\n",
       "      <td>False</td>\n",
       "      <td>2022-04-15 13:17:30.566000+00:00</td>\n",
       "      <td>Friday</td>\n",
       "    </tr>\n",
       "    <tr>\n",
       "      <th>1</th>\n",
       "      <td>{'bio': 'Je suis une très jolie fleur. ', 'col...</td>\n",
       "      <td>[{'id': 'emotesv2_5314a90cc7be4059a9e9efdd345d...</td>\n",
       "      <td>ponceOVERTOAD ponceOVERTOAD ponceOVERTOAD ponc...</td>\n",
       "      <td>3111b8fa-e6bd-4b56-b35b-e63af6ed6daa</td>\n",
       "      <td>text_message</td>\n",
       "      <td>chat</td>\n",
       "      <td>published</td>\n",
       "      <td>7.501</td>\n",
       "      <td>0:07</td>\n",
       "      <td>1650028652201000</td>\n",
       "      <td>Kyra_poil</td>\n",
       "      <td>False</td>\n",
       "      <td>2022-04-15 13:17:32.201000+00:00</td>\n",
       "      <td>Friday</td>\n",
       "    </tr>\n",
       "    <tr>\n",
       "      <th>2</th>\n",
       "      <td>{'badges': [{'click_action': 'subscribe_to_cha...</td>\n",
       "      <td>NaN</td>\n",
       "      <td>Here we go POGGERS</td>\n",
       "      <td>b019aabe-580a-4136-8ea9-fdf350aee5f2</td>\n",
       "      <td>text_message</td>\n",
       "      <td>chat</td>\n",
       "      <td>published</td>\n",
       "      <td>9.390</td>\n",
       "      <td>0:09</td>\n",
       "      <td>1650028654090000</td>\n",
       "      <td>Memuvd</td>\n",
       "      <td>True</td>\n",
       "      <td>2022-04-15 13:17:34.090000+00:00</td>\n",
       "      <td>Friday</td>\n",
       "    </tr>\n",
       "    <tr>\n",
       "      <th>3</th>\n",
       "      <td>{'badges': [{'click_action': 'visit_url', 'cli...</td>\n",
       "      <td>[{'id': 'emotesv2_8098e37bc383472aa5efbc824bc2...</td>\n",
       "      <td>zrtDance</td>\n",
       "      <td>bc657b5d-8c71-4545-92f0-e79a1a3c14c7</td>\n",
       "      <td>text_message</td>\n",
       "      <td>chat</td>\n",
       "      <td>published</td>\n",
       "      <td>9.557</td>\n",
       "      <td>0:09</td>\n",
       "      <td>1650028654257000</td>\n",
       "      <td>Rex_wafwaf</td>\n",
       "      <td>False</td>\n",
       "      <td>2022-04-15 13:17:34.257000+00:00</td>\n",
       "      <td>Friday</td>\n",
       "    </tr>\n",
       "    <tr>\n",
       "      <th>4</th>\n",
       "      <td>{'badges': [{'click_action': 'visit_url', 'cli...</td>\n",
       "      <td>NaN</td>\n",
       "      <td>PepoDance PepoDance PepoDance PepoDance PepoDa...</td>\n",
       "      <td>c34ddf82-0a7b-4cbb-82d1-f2e009847520</td>\n",
       "      <td>text_message</td>\n",
       "      <td>chat</td>\n",
       "      <td>published</td>\n",
       "      <td>11.461</td>\n",
       "      <td>0:11</td>\n",
       "      <td>1650028656161000</td>\n",
       "      <td>Licasoras</td>\n",
       "      <td>False</td>\n",
       "      <td>2022-04-15 13:17:36.161000+00:00</td>\n",
       "      <td>Friday</td>\n",
       "    </tr>\n",
       "    <tr>\n",
       "      <th>...</th>\n",
       "      <td>...</td>\n",
       "      <td>...</td>\n",
       "      <td>...</td>\n",
       "      <td>...</td>\n",
       "      <td>...</td>\n",
       "      <td>...</td>\n",
       "      <td>...</td>\n",
       "      <td>...</td>\n",
       "      <td>...</td>\n",
       "      <td>...</td>\n",
       "      <td>...</td>\n",
       "      <td>...</td>\n",
       "      <td>...</td>\n",
       "      <td>...</td>\n",
       "    </tr>\n",
       "    <tr>\n",
       "      <th>280811</th>\n",
       "      <td>{'badges': [{'click_action': 'visit_url', 'cli...</td>\n",
       "      <td>NaN</td>\n",
       "      <td>la prochaine fois y'aura elden ring !</td>\n",
       "      <td>f9a01411-c67f-4353-a909-869d210d120d</td>\n",
       "      <td>text_message</td>\n",
       "      <td>chat</td>\n",
       "      <td>published</td>\n",
       "      <td>54491.072</td>\n",
       "      <td>15:08:11</td>\n",
       "      <td>1650228395772000</td>\n",
       "      <td>LeNuageux</td>\n",
       "      <td>False</td>\n",
       "      <td>2022-04-17 20:46:35.772000+00:00</td>\n",
       "      <td>Sunday</td>\n",
       "    </tr>\n",
       "    <tr>\n",
       "      <th>280812</th>\n",
       "      <td>{'badges': [{'click_action': 'none', 'click_ur...</td>\n",
       "      <td>NaN</td>\n",
       "      <td>@LeNuageux Elden Ring n'était pas sorti lors d...</td>\n",
       "      <td>e9c9a209-3f73-4b09-981e-c71e1b6d7dac</td>\n",
       "      <td>text_message</td>\n",
       "      <td>chat</td>\n",
       "      <td>published</td>\n",
       "      <td>54491.420</td>\n",
       "      <td>15:08:11</td>\n",
       "      <td>1650228396120000</td>\n",
       "      <td>Robochiotte</td>\n",
       "      <td>False</td>\n",
       "      <td>2022-04-17 20:46:36.120000+00:00</td>\n",
       "      <td>Sunday</td>\n",
       "    </tr>\n",
       "    <tr>\n",
       "      <th>280813</th>\n",
       "      <td>{'badges': [{'click_action': 'visit_url', 'cli...</td>\n",
       "      <td>NaN</td>\n",
       "      <td>Bonne nuit à tous !</td>\n",
       "      <td>1d246482-f592-46e9-ad77-5a1ed27d5b7b</td>\n",
       "      <td>text_message</td>\n",
       "      <td>chat</td>\n",
       "      <td>published</td>\n",
       "      <td>54492.236</td>\n",
       "      <td>15:08:12</td>\n",
       "      <td>1650228396936000</td>\n",
       "      <td>Zamness</td>\n",
       "      <td>False</td>\n",
       "      <td>2022-04-17 20:46:36.936000+00:00</td>\n",
       "      <td>Sunday</td>\n",
       "    </tr>\n",
       "    <tr>\n",
       "      <th>280814</th>\n",
       "      <td>{'bio': 'chalut a tous et bienvenus! j'étais à...</td>\n",
       "      <td>NaN</td>\n",
       "      <td>et merde</td>\n",
       "      <td>4e961735-d7c8-43dd-b302-80989ca7225e</td>\n",
       "      <td>text_message</td>\n",
       "      <td>chat</td>\n",
       "      <td>published</td>\n",
       "      <td>54492.784</td>\n",
       "      <td>15:08:12</td>\n",
       "      <td>1650228397484000</td>\n",
       "      <td>jj12catien</td>\n",
       "      <td>False</td>\n",
       "      <td>2022-04-17 20:46:37.484000+00:00</td>\n",
       "      <td>Sunday</td>\n",
       "    </tr>\n",
       "    <tr>\n",
       "      <th>280815</th>\n",
       "      <td>{'bio': None, 'created_at': 1551883419217868, ...</td>\n",
       "      <td>[{'id': '555555560', 'images': [{'height': 28,...</td>\n",
       "      <td>bonne nuit tout le monde à l'année prochaine :D</td>\n",
       "      <td>07642cd8-1c1d-4120-a952-1a267db5fc9b</td>\n",
       "      <td>text_message</td>\n",
       "      <td>chat</td>\n",
       "      <td>published</td>\n",
       "      <td>54493.508</td>\n",
       "      <td>15:08:13</td>\n",
       "      <td>1650228398208000</td>\n",
       "      <td>a1exisxi</td>\n",
       "      <td>False</td>\n",
       "      <td>2022-04-17 20:46:38.208000+00:00</td>\n",
       "      <td>Sunday</td>\n",
       "    </tr>\n",
       "  </tbody>\n",
       "</table>\n",
       "<p>280816 rows × 14 columns</p>\n",
       "</div>"
      ],
      "text/plain": [
       "                                                   author  \\\n",
       "0       {'badges': [{'click_action': 'turbo', 'click_u...   \n",
       "1       {'bio': 'Je suis une très jolie fleur. ', 'col...   \n",
       "2       {'badges': [{'click_action': 'subscribe_to_cha...   \n",
       "3       {'badges': [{'click_action': 'visit_url', 'cli...   \n",
       "4       {'badges': [{'click_action': 'visit_url', 'cli...   \n",
       "...                                                   ...   \n",
       "280811  {'badges': [{'click_action': 'visit_url', 'cli...   \n",
       "280812  {'badges': [{'click_action': 'none', 'click_ur...   \n",
       "280813  {'badges': [{'click_action': 'visit_url', 'cli...   \n",
       "280814  {'bio': 'chalut a tous et bienvenus! j'étais à...   \n",
       "280815  {'bio': None, 'created_at': 1551883419217868, ...   \n",
       "\n",
       "                                                   emotes  \\\n",
       "0       [{'id': '34', 'images': [{'height': 28, 'id': ...   \n",
       "1       [{'id': 'emotesv2_5314a90cc7be4059a9e9efdd345d...   \n",
       "2                                                     NaN   \n",
       "3       [{'id': 'emotesv2_8098e37bc383472aa5efbc824bc2...   \n",
       "4                                                     NaN   \n",
       "...                                                   ...   \n",
       "280811                                                NaN   \n",
       "280812                                                NaN   \n",
       "280813                                                NaN   \n",
       "280814                                                NaN   \n",
       "280815  [{'id': '555555560', 'images': [{'height': 28,...   \n",
       "\n",
       "                                                  message  \\\n",
       "0                                               SwiftRage   \n",
       "1       ponceOVERTOAD ponceOVERTOAD ponceOVERTOAD ponc...   \n",
       "2                                      Here we go POGGERS   \n",
       "3                                                zrtDance   \n",
       "4       PepoDance PepoDance PepoDance PepoDance PepoDa...   \n",
       "...                                                   ...   \n",
       "280811              la prochaine fois y'aura elden ring !   \n",
       "280812  @LeNuageux Elden Ring n'était pas sorti lors d...   \n",
       "280813                                Bonne nuit à tous !   \n",
       "280814                                           et merde   \n",
       "280815    bonne nuit tout le monde à l'année prochaine :D   \n",
       "\n",
       "                                  message_id  message_type source      state  \\\n",
       "0       6b32e8ac-0d8d-4fa4-91ea-9f7441db7d04  text_message   chat  published   \n",
       "1       3111b8fa-e6bd-4b56-b35b-e63af6ed6daa  text_message   chat  published   \n",
       "2       b019aabe-580a-4136-8ea9-fdf350aee5f2  text_message   chat  published   \n",
       "3       bc657b5d-8c71-4545-92f0-e79a1a3c14c7  text_message   chat  published   \n",
       "4       c34ddf82-0a7b-4cbb-82d1-f2e009847520  text_message   chat  published   \n",
       "...                                      ...           ...    ...        ...   \n",
       "280811  f9a01411-c67f-4353-a909-869d210d120d  text_message   chat  published   \n",
       "280812  e9c9a209-3f73-4b09-981e-c71e1b6d7dac  text_message   chat  published   \n",
       "280813  1d246482-f592-46e9-ad77-5a1ed27d5b7b  text_message   chat  published   \n",
       "280814  4e961735-d7c8-43dd-b302-80989ca7225e  text_message   chat  published   \n",
       "280815  07642cd8-1c1d-4120-a952-1a267db5fc9b  text_message   chat  published   \n",
       "\n",
       "        time_in_seconds time_text         timestamp  author_name  \\\n",
       "0                 5.866      0:05  1650028650566000      Wadjaah   \n",
       "1                 7.501      0:07  1650028652201000    Kyra_poil   \n",
       "2                 9.390      0:09  1650028654090000       Memuvd   \n",
       "3                 9.557      0:09  1650028654257000   Rex_wafwaf   \n",
       "4                11.461      0:11  1650028656161000    Licasoras   \n",
       "...                 ...       ...               ...          ...   \n",
       "280811        54491.072  15:08:11  1650228395772000    LeNuageux   \n",
       "280812        54491.420  15:08:11  1650228396120000  Robochiotte   \n",
       "280813        54492.236  15:08:12  1650228396936000      Zamness   \n",
       "280814        54492.784  15:08:12  1650228397484000   jj12catien   \n",
       "280815        54493.508  15:08:13  1650228398208000     a1exisxi   \n",
       "\n",
       "        MV_subscriber                             date message_day  \n",
       "0               False 2022-04-15 13:17:30.566000+00:00      Friday  \n",
       "1               False 2022-04-15 13:17:32.201000+00:00      Friday  \n",
       "2                True 2022-04-15 13:17:34.090000+00:00      Friday  \n",
       "3               False 2022-04-15 13:17:34.257000+00:00      Friday  \n",
       "4               False 2022-04-15 13:17:36.161000+00:00      Friday  \n",
       "...               ...                              ...         ...  \n",
       "280811          False 2022-04-17 20:46:35.772000+00:00      Sunday  \n",
       "280812          False 2022-04-17 20:46:36.120000+00:00      Sunday  \n",
       "280813          False 2022-04-17 20:46:36.936000+00:00      Sunday  \n",
       "280814          False 2022-04-17 20:46:37.484000+00:00      Sunday  \n",
       "280815          False 2022-04-17 20:46:38.208000+00:00      Sunday  \n",
       "\n",
       "[280816 rows x 14 columns]"
      ]
     },
     "execution_count": 17,
     "metadata": {},
     "output_type": "execute_result"
    }
   ],
   "source": [
    "messages"
   ]
  },
  {
   "cell_type": "markdown",
   "metadata": {},
   "source": [
    "# Analyse des données"
   ]
  },
  {
   "cell_type": "markdown",
   "metadata": {},
   "source": [
    "Nombre de total de messages"
   ]
  },
  {
   "cell_type": "code",
   "execution_count": 18,
   "metadata": {},
   "outputs": [
    {
     "name": "stdout",
     "output_type": "stream",
     "text": [
      "Le nombre total de messages postés lors de SpeeDons 2022 est de 280816 !\n"
     ]
    }
   ],
   "source": [
    "print(f\"Le nombre total de messages postés lors de SpeeDons 2022 est de {len(messages)} !\")"
   ]
  },
  {
   "cell_type": "markdown",
   "metadata": {},
   "source": [
    "Nombre de messages par jour"
   ]
  },
  {
   "cell_type": "code",
   "execution_count": 48,
   "metadata": {},
   "outputs": [
    {
     "data": {
      "application/vnd.plotly.v1+json": {
       "config": {
        "plotlyServerURL": "https://plot.ly"
       },
       "data": [
        {
         "alignmentgroup": "True",
         "hovertemplate": "message_day=%{x}<br>message=%{y}<br>text=%{text}<extra></extra>",
         "legendgroup": "Friday",
         "marker": {
          "color": "#636efa",
          "pattern": {
           "shape": ""
          }
         },
         "name": "Friday",
         "offsetgroup": "Friday",
         "orientation": "v",
         "showlegend": true,
         "text": [
          "19.16%"
         ],
         "textposition": "auto",
         "type": "bar",
         "x": [
          "Friday"
         ],
         "xaxis": "x",
         "y": [
          53806
         ],
         "yaxis": "y"
        },
        {
         "alignmentgroup": "True",
         "hovertemplate": "message_day=%{x}<br>message=%{y}<br>text=%{text}<extra></extra>",
         "legendgroup": "Saturday",
         "marker": {
          "color": "#EF553B",
          "pattern": {
           "shape": ""
          }
         },
         "name": "Saturday",
         "offsetgroup": "Saturday",
         "orientation": "v",
         "showlegend": true,
         "text": [
          "39.61%"
         ],
         "textposition": "auto",
         "type": "bar",
         "x": [
          "Saturday"
         ],
         "xaxis": "x",
         "y": [
          111228
         ],
         "yaxis": "y"
        },
        {
         "alignmentgroup": "True",
         "hovertemplate": "message_day=%{x}<br>message=%{y}<br>text=%{text}<extra></extra>",
         "legendgroup": "Sunday",
         "marker": {
          "color": "#00cc96",
          "pattern": {
           "shape": ""
          }
         },
         "name": "Sunday",
         "offsetgroup": "Sunday",
         "orientation": "v",
         "showlegend": true,
         "text": [
          "41.23%"
         ],
         "textposition": "auto",
         "type": "bar",
         "x": [
          "Sunday"
         ],
         "xaxis": "x",
         "y": [
          115782
         ],
         "yaxis": "y"
        }
       ],
       "layout": {
        "barmode": "relative",
        "legend": {
         "title": {
          "text": "message_day"
         },
         "tracegroupgap": 0
        },
        "margin": {
         "t": 60
        },
        "template": {
         "data": {
          "bar": [
           {
            "error_x": {
             "color": "#2a3f5f"
            },
            "error_y": {
             "color": "#2a3f5f"
            },
            "marker": {
             "line": {
              "color": "#E5ECF6",
              "width": 0.5
             },
             "pattern": {
              "fillmode": "overlay",
              "size": 10,
              "solidity": 0.2
             }
            },
            "type": "bar"
           }
          ],
          "barpolar": [
           {
            "marker": {
             "line": {
              "color": "#E5ECF6",
              "width": 0.5
             },
             "pattern": {
              "fillmode": "overlay",
              "size": 10,
              "solidity": 0.2
             }
            },
            "type": "barpolar"
           }
          ],
          "carpet": [
           {
            "aaxis": {
             "endlinecolor": "#2a3f5f",
             "gridcolor": "white",
             "linecolor": "white",
             "minorgridcolor": "white",
             "startlinecolor": "#2a3f5f"
            },
            "baxis": {
             "endlinecolor": "#2a3f5f",
             "gridcolor": "white",
             "linecolor": "white",
             "minorgridcolor": "white",
             "startlinecolor": "#2a3f5f"
            },
            "type": "carpet"
           }
          ],
          "choropleth": [
           {
            "colorbar": {
             "outlinewidth": 0,
             "ticks": ""
            },
            "type": "choropleth"
           }
          ],
          "contour": [
           {
            "colorbar": {
             "outlinewidth": 0,
             "ticks": ""
            },
            "colorscale": [
             [
              0,
              "#0d0887"
             ],
             [
              0.1111111111111111,
              "#46039f"
             ],
             [
              0.2222222222222222,
              "#7201a8"
             ],
             [
              0.3333333333333333,
              "#9c179e"
             ],
             [
              0.4444444444444444,
              "#bd3786"
             ],
             [
              0.5555555555555556,
              "#d8576b"
             ],
             [
              0.6666666666666666,
              "#ed7953"
             ],
             [
              0.7777777777777778,
              "#fb9f3a"
             ],
             [
              0.8888888888888888,
              "#fdca26"
             ],
             [
              1,
              "#f0f921"
             ]
            ],
            "type": "contour"
           }
          ],
          "contourcarpet": [
           {
            "colorbar": {
             "outlinewidth": 0,
             "ticks": ""
            },
            "type": "contourcarpet"
           }
          ],
          "heatmap": [
           {
            "colorbar": {
             "outlinewidth": 0,
             "ticks": ""
            },
            "colorscale": [
             [
              0,
              "#0d0887"
             ],
             [
              0.1111111111111111,
              "#46039f"
             ],
             [
              0.2222222222222222,
              "#7201a8"
             ],
             [
              0.3333333333333333,
              "#9c179e"
             ],
             [
              0.4444444444444444,
              "#bd3786"
             ],
             [
              0.5555555555555556,
              "#d8576b"
             ],
             [
              0.6666666666666666,
              "#ed7953"
             ],
             [
              0.7777777777777778,
              "#fb9f3a"
             ],
             [
              0.8888888888888888,
              "#fdca26"
             ],
             [
              1,
              "#f0f921"
             ]
            ],
            "type": "heatmap"
           }
          ],
          "heatmapgl": [
           {
            "colorbar": {
             "outlinewidth": 0,
             "ticks": ""
            },
            "colorscale": [
             [
              0,
              "#0d0887"
             ],
             [
              0.1111111111111111,
              "#46039f"
             ],
             [
              0.2222222222222222,
              "#7201a8"
             ],
             [
              0.3333333333333333,
              "#9c179e"
             ],
             [
              0.4444444444444444,
              "#bd3786"
             ],
             [
              0.5555555555555556,
              "#d8576b"
             ],
             [
              0.6666666666666666,
              "#ed7953"
             ],
             [
              0.7777777777777778,
              "#fb9f3a"
             ],
             [
              0.8888888888888888,
              "#fdca26"
             ],
             [
              1,
              "#f0f921"
             ]
            ],
            "type": "heatmapgl"
           }
          ],
          "histogram": [
           {
            "marker": {
             "pattern": {
              "fillmode": "overlay",
              "size": 10,
              "solidity": 0.2
             }
            },
            "type": "histogram"
           }
          ],
          "histogram2d": [
           {
            "colorbar": {
             "outlinewidth": 0,
             "ticks": ""
            },
            "colorscale": [
             [
              0,
              "#0d0887"
             ],
             [
              0.1111111111111111,
              "#46039f"
             ],
             [
              0.2222222222222222,
              "#7201a8"
             ],
             [
              0.3333333333333333,
              "#9c179e"
             ],
             [
              0.4444444444444444,
              "#bd3786"
             ],
             [
              0.5555555555555556,
              "#d8576b"
             ],
             [
              0.6666666666666666,
              "#ed7953"
             ],
             [
              0.7777777777777778,
              "#fb9f3a"
             ],
             [
              0.8888888888888888,
              "#fdca26"
             ],
             [
              1,
              "#f0f921"
             ]
            ],
            "type": "histogram2d"
           }
          ],
          "histogram2dcontour": [
           {
            "colorbar": {
             "outlinewidth": 0,
             "ticks": ""
            },
            "colorscale": [
             [
              0,
              "#0d0887"
             ],
             [
              0.1111111111111111,
              "#46039f"
             ],
             [
              0.2222222222222222,
              "#7201a8"
             ],
             [
              0.3333333333333333,
              "#9c179e"
             ],
             [
              0.4444444444444444,
              "#bd3786"
             ],
             [
              0.5555555555555556,
              "#d8576b"
             ],
             [
              0.6666666666666666,
              "#ed7953"
             ],
             [
              0.7777777777777778,
              "#fb9f3a"
             ],
             [
              0.8888888888888888,
              "#fdca26"
             ],
             [
              1,
              "#f0f921"
             ]
            ],
            "type": "histogram2dcontour"
           }
          ],
          "mesh3d": [
           {
            "colorbar": {
             "outlinewidth": 0,
             "ticks": ""
            },
            "type": "mesh3d"
           }
          ],
          "parcoords": [
           {
            "line": {
             "colorbar": {
              "outlinewidth": 0,
              "ticks": ""
             }
            },
            "type": "parcoords"
           }
          ],
          "pie": [
           {
            "automargin": true,
            "type": "pie"
           }
          ],
          "scatter": [
           {
            "fillpattern": {
             "fillmode": "overlay",
             "size": 10,
             "solidity": 0.2
            },
            "type": "scatter"
           }
          ],
          "scatter3d": [
           {
            "line": {
             "colorbar": {
              "outlinewidth": 0,
              "ticks": ""
             }
            },
            "marker": {
             "colorbar": {
              "outlinewidth": 0,
              "ticks": ""
             }
            },
            "type": "scatter3d"
           }
          ],
          "scattercarpet": [
           {
            "marker": {
             "colorbar": {
              "outlinewidth": 0,
              "ticks": ""
             }
            },
            "type": "scattercarpet"
           }
          ],
          "scattergeo": [
           {
            "marker": {
             "colorbar": {
              "outlinewidth": 0,
              "ticks": ""
             }
            },
            "type": "scattergeo"
           }
          ],
          "scattergl": [
           {
            "marker": {
             "colorbar": {
              "outlinewidth": 0,
              "ticks": ""
             }
            },
            "type": "scattergl"
           }
          ],
          "scattermapbox": [
           {
            "marker": {
             "colorbar": {
              "outlinewidth": 0,
              "ticks": ""
             }
            },
            "type": "scattermapbox"
           }
          ],
          "scatterpolar": [
           {
            "marker": {
             "colorbar": {
              "outlinewidth": 0,
              "ticks": ""
             }
            },
            "type": "scatterpolar"
           }
          ],
          "scatterpolargl": [
           {
            "marker": {
             "colorbar": {
              "outlinewidth": 0,
              "ticks": ""
             }
            },
            "type": "scatterpolargl"
           }
          ],
          "scatterternary": [
           {
            "marker": {
             "colorbar": {
              "outlinewidth": 0,
              "ticks": ""
             }
            },
            "type": "scatterternary"
           }
          ],
          "surface": [
           {
            "colorbar": {
             "outlinewidth": 0,
             "ticks": ""
            },
            "colorscale": [
             [
              0,
              "#0d0887"
             ],
             [
              0.1111111111111111,
              "#46039f"
             ],
             [
              0.2222222222222222,
              "#7201a8"
             ],
             [
              0.3333333333333333,
              "#9c179e"
             ],
             [
              0.4444444444444444,
              "#bd3786"
             ],
             [
              0.5555555555555556,
              "#d8576b"
             ],
             [
              0.6666666666666666,
              "#ed7953"
             ],
             [
              0.7777777777777778,
              "#fb9f3a"
             ],
             [
              0.8888888888888888,
              "#fdca26"
             ],
             [
              1,
              "#f0f921"
             ]
            ],
            "type": "surface"
           }
          ],
          "table": [
           {
            "cells": {
             "fill": {
              "color": "#EBF0F8"
             },
             "line": {
              "color": "white"
             }
            },
            "header": {
             "fill": {
              "color": "#C8D4E3"
             },
             "line": {
              "color": "white"
             }
            },
            "type": "table"
           }
          ]
         },
         "layout": {
          "annotationdefaults": {
           "arrowcolor": "#2a3f5f",
           "arrowhead": 0,
           "arrowwidth": 1
          },
          "autotypenumbers": "strict",
          "coloraxis": {
           "colorbar": {
            "outlinewidth": 0,
            "ticks": ""
           }
          },
          "colorscale": {
           "diverging": [
            [
             0,
             "#8e0152"
            ],
            [
             0.1,
             "#c51b7d"
            ],
            [
             0.2,
             "#de77ae"
            ],
            [
             0.3,
             "#f1b6da"
            ],
            [
             0.4,
             "#fde0ef"
            ],
            [
             0.5,
             "#f7f7f7"
            ],
            [
             0.6,
             "#e6f5d0"
            ],
            [
             0.7,
             "#b8e186"
            ],
            [
             0.8,
             "#7fbc41"
            ],
            [
             0.9,
             "#4d9221"
            ],
            [
             1,
             "#276419"
            ]
           ],
           "sequential": [
            [
             0,
             "#0d0887"
            ],
            [
             0.1111111111111111,
             "#46039f"
            ],
            [
             0.2222222222222222,
             "#7201a8"
            ],
            [
             0.3333333333333333,
             "#9c179e"
            ],
            [
             0.4444444444444444,
             "#bd3786"
            ],
            [
             0.5555555555555556,
             "#d8576b"
            ],
            [
             0.6666666666666666,
             "#ed7953"
            ],
            [
             0.7777777777777778,
             "#fb9f3a"
            ],
            [
             0.8888888888888888,
             "#fdca26"
            ],
            [
             1,
             "#f0f921"
            ]
           ],
           "sequentialminus": [
            [
             0,
             "#0d0887"
            ],
            [
             0.1111111111111111,
             "#46039f"
            ],
            [
             0.2222222222222222,
             "#7201a8"
            ],
            [
             0.3333333333333333,
             "#9c179e"
            ],
            [
             0.4444444444444444,
             "#bd3786"
            ],
            [
             0.5555555555555556,
             "#d8576b"
            ],
            [
             0.6666666666666666,
             "#ed7953"
            ],
            [
             0.7777777777777778,
             "#fb9f3a"
            ],
            [
             0.8888888888888888,
             "#fdca26"
            ],
            [
             1,
             "#f0f921"
            ]
           ]
          },
          "colorway": [
           "#636efa",
           "#EF553B",
           "#00cc96",
           "#ab63fa",
           "#FFA15A",
           "#19d3f3",
           "#FF6692",
           "#B6E880",
           "#FF97FF",
           "#FECB52"
          ],
          "font": {
           "color": "#2a3f5f"
          },
          "geo": {
           "bgcolor": "white",
           "lakecolor": "white",
           "landcolor": "#E5ECF6",
           "showlakes": true,
           "showland": true,
           "subunitcolor": "white"
          },
          "hoverlabel": {
           "align": "left"
          },
          "hovermode": "closest",
          "mapbox": {
           "style": "light"
          },
          "paper_bgcolor": "white",
          "plot_bgcolor": "#E5ECF6",
          "polar": {
           "angularaxis": {
            "gridcolor": "white",
            "linecolor": "white",
            "ticks": ""
           },
           "bgcolor": "#E5ECF6",
           "radialaxis": {
            "gridcolor": "white",
            "linecolor": "white",
            "ticks": ""
           }
          },
          "scene": {
           "xaxis": {
            "backgroundcolor": "#E5ECF6",
            "gridcolor": "white",
            "gridwidth": 2,
            "linecolor": "white",
            "showbackground": true,
            "ticks": "",
            "zerolinecolor": "white"
           },
           "yaxis": {
            "backgroundcolor": "#E5ECF6",
            "gridcolor": "white",
            "gridwidth": 2,
            "linecolor": "white",
            "showbackground": true,
            "ticks": "",
            "zerolinecolor": "white"
           },
           "zaxis": {
            "backgroundcolor": "#E5ECF6",
            "gridcolor": "white",
            "gridwidth": 2,
            "linecolor": "white",
            "showbackground": true,
            "ticks": "",
            "zerolinecolor": "white"
           }
          },
          "shapedefaults": {
           "line": {
            "color": "#2a3f5f"
           }
          },
          "ternary": {
           "aaxis": {
            "gridcolor": "white",
            "linecolor": "white",
            "ticks": ""
           },
           "baxis": {
            "gridcolor": "white",
            "linecolor": "white",
            "ticks": ""
           },
           "bgcolor": "#E5ECF6",
           "caxis": {
            "gridcolor": "white",
            "linecolor": "white",
            "ticks": ""
           }
          },
          "title": {
           "x": 0.05
          },
          "xaxis": {
           "automargin": true,
           "gridcolor": "white",
           "linecolor": "white",
           "ticks": "",
           "title": {
            "standoff": 15
           },
           "zerolinecolor": "white",
           "zerolinewidth": 2
          },
          "yaxis": {
           "automargin": true,
           "gridcolor": "white",
           "linecolor": "white",
           "ticks": "",
           "title": {
            "standoff": 15
           },
           "zerolinecolor": "white",
           "zerolinewidth": 2
          }
         }
        },
        "title": {
         "text": "Nombre de messages par jour lors de SpeeDons 2022",
         "x": 0.5,
         "xanchor": "center",
         "y": 0.95,
         "yanchor": "top"
        },
        "xaxis": {
         "anchor": "y",
         "categoryarray": [
          "Friday",
          "Saturday",
          "Sunday"
         ],
         "categoryorder": "array",
         "domain": [
          0,
          1
         ],
         "title": {
          "text": "Jour"
         }
        },
        "yaxis": {
         "anchor": "x",
         "domain": [
          0,
          1
         ],
         "title": {
          "text": "Nombre de messages"
         }
        }
       }
      }
     },
     "metadata": {},
     "output_type": "display_data"
    }
   ],
   "source": [
    "messages_per_day = pd.DataFrame(messages.groupby(\"message_day\").count()[\"message\"])\n",
    "\n",
    "fig_1 = px.bar(data_frame=messages_per_day, y=\"message\", color=messages_per_day.index, text=[f'{i:.2f}%' for i in messages_per_day['message'] * 100 / messages_per_day[\"message\"].sum()])\n",
    "fig_1.update_layout(title={\n",
    "        'text': f\"Nombre de messages par jour lors de SpeeDons 2022\",\n",
    "        'y':0.95,\n",
    "        'x':0.5,\n",
    "        'xanchor': 'center',\n",
    "        'yanchor': 'top'})\n",
    "fig_1.update_xaxes(title=\"Jour\")\n",
    "fig_1.update_yaxes(title=\"Nombre de messages\")"
   ]
  },
  {
   "cell_type": "markdown",
   "metadata": {},
   "source": [
    "Top N des meilleurs posteurs"
   ]
  },
  {
   "cell_type": "code",
   "execution_count": 20,
   "metadata": {},
   "outputs": [
    {
     "data": {
      "text/html": [
       "<div>\n",
       "<style scoped>\n",
       "    .dataframe tbody tr th:only-of-type {\n",
       "        vertical-align: middle;\n",
       "    }\n",
       "\n",
       "    .dataframe tbody tr th {\n",
       "        vertical-align: top;\n",
       "    }\n",
       "\n",
       "    .dataframe thead th {\n",
       "        text-align: right;\n",
       "    }\n",
       "</style>\n",
       "<table border=\"1\" class=\"dataframe\">\n",
       "  <thead>\n",
       "    <tr style=\"text-align: right;\">\n",
       "      <th></th>\n",
       "      <th>message</th>\n",
       "    </tr>\n",
       "    <tr>\n",
       "      <th>author_name</th>\n",
       "      <th></th>\n",
       "    </tr>\n",
       "  </thead>\n",
       "  <tbody>\n",
       "    <tr>\n",
       "      <th>J0selitoo</th>\n",
       "      <td>1596</td>\n",
       "    </tr>\n",
       "    <tr>\n",
       "      <th>KBlastR</th>\n",
       "      <td>1276</td>\n",
       "    </tr>\n",
       "    <tr>\n",
       "      <th>YohanLeHeroo</th>\n",
       "      <td>1155</td>\n",
       "    </tr>\n",
       "    <tr>\n",
       "      <th>CoLLiNeClegane</th>\n",
       "      <td>1036</td>\n",
       "    </tr>\n",
       "    <tr>\n",
       "      <th>ForbiddenPit</th>\n",
       "      <td>947</td>\n",
       "    </tr>\n",
       "  </tbody>\n",
       "</table>\n",
       "</div>"
      ],
      "text/plain": [
       "                message\n",
       "author_name            \n",
       "J0selitoo          1596\n",
       "KBlastR            1276\n",
       "YohanLeHeroo       1155\n",
       "CoLLiNeClegane     1036\n",
       "ForbiddenPit        947"
      ]
     },
     "execution_count": 20,
     "metadata": {},
     "output_type": "execute_result"
    }
   ],
   "source": [
    "N = 5\n",
    "n_best_viewers = messages.groupby(\"author_name\")[\"message\"].count().sort_values(ascending=False)[:N]\n",
    "n_best_viewers = pd.DataFrame(n_best_viewers, index=n_best_viewers.index);n_best_viewers"
   ]
  },
  {
   "cell_type": "code",
   "execution_count": 50,
   "metadata": {},
   "outputs": [
    {
     "data": {
      "application/vnd.plotly.v1+json": {
       "config": {
        "plotlyServerURL": "https://plot.ly"
       },
       "data": [
        {
         "alignmentgroup": "True",
         "hovertemplate": "author_name=%{x}<br>message=%{y}<br>text=%{text}<extra></extra>",
         "legendgroup": "J0selitoo",
         "marker": {
          "color": "#636efa",
          "pattern": {
           "shape": ""
          }
         },
         "name": "J0selitoo",
         "offsetgroup": "J0selitoo",
         "orientation": "v",
         "showlegend": true,
         "text": [
          "1596"
         ],
         "textposition": "auto",
         "type": "bar",
         "x": [
          "J0selitoo"
         ],
         "xaxis": "x",
         "y": [
          1596
         ],
         "yaxis": "y"
        },
        {
         "alignmentgroup": "True",
         "hovertemplate": "author_name=%{x}<br>message=%{y}<br>text=%{text}<extra></extra>",
         "legendgroup": "KBlastR",
         "marker": {
          "color": "#EF553B",
          "pattern": {
           "shape": ""
          }
         },
         "name": "KBlastR",
         "offsetgroup": "KBlastR",
         "orientation": "v",
         "showlegend": true,
         "text": [
          "1276"
         ],
         "textposition": "auto",
         "type": "bar",
         "x": [
          "KBlastR"
         ],
         "xaxis": "x",
         "y": [
          1276
         ],
         "yaxis": "y"
        },
        {
         "alignmentgroup": "True",
         "hovertemplate": "author_name=%{x}<br>message=%{y}<br>text=%{text}<extra></extra>",
         "legendgroup": "YohanLeHeroo",
         "marker": {
          "color": "#00cc96",
          "pattern": {
           "shape": ""
          }
         },
         "name": "YohanLeHeroo",
         "offsetgroup": "YohanLeHeroo",
         "orientation": "v",
         "showlegend": true,
         "text": [
          "1155"
         ],
         "textposition": "auto",
         "type": "bar",
         "x": [
          "YohanLeHeroo"
         ],
         "xaxis": "x",
         "y": [
          1155
         ],
         "yaxis": "y"
        },
        {
         "alignmentgroup": "True",
         "hovertemplate": "author_name=%{x}<br>message=%{y}<br>text=%{text}<extra></extra>",
         "legendgroup": "CoLLiNeClegane",
         "marker": {
          "color": "#ab63fa",
          "pattern": {
           "shape": ""
          }
         },
         "name": "CoLLiNeClegane",
         "offsetgroup": "CoLLiNeClegane",
         "orientation": "v",
         "showlegend": true,
         "text": [
          "1036"
         ],
         "textposition": "auto",
         "type": "bar",
         "x": [
          "CoLLiNeClegane"
         ],
         "xaxis": "x",
         "y": [
          1036
         ],
         "yaxis": "y"
        },
        {
         "alignmentgroup": "True",
         "hovertemplate": "author_name=%{x}<br>message=%{y}<br>text=%{text}<extra></extra>",
         "legendgroup": "ForbiddenPit",
         "marker": {
          "color": "#FFA15A",
          "pattern": {
           "shape": ""
          }
         },
         "name": "ForbiddenPit",
         "offsetgroup": "ForbiddenPit",
         "orientation": "v",
         "showlegend": true,
         "text": [
          "947"
         ],
         "textposition": "auto",
         "type": "bar",
         "x": [
          "ForbiddenPit"
         ],
         "xaxis": "x",
         "y": [
          947
         ],
         "yaxis": "y"
        }
       ],
       "layout": {
        "barmode": "relative",
        "legend": {
         "title": {
          "text": "author_name"
         },
         "tracegroupgap": 0
        },
        "margin": {
         "t": 60
        },
        "template": {
         "data": {
          "bar": [
           {
            "error_x": {
             "color": "#2a3f5f"
            },
            "error_y": {
             "color": "#2a3f5f"
            },
            "marker": {
             "line": {
              "color": "#E5ECF6",
              "width": 0.5
             },
             "pattern": {
              "fillmode": "overlay",
              "size": 10,
              "solidity": 0.2
             }
            },
            "type": "bar"
           }
          ],
          "barpolar": [
           {
            "marker": {
             "line": {
              "color": "#E5ECF6",
              "width": 0.5
             },
             "pattern": {
              "fillmode": "overlay",
              "size": 10,
              "solidity": 0.2
             }
            },
            "type": "barpolar"
           }
          ],
          "carpet": [
           {
            "aaxis": {
             "endlinecolor": "#2a3f5f",
             "gridcolor": "white",
             "linecolor": "white",
             "minorgridcolor": "white",
             "startlinecolor": "#2a3f5f"
            },
            "baxis": {
             "endlinecolor": "#2a3f5f",
             "gridcolor": "white",
             "linecolor": "white",
             "minorgridcolor": "white",
             "startlinecolor": "#2a3f5f"
            },
            "type": "carpet"
           }
          ],
          "choropleth": [
           {
            "colorbar": {
             "outlinewidth": 0,
             "ticks": ""
            },
            "type": "choropleth"
           }
          ],
          "contour": [
           {
            "colorbar": {
             "outlinewidth": 0,
             "ticks": ""
            },
            "colorscale": [
             [
              0,
              "#0d0887"
             ],
             [
              0.1111111111111111,
              "#46039f"
             ],
             [
              0.2222222222222222,
              "#7201a8"
             ],
             [
              0.3333333333333333,
              "#9c179e"
             ],
             [
              0.4444444444444444,
              "#bd3786"
             ],
             [
              0.5555555555555556,
              "#d8576b"
             ],
             [
              0.6666666666666666,
              "#ed7953"
             ],
             [
              0.7777777777777778,
              "#fb9f3a"
             ],
             [
              0.8888888888888888,
              "#fdca26"
             ],
             [
              1,
              "#f0f921"
             ]
            ],
            "type": "contour"
           }
          ],
          "contourcarpet": [
           {
            "colorbar": {
             "outlinewidth": 0,
             "ticks": ""
            },
            "type": "contourcarpet"
           }
          ],
          "heatmap": [
           {
            "colorbar": {
             "outlinewidth": 0,
             "ticks": ""
            },
            "colorscale": [
             [
              0,
              "#0d0887"
             ],
             [
              0.1111111111111111,
              "#46039f"
             ],
             [
              0.2222222222222222,
              "#7201a8"
             ],
             [
              0.3333333333333333,
              "#9c179e"
             ],
             [
              0.4444444444444444,
              "#bd3786"
             ],
             [
              0.5555555555555556,
              "#d8576b"
             ],
             [
              0.6666666666666666,
              "#ed7953"
             ],
             [
              0.7777777777777778,
              "#fb9f3a"
             ],
             [
              0.8888888888888888,
              "#fdca26"
             ],
             [
              1,
              "#f0f921"
             ]
            ],
            "type": "heatmap"
           }
          ],
          "heatmapgl": [
           {
            "colorbar": {
             "outlinewidth": 0,
             "ticks": ""
            },
            "colorscale": [
             [
              0,
              "#0d0887"
             ],
             [
              0.1111111111111111,
              "#46039f"
             ],
             [
              0.2222222222222222,
              "#7201a8"
             ],
             [
              0.3333333333333333,
              "#9c179e"
             ],
             [
              0.4444444444444444,
              "#bd3786"
             ],
             [
              0.5555555555555556,
              "#d8576b"
             ],
             [
              0.6666666666666666,
              "#ed7953"
             ],
             [
              0.7777777777777778,
              "#fb9f3a"
             ],
             [
              0.8888888888888888,
              "#fdca26"
             ],
             [
              1,
              "#f0f921"
             ]
            ],
            "type": "heatmapgl"
           }
          ],
          "histogram": [
           {
            "marker": {
             "pattern": {
              "fillmode": "overlay",
              "size": 10,
              "solidity": 0.2
             }
            },
            "type": "histogram"
           }
          ],
          "histogram2d": [
           {
            "colorbar": {
             "outlinewidth": 0,
             "ticks": ""
            },
            "colorscale": [
             [
              0,
              "#0d0887"
             ],
             [
              0.1111111111111111,
              "#46039f"
             ],
             [
              0.2222222222222222,
              "#7201a8"
             ],
             [
              0.3333333333333333,
              "#9c179e"
             ],
             [
              0.4444444444444444,
              "#bd3786"
             ],
             [
              0.5555555555555556,
              "#d8576b"
             ],
             [
              0.6666666666666666,
              "#ed7953"
             ],
             [
              0.7777777777777778,
              "#fb9f3a"
             ],
             [
              0.8888888888888888,
              "#fdca26"
             ],
             [
              1,
              "#f0f921"
             ]
            ],
            "type": "histogram2d"
           }
          ],
          "histogram2dcontour": [
           {
            "colorbar": {
             "outlinewidth": 0,
             "ticks": ""
            },
            "colorscale": [
             [
              0,
              "#0d0887"
             ],
             [
              0.1111111111111111,
              "#46039f"
             ],
             [
              0.2222222222222222,
              "#7201a8"
             ],
             [
              0.3333333333333333,
              "#9c179e"
             ],
             [
              0.4444444444444444,
              "#bd3786"
             ],
             [
              0.5555555555555556,
              "#d8576b"
             ],
             [
              0.6666666666666666,
              "#ed7953"
             ],
             [
              0.7777777777777778,
              "#fb9f3a"
             ],
             [
              0.8888888888888888,
              "#fdca26"
             ],
             [
              1,
              "#f0f921"
             ]
            ],
            "type": "histogram2dcontour"
           }
          ],
          "mesh3d": [
           {
            "colorbar": {
             "outlinewidth": 0,
             "ticks": ""
            },
            "type": "mesh3d"
           }
          ],
          "parcoords": [
           {
            "line": {
             "colorbar": {
              "outlinewidth": 0,
              "ticks": ""
             }
            },
            "type": "parcoords"
           }
          ],
          "pie": [
           {
            "automargin": true,
            "type": "pie"
           }
          ],
          "scatter": [
           {
            "fillpattern": {
             "fillmode": "overlay",
             "size": 10,
             "solidity": 0.2
            },
            "type": "scatter"
           }
          ],
          "scatter3d": [
           {
            "line": {
             "colorbar": {
              "outlinewidth": 0,
              "ticks": ""
             }
            },
            "marker": {
             "colorbar": {
              "outlinewidth": 0,
              "ticks": ""
             }
            },
            "type": "scatter3d"
           }
          ],
          "scattercarpet": [
           {
            "marker": {
             "colorbar": {
              "outlinewidth": 0,
              "ticks": ""
             }
            },
            "type": "scattercarpet"
           }
          ],
          "scattergeo": [
           {
            "marker": {
             "colorbar": {
              "outlinewidth": 0,
              "ticks": ""
             }
            },
            "type": "scattergeo"
           }
          ],
          "scattergl": [
           {
            "marker": {
             "colorbar": {
              "outlinewidth": 0,
              "ticks": ""
             }
            },
            "type": "scattergl"
           }
          ],
          "scattermapbox": [
           {
            "marker": {
             "colorbar": {
              "outlinewidth": 0,
              "ticks": ""
             }
            },
            "type": "scattermapbox"
           }
          ],
          "scatterpolar": [
           {
            "marker": {
             "colorbar": {
              "outlinewidth": 0,
              "ticks": ""
             }
            },
            "type": "scatterpolar"
           }
          ],
          "scatterpolargl": [
           {
            "marker": {
             "colorbar": {
              "outlinewidth": 0,
              "ticks": ""
             }
            },
            "type": "scatterpolargl"
           }
          ],
          "scatterternary": [
           {
            "marker": {
             "colorbar": {
              "outlinewidth": 0,
              "ticks": ""
             }
            },
            "type": "scatterternary"
           }
          ],
          "surface": [
           {
            "colorbar": {
             "outlinewidth": 0,
             "ticks": ""
            },
            "colorscale": [
             [
              0,
              "#0d0887"
             ],
             [
              0.1111111111111111,
              "#46039f"
             ],
             [
              0.2222222222222222,
              "#7201a8"
             ],
             [
              0.3333333333333333,
              "#9c179e"
             ],
             [
              0.4444444444444444,
              "#bd3786"
             ],
             [
              0.5555555555555556,
              "#d8576b"
             ],
             [
              0.6666666666666666,
              "#ed7953"
             ],
             [
              0.7777777777777778,
              "#fb9f3a"
             ],
             [
              0.8888888888888888,
              "#fdca26"
             ],
             [
              1,
              "#f0f921"
             ]
            ],
            "type": "surface"
           }
          ],
          "table": [
           {
            "cells": {
             "fill": {
              "color": "#EBF0F8"
             },
             "line": {
              "color": "white"
             }
            },
            "header": {
             "fill": {
              "color": "#C8D4E3"
             },
             "line": {
              "color": "white"
             }
            },
            "type": "table"
           }
          ]
         },
         "layout": {
          "annotationdefaults": {
           "arrowcolor": "#2a3f5f",
           "arrowhead": 0,
           "arrowwidth": 1
          },
          "autotypenumbers": "strict",
          "coloraxis": {
           "colorbar": {
            "outlinewidth": 0,
            "ticks": ""
           }
          },
          "colorscale": {
           "diverging": [
            [
             0,
             "#8e0152"
            ],
            [
             0.1,
             "#c51b7d"
            ],
            [
             0.2,
             "#de77ae"
            ],
            [
             0.3,
             "#f1b6da"
            ],
            [
             0.4,
             "#fde0ef"
            ],
            [
             0.5,
             "#f7f7f7"
            ],
            [
             0.6,
             "#e6f5d0"
            ],
            [
             0.7,
             "#b8e186"
            ],
            [
             0.8,
             "#7fbc41"
            ],
            [
             0.9,
             "#4d9221"
            ],
            [
             1,
             "#276419"
            ]
           ],
           "sequential": [
            [
             0,
             "#0d0887"
            ],
            [
             0.1111111111111111,
             "#46039f"
            ],
            [
             0.2222222222222222,
             "#7201a8"
            ],
            [
             0.3333333333333333,
             "#9c179e"
            ],
            [
             0.4444444444444444,
             "#bd3786"
            ],
            [
             0.5555555555555556,
             "#d8576b"
            ],
            [
             0.6666666666666666,
             "#ed7953"
            ],
            [
             0.7777777777777778,
             "#fb9f3a"
            ],
            [
             0.8888888888888888,
             "#fdca26"
            ],
            [
             1,
             "#f0f921"
            ]
           ],
           "sequentialminus": [
            [
             0,
             "#0d0887"
            ],
            [
             0.1111111111111111,
             "#46039f"
            ],
            [
             0.2222222222222222,
             "#7201a8"
            ],
            [
             0.3333333333333333,
             "#9c179e"
            ],
            [
             0.4444444444444444,
             "#bd3786"
            ],
            [
             0.5555555555555556,
             "#d8576b"
            ],
            [
             0.6666666666666666,
             "#ed7953"
            ],
            [
             0.7777777777777778,
             "#fb9f3a"
            ],
            [
             0.8888888888888888,
             "#fdca26"
            ],
            [
             1,
             "#f0f921"
            ]
           ]
          },
          "colorway": [
           "#636efa",
           "#EF553B",
           "#00cc96",
           "#ab63fa",
           "#FFA15A",
           "#19d3f3",
           "#FF6692",
           "#B6E880",
           "#FF97FF",
           "#FECB52"
          ],
          "font": {
           "color": "#2a3f5f"
          },
          "geo": {
           "bgcolor": "white",
           "lakecolor": "white",
           "landcolor": "#E5ECF6",
           "showlakes": true,
           "showland": true,
           "subunitcolor": "white"
          },
          "hoverlabel": {
           "align": "left"
          },
          "hovermode": "closest",
          "mapbox": {
           "style": "light"
          },
          "paper_bgcolor": "white",
          "plot_bgcolor": "#E5ECF6",
          "polar": {
           "angularaxis": {
            "gridcolor": "white",
            "linecolor": "white",
            "ticks": ""
           },
           "bgcolor": "#E5ECF6",
           "radialaxis": {
            "gridcolor": "white",
            "linecolor": "white",
            "ticks": ""
           }
          },
          "scene": {
           "xaxis": {
            "backgroundcolor": "#E5ECF6",
            "gridcolor": "white",
            "gridwidth": 2,
            "linecolor": "white",
            "showbackground": true,
            "ticks": "",
            "zerolinecolor": "white"
           },
           "yaxis": {
            "backgroundcolor": "#E5ECF6",
            "gridcolor": "white",
            "gridwidth": 2,
            "linecolor": "white",
            "showbackground": true,
            "ticks": "",
            "zerolinecolor": "white"
           },
           "zaxis": {
            "backgroundcolor": "#E5ECF6",
            "gridcolor": "white",
            "gridwidth": 2,
            "linecolor": "white",
            "showbackground": true,
            "ticks": "",
            "zerolinecolor": "white"
           }
          },
          "shapedefaults": {
           "line": {
            "color": "#2a3f5f"
           }
          },
          "ternary": {
           "aaxis": {
            "gridcolor": "white",
            "linecolor": "white",
            "ticks": ""
           },
           "baxis": {
            "gridcolor": "white",
            "linecolor": "white",
            "ticks": ""
           },
           "bgcolor": "#E5ECF6",
           "caxis": {
            "gridcolor": "white",
            "linecolor": "white",
            "ticks": ""
           }
          },
          "title": {
           "x": 0.05
          },
          "xaxis": {
           "automargin": true,
           "gridcolor": "white",
           "linecolor": "white",
           "ticks": "",
           "title": {
            "standoff": 15
           },
           "zerolinecolor": "white",
           "zerolinewidth": 2
          },
          "yaxis": {
           "automargin": true,
           "gridcolor": "white",
           "linecolor": "white",
           "ticks": "",
           "title": {
            "standoff": 15
           },
           "zerolinecolor": "white",
           "zerolinewidth": 2
          }
         }
        },
        "title": {
         "text": "Top 5 des plus gros posteurs lors de SpeeDons 2022",
         "x": 0.5,
         "xanchor": "center",
         "y": 0.95,
         "yanchor": "top"
        },
        "xaxis": {
         "anchor": "y",
         "categoryarray": [
          "J0selitoo",
          "KBlastR",
          "YohanLeHeroo",
          "CoLLiNeClegane",
          "ForbiddenPit"
         ],
         "categoryorder": "array",
         "domain": [
          0,
          1
         ],
         "title": {
          "text": "Auteur"
         }
        },
        "yaxis": {
         "anchor": "x",
         "domain": [
          0,
          1
         ],
         "title": {
          "text": "Nombre de messages"
         }
        }
       }
      }
     },
     "metadata": {},
     "output_type": "display_data"
    }
   ],
   "source": [
    "fig_2 = px.bar(data_frame=n_best_viewers, y=\"message\", color=n_best_viewers.index, text=[f'{i}' for i in n_best_viewers['message']])\n",
    "fig_2.update_layout(title={\n",
    "        'text': f\"Top {N} des plus gros posteurs lors de SpeeDons 2022\",\n",
    "        'y':0.95,\n",
    "        'x':0.5,\n",
    "        'xanchor': 'center',\n",
    "        'yanchor': 'top'})\n",
    "fig_2.update_xaxes(title=\"Auteur\")\n",
    "fig_2.update_yaxes(title=\"Nombre de messages\")"
   ]
  },
  {
   "cell_type": "markdown",
   "metadata": {},
   "source": [
    "Messages des gros streamers"
   ]
  },
  {
   "cell_type": "code",
   "execution_count": 22,
   "metadata": {},
   "outputs": [],
   "source": [
    "def get_user_messages(author):\n",
    "    return messages[messages[\"author_name\"] == author][\"message\"]"
   ]
  },
  {
   "cell_type": "code",
   "execution_count": 23,
   "metadata": {},
   "outputs": [
    {
     "name": "stdout",
     "output_type": "stream",
     "text": [
      "mistermv messages :\n",
      "MOAR COWBELL\n",
      "Bon j'ai publié la VOD mais elle fait 32h donc ça va prendre quelques minutes lol\n",
      "\n",
      "\n",
      "ZeratoR messages :\n",
      "JDF en effet @kwev\n",
      "17006/20000\n",
      "17285/20000\n",
      "17737/20000 !!!\n",
      "monkaS\n",
      "monkaS monkaS monkaS\n",
      "🥵\n",
      "monkaS\n",
      "zrtPetthezerator\n",
      "monkaS\n",
      "monkaS\n",
      "Ho putain\n",
      "monkaS monkaS monkaS\n",
      "Regarde pas derrière toi monkaS\n",
      "monkaS\n",
      "monkaS je suis en détente monkaS\n",
      "monkaS\n",
      "zrtNotLikeThis\n",
      "monkaS\n",
      "monkaS hoooo\n",
      "monkaS\n",
      "Ça va\n",
      "Encore le lobby des douches pour nous les gamers…..\n",
      "Attendez mais la run va durer 5h là ?\n",
      "Attendez mais la run dure 5h?\n",
      "Je ne suis pas ZeratoR je suis le bot qui le remplace car il dort (non)\n",
      "@yamato une belle nuit à vous\n",
      "Attendez mais la run dure 5h là ?\n",
      "ééééééééééééééééya\n",
      "le runner joue vraiment bien, il s'appelle TAS c'est ça ?\n",
      "non seulement le runner TAS est très fort, mais c'est pas la première fois que je le vois faire du speedrun, il doit vraiment avoir du temps à perdre\n",
      "je connais TAS en vrai il est assez prétentieux, toujours à dire \"je suis le meilleur, vous ne pouvez pas me battre\" nieunieunieu\n",
      "L\n",
      "G\n",
      "attendez la run dure 5h\n",
      "quel jeu de fou sérieux putain EDMOND\n",
      "clairement un JDF\n",
      "Le runner à gauche de MV joue avec les pieds c'est pur ça qu'il ne tient pas de manette\n",
      "bonjour à tous, c'est MV qui joue actuellement ?\n",
      "attendez la run dure 5h là ?\n",
      "ha ok donc c'est Ponce qui joue je comprenais pas merci damdam !\n",
      "c'est quoi ce jeu tout bugué xDDD les devs ont aucune chance que le jeu ai du succès sérieux xDD\n",
      "?????????????\n",
      "mais vous trichez Monsieur\n",
      "HA OUI C EST VRAI MOI J ADORE CA\n",
      "Je comprends pas pourquoi Ama se déconcentre franchement il pourrait faire un effort au prix qu’on le paye……\n",
      "U\n",
      "\n",
      "\n",
      "DamDamLive messages :\n",
      "SVP allez y molo avec les références politiques dans vos dons ahahah\n",
      "pour les noms des casteurs, ça sera indiqué soon sur l'overlay, la régie bosse dessus !\n",
      "Les 20000€ avant la fin de Monkey Ball ?\n",
      "dans le doute, faites des dons ahahaha\n",
      "Objectif : Chicorée, l'ami du petit déjeuner\n",
      "@bracmort\n",
      "nope\n",
      "meilleure musique franchement\n",
      "Oubliez pas l'incentive pour le prochain jeu ! Masque blindfold : Chaton (255€) VS Doge (240€)\n",
      "j'ai passé 1 heure sur Kraid la 1ère fois NotLikeThis\n",
      "Attendez là\n",
      "200000 WHEN ???\n",
      "Hey @raie_de_boule !\n",
      "#JeSuisOuafOuaf\n",
      "Speedrun légendaire bon sang\n",
      "ahahahahah\n",
      "putain c'est génial ahahah\n",
      "Tiens tiens tiens...y a pas un nouveau défi dans les incentives ?\n",
      "Allez, 500'000€ là !!\n",
      "C'est LE moment pour prendre des notes ahahah\n",
      "498K !!!!\n",
      "plus que 30 secondes\n",
      "Aelthan et Zerator, le feat le plus audacieux depuis la création d'internet\n",
      "c'est qui l'influenceur à côté d'Aelthan ?\n",
      "\n",
      "\n"
     ]
    }
   ],
   "source": [
    "big_streamers = [\"mistermv\", \"ZeratoR\", \"DamDamLive\"]\n",
    "\n",
    "for streamer in big_streamers:\n",
    "    print(f\"{streamer} messages :\")\n",
    "    for message in get_user_messages(streamer):\n",
    "        print(message)\n",
    "    print(\"\\n\")"
   ]
  },
  {
   "cell_type": "markdown",
   "metadata": {},
   "source": [
    "Proportion de viewers qui ont posté non abonnés à MV"
   ]
  },
  {
   "cell_type": "code",
   "execution_count": 24,
   "metadata": {},
   "outputs": [
    {
     "name": "stdout",
     "output_type": "stream",
     "text": [
      "La proportion de viewers ayant posté non abonnés à MV lors de SpeeDons 2022 a été de 85.17% !\n"
     ]
    }
   ],
   "source": [
    "nb_mv_subscriber = len(messages[messages[\"MV_subscriber\"]])\n",
    "\n",
    "print(\"La proportion de viewers ayant posté non abonnés à MV lors de SpeeDons 2022 a été de {:.2f}% !\".format(100 - nb_mv_subscriber *100 / len(messages)))"
   ]
  },
  {
   "cell_type": "markdown",
   "metadata": {},
   "source": [
    "Distribution de la longeur des messages"
   ]
  },
  {
   "cell_type": "code",
   "execution_count": 25,
   "metadata": {},
   "outputs": [
    {
     "name": "stderr",
     "output_type": "stream",
     "text": [
      "/home/cmnemoi/miniconda3/envs/SpeeDonsChatAnalysis/lib/python3.10/site-packages/seaborn/distributions.py:2619: FutureWarning:\n",
      "\n",
      "`distplot` is a deprecated function and will be removed in a future version. Please adapt your code to use either `displot` (a figure-level function with similar flexibility) or `histplot` (an axes-level function for histograms).\n",
      "\n"
     ]
    },
    {
     "data": {
      "text/plain": [
       "<AxesSubplot:ylabel='Density'>"
      ]
     },
     "execution_count": 25,
     "metadata": {},
     "output_type": "execute_result"
    },
    {
     "data": {
      "image/png": "[encoded data removed]",
      "text/plain": [
       "<Figure size 432x288 with 1 Axes>"
      ]
     },
     "metadata": {},
     "output_type": "display_data"
    }
   ],
   "source": [
    "messages_length = pd.Series([len(message) for message in messages[\"message\"]]);messages_length\n",
    "\n",
    "sns.distplot(x=messages_length)"
   ]
  },
  {
   "cell_type": "code",
   "execution_count": 26,
   "metadata": {},
   "outputs": [
    {
     "name": "stdout",
     "output_type": "stream",
     "text": [
      "Le message le plus court a été un sobre \"J\" au mileu d'un spam d'emotes. Voilà, merci kekegolden pour cette éloquence sans nom\n"
     ]
    }
   ],
   "source": [
    "print('Le message le plus court a été un sobre \"{}\" au mileu d\\'un spam d\\'emotes. Voilà, merci {} pour cette éloquence sans nom'.format(messages.loc[messages_length.argmin(),\"message\"], messages.loc[messages_length.argmin(),\"author_name\"]))"
   ]
  },
  {
   "cell_type": "code",
   "execution_count": 27,
   "metadata": {},
   "outputs": [
    {
     "name": "stdout",
     "output_type": "stream",
     "text": [
      "Le message le plus long a été \"ponceOVERTOAD zrtSauron ponceOVERTOAD zrtSauron ponceOVERTOAD zrtSauron ponceOVERTOAD zrtSauron ponceOVERTOAD zrtSauron ponceOVERTOAD zrtSauron ponceOVERTOAD zrtSauron ponceOVERTOAD zrtSauron ponceOVERTOAD zrtSauron ponceOVERTOAD zrtSauron ponceOVERTOAD zrtSauron ponceOVERTOAD zrtSauron ponceOVERTOAD zrtSauron ponceOVERTOAD zrtSauron ponceOVERTOAD zrtSauron ponceOVERTOAD zrtSauron ponceOVERTOAD zrtSauron ponceOVERTOAD zrtSauron ponceOVERTOAD zrtSauron ponceOVERTOAD zrtSauron ponceOVERTOAD zrtSau\".\n",
      "Merci Mousttachou pour ton enthousiasme!\n"
     ]
    }
   ],
   "source": [
    "index_longuest_message = messages_length.argmax()\n",
    "print('Le message le plus long a été \"{}\".\\nMerci {} pour ton enthousiasme!'.format(messages.loc[index_longuest_message,\"message\"], messages.loc[index_longuest_message,\"author_name\"]))"
   ]
  },
  {
   "cell_type": "code",
   "execution_count": 28,
   "metadata": {},
   "outputs": [],
   "source": [
    "temp = list(STOP_WORDS)\n",
    "STOP_WORDS = [word.upper() for word in temp]"
   ]
  },
  {
   "cell_type": "code",
   "execution_count": 29,
   "metadata": {},
   "outputs": [],
   "source": [
    "list_messages = [message for message in messages[\"message\"]]\n",
    "words = pd.Series([word.split(' ') for word in list_messages])\n",
    "words = words.explode().reset_index(drop=True)\n",
    "words = pd.Series([word.upper() for word in words]).value_counts()\n",
    "words = words.drop(STOP_WORDS, errors='ignore')"
   ]
  },
  {
   "cell_type": "code",
   "execution_count": 30,
   "metadata": {},
   "outputs": [
    {
     "data": {
      "text/plain": [
       "PEPOG        45964\n",
       "CLAP         32575\n",
       "CATJAM       21292\n",
       "<3           19730\n",
       "GG           18170\n",
       "             ...  \n",
       "DARONNES         1\n",
       "ENFOIROS         1\n",
       "130K!!!          1\n",
       "SACRILÈGE        1\n",
       "SILENCE.         1\n",
       "Length: 67206, dtype: int64"
      ]
     },
     "execution_count": 30,
     "metadata": {},
     "output_type": "execute_result"
    }
   ],
   "source": [
    "words"
   ]
  },
  {
   "cell_type": "code",
   "execution_count": 31,
   "metadata": {},
   "outputs": [
    {
     "data": {
      "text/plain": [
       "PEPOG        0.046002\n",
       "CLAP         0.032602\n",
       "CATJAM       0.021309\n",
       "<3           0.019746\n",
       "GG           0.018185\n",
       "               ...   \n",
       "DARONNES     0.000001\n",
       "ENFOIROS     0.000001\n",
       "130K!!!      0.000001\n",
       "SACRILÈGE    0.000001\n",
       "SILENCE.     0.000001\n",
       "Length: 67205, dtype: float64"
      ]
     },
     "execution_count": 31,
     "metadata": {},
     "output_type": "execute_result"
    }
   ],
   "source": [
    "words_frequency = words / words.sum()\n",
    "words_frequency.drop(\"\", inplace=True)\n",
    "words_frequency"
   ]
  },
  {
   "cell_type": "code",
   "execution_count": 32,
   "metadata": {},
   "outputs": [],
   "source": [
    "def generate_wordcloud(data, title, mask=None, colored=False):\n",
    "        cloud = WordCloud(scale=3,\n",
    "                        mask=mask,\n",
    "                        background_color='white', random_state=0).generate_from_frequencies(data)\n",
    "        \n",
    "        plt.figure(figsize=(10,8))\n",
    "        if colored:\n",
    "            plt.imshow(cloud.recolor(color_func=ImageColorGenerator(mask)))\n",
    "        else:\n",
    "            plt.imshow(cloud)\n",
    "        plt.axis('off')\n",
    "        plt.title(title, fontsize=30)\n",
    "        plt.show()"
   ]
  },
  {
   "cell_type": "code",
   "execution_count": 33,
   "metadata": {},
   "outputs": [
    {
     "data": {
      "image/png": "[encoded data removed]",
      "text/plain": [
       "<Figure size 720x576 with 1 Axes>"
      ]
     },
     "metadata": {},
     "output_type": "display_data"
    }
   ],
   "source": [
    "speedons_logo = np.array(Image.open('../data/speedons_logo.png'))\n",
    "\n",
    "generate_wordcloud(words_frequency, \"Nuage de mots de SpeeDons 2022\", mask=speedons_logo)"
   ]
  },
  {
   "cell_type": "markdown",
   "metadata": {},
   "source": [
    "Time series du nombre de messages"
   ]
  },
  {
   "cell_type": "code",
   "execution_count": 34,
   "metadata": {},
   "outputs": [
    {
     "data": {
      "text/html": [
       "<div>\n",
       "<style scoped>\n",
       "    .dataframe tbody tr th:only-of-type {\n",
       "        vertical-align: middle;\n",
       "    }\n",
       "\n",
       "    .dataframe tbody tr th {\n",
       "        vertical-align: top;\n",
       "    }\n",
       "\n",
       "    .dataframe thead th {\n",
       "        text-align: right;\n",
       "    }\n",
       "</style>\n",
       "<table border=\"1\" class=\"dataframe\">\n",
       "  <thead>\n",
       "    <tr style=\"text-align: right;\">\n",
       "      <th></th>\n",
       "      <th>date</th>\n",
       "      <th>message</th>\n",
       "    </tr>\n",
       "    <tr>\n",
       "      <th>date</th>\n",
       "      <th></th>\n",
       "      <th></th>\n",
       "    </tr>\n",
       "  </thead>\n",
       "  <tbody>\n",
       "    <tr>\n",
       "      <th>2022-04-15 13:17:30.566000+00:00</th>\n",
       "      <td>2022-04-15 13:17:30.566000+00:00</td>\n",
       "      <td>SwiftRage</td>\n",
       "    </tr>\n",
       "    <tr>\n",
       "      <th>2022-04-15 13:17:32.201000+00:00</th>\n",
       "      <td>2022-04-15 13:17:32.201000+00:00</td>\n",
       "      <td>ponceOVERTOAD ponceOVERTOAD ponceOVERTOAD ponc...</td>\n",
       "    </tr>\n",
       "    <tr>\n",
       "      <th>2022-04-15 13:17:34.090000+00:00</th>\n",
       "      <td>2022-04-15 13:17:34.090000+00:00</td>\n",
       "      <td>Here we go POGGERS</td>\n",
       "    </tr>\n",
       "    <tr>\n",
       "      <th>2022-04-15 13:17:34.257000+00:00</th>\n",
       "      <td>2022-04-15 13:17:34.257000+00:00</td>\n",
       "      <td>zrtDance</td>\n",
       "    </tr>\n",
       "    <tr>\n",
       "      <th>2022-04-15 13:17:36.161000+00:00</th>\n",
       "      <td>2022-04-15 13:17:36.161000+00:00</td>\n",
       "      <td>PepoDance PepoDance PepoDance PepoDance PepoDa...</td>\n",
       "    </tr>\n",
       "    <tr>\n",
       "      <th>...</th>\n",
       "      <td>...</td>\n",
       "      <td>...</td>\n",
       "    </tr>\n",
       "    <tr>\n",
       "      <th>2022-04-17 20:46:35.772000+00:00</th>\n",
       "      <td>2022-04-17 20:46:35.772000+00:00</td>\n",
       "      <td>la prochaine fois y'aura elden ring !</td>\n",
       "    </tr>\n",
       "    <tr>\n",
       "      <th>2022-04-17 20:46:36.120000+00:00</th>\n",
       "      <td>2022-04-17 20:46:36.120000+00:00</td>\n",
       "      <td>@LeNuageux Elden Ring n'était pas sorti lors d...</td>\n",
       "    </tr>\n",
       "    <tr>\n",
       "      <th>2022-04-17 20:46:36.936000+00:00</th>\n",
       "      <td>2022-04-17 20:46:36.936000+00:00</td>\n",
       "      <td>Bonne nuit à tous !</td>\n",
       "    </tr>\n",
       "    <tr>\n",
       "      <th>2022-04-17 20:46:37.484000+00:00</th>\n",
       "      <td>2022-04-17 20:46:37.484000+00:00</td>\n",
       "      <td>et merde</td>\n",
       "    </tr>\n",
       "    <tr>\n",
       "      <th>2022-04-17 20:46:38.208000+00:00</th>\n",
       "      <td>2022-04-17 20:46:38.208000+00:00</td>\n",
       "      <td>bonne nuit tout le monde à l'année prochaine :D</td>\n",
       "    </tr>\n",
       "  </tbody>\n",
       "</table>\n",
       "<p>280816 rows × 2 columns</p>\n",
       "</div>"
      ],
      "text/plain": [
       "                                                             date  \\\n",
       "date                                                                \n",
       "2022-04-15 13:17:30.566000+00:00 2022-04-15 13:17:30.566000+00:00   \n",
       "2022-04-15 13:17:32.201000+00:00 2022-04-15 13:17:32.201000+00:00   \n",
       "2022-04-15 13:17:34.090000+00:00 2022-04-15 13:17:34.090000+00:00   \n",
       "2022-04-15 13:17:34.257000+00:00 2022-04-15 13:17:34.257000+00:00   \n",
       "2022-04-15 13:17:36.161000+00:00 2022-04-15 13:17:36.161000+00:00   \n",
       "...                                                           ...   \n",
       "2022-04-17 20:46:35.772000+00:00 2022-04-17 20:46:35.772000+00:00   \n",
       "2022-04-17 20:46:36.120000+00:00 2022-04-17 20:46:36.120000+00:00   \n",
       "2022-04-17 20:46:36.936000+00:00 2022-04-17 20:46:36.936000+00:00   \n",
       "2022-04-17 20:46:37.484000+00:00 2022-04-17 20:46:37.484000+00:00   \n",
       "2022-04-17 20:46:38.208000+00:00 2022-04-17 20:46:38.208000+00:00   \n",
       "\n",
       "                                                                            message  \n",
       "date                                                                                 \n",
       "2022-04-15 13:17:30.566000+00:00                                          SwiftRage  \n",
       "2022-04-15 13:17:32.201000+00:00  ponceOVERTOAD ponceOVERTOAD ponceOVERTOAD ponc...  \n",
       "2022-04-15 13:17:34.090000+00:00                                 Here we go POGGERS  \n",
       "2022-04-15 13:17:34.257000+00:00                                           zrtDance  \n",
       "2022-04-15 13:17:36.161000+00:00  PepoDance PepoDance PepoDance PepoDance PepoDa...  \n",
       "...                                                                             ...  \n",
       "2022-04-17 20:46:35.772000+00:00              la prochaine fois y'aura elden ring !  \n",
       "2022-04-17 20:46:36.120000+00:00  @LeNuageux Elden Ring n'était pas sorti lors d...  \n",
       "2022-04-17 20:46:36.936000+00:00                                Bonne nuit à tous !  \n",
       "2022-04-17 20:46:37.484000+00:00                                           et merde  \n",
       "2022-04-17 20:46:38.208000+00:00    bonne nuit tout le monde à l'année prochaine :D  \n",
       "\n",
       "[280816 rows x 2 columns]"
      ]
     },
     "execution_count": 34,
     "metadata": {},
     "output_type": "execute_result"
    }
   ],
   "source": [
    "time_series_df = messages[[\"date\", \"message\"]]\n",
    "time_series_df.index = time_series_df[\"date\"]\n",
    "time_series_df"
   ]
  },
  {
   "cell_type": "code",
   "execution_count": 35,
   "metadata": {},
   "outputs": [
    {
     "name": "stderr",
     "output_type": "stream",
     "text": [
      "/tmp/ipykernel_2317/1353942380.py:1: SettingWithCopyWarning:\n",
      "\n",
      "\n",
      "A value is trying to be set on a copy of a slice from a DataFrame.\n",
      "Try using .loc[row_indexer,col_indexer] = value instead\n",
      "\n",
      "See the caveats in the documentation: https://pandas.pydata.org/pandas-docs/stable/user_guide/indexing.html#returning-a-view-versus-a-copy\n",
      "\n"
     ]
    }
   ],
   "source": [
    "time_series_df[\"new_date\"] = time_series_df[\"date\"].dt.floor('10T') #slicing date per 10 minutes intervals"
   ]
  },
  {
   "cell_type": "code",
   "execution_count": 36,
   "metadata": {},
   "outputs": [],
   "source": [
    "nb_messages_per_10_minutes = time_series_df.groupby(\"new_date\").count()[[\"message\"]]"
   ]
  },
  {
   "cell_type": "code",
   "execution_count": 40,
   "metadata": {},
   "outputs": [],
   "source": [
    "nb_messages_per_10_minutes = nb_messages_per_10_minutes.tz_convert(\"Europe/Paris\") #convert dates to CET"
   ]
  },
  {
   "cell_type": "code",
   "execution_count": 60,
   "metadata": {},
   "outputs": [
    {
     "data": {
      "text/html": [
       "<div>\n",
       "<style scoped>\n",
       "    .dataframe tbody tr th:only-of-type {\n",
       "        vertical-align: middle;\n",
       "    }\n",
       "\n",
       "    .dataframe tbody tr th {\n",
       "        vertical-align: top;\n",
       "    }\n",
       "\n",
       "    .dataframe thead th {\n",
       "        text-align: right;\n",
       "    }\n",
       "</style>\n",
       "<table border=\"1\" class=\"dataframe\">\n",
       "  <thead>\n",
       "    <tr style=\"text-align: right;\">\n",
       "      <th></th>\n",
       "      <th>message</th>\n",
       "    </tr>\n",
       "    <tr>\n",
       "      <th>new_date</th>\n",
       "      <th></th>\n",
       "    </tr>\n",
       "  </thead>\n",
       "  <tbody>\n",
       "    <tr>\n",
       "      <th>2022-04-15 15:10:00+02:00</th>\n",
       "      <td>90</td>\n",
       "    </tr>\n",
       "    <tr>\n",
       "      <th>2022-04-15 15:20:00+02:00</th>\n",
       "      <td>354</td>\n",
       "    </tr>\n",
       "    <tr>\n",
       "      <th>2022-04-15 15:30:00+02:00</th>\n",
       "      <td>464</td>\n",
       "    </tr>\n",
       "    <tr>\n",
       "      <th>2022-04-15 15:40:00+02:00</th>\n",
       "      <td>1470</td>\n",
       "    </tr>\n",
       "    <tr>\n",
       "      <th>2022-04-15 15:50:00+02:00</th>\n",
       "      <td>1021</td>\n",
       "    </tr>\n",
       "    <tr>\n",
       "      <th>...</th>\n",
       "      <td>...</td>\n",
       "    </tr>\n",
       "    <tr>\n",
       "      <th>2022-04-17 22:00:00+02:00</th>\n",
       "      <td>2760</td>\n",
       "    </tr>\n",
       "    <tr>\n",
       "      <th>2022-04-17 22:10:00+02:00</th>\n",
       "      <td>3771</td>\n",
       "    </tr>\n",
       "    <tr>\n",
       "      <th>2022-04-17 22:20:00+02:00</th>\n",
       "      <td>4379</td>\n",
       "    </tr>\n",
       "    <tr>\n",
       "      <th>2022-04-17 22:30:00+02:00</th>\n",
       "      <td>4498</td>\n",
       "    </tr>\n",
       "    <tr>\n",
       "      <th>2022-04-17 22:40:00+02:00</th>\n",
       "      <td>1281</td>\n",
       "    </tr>\n",
       "  </tbody>\n",
       "</table>\n",
       "<p>334 rows × 1 columns</p>\n",
       "</div>"
      ],
      "text/plain": [
       "                           message\n",
       "new_date                          \n",
       "2022-04-15 15:10:00+02:00       90\n",
       "2022-04-15 15:20:00+02:00      354\n",
       "2022-04-15 15:30:00+02:00      464\n",
       "2022-04-15 15:40:00+02:00     1470\n",
       "2022-04-15 15:50:00+02:00     1021\n",
       "...                            ...\n",
       "2022-04-17 22:00:00+02:00     2760\n",
       "2022-04-17 22:10:00+02:00     3771\n",
       "2022-04-17 22:20:00+02:00     4379\n",
       "2022-04-17 22:30:00+02:00     4498\n",
       "2022-04-17 22:40:00+02:00     1281\n",
       "\n",
       "[334 rows x 1 columns]"
      ]
     },
     "execution_count": 60,
     "metadata": {},
     "output_type": "execute_result"
    }
   ],
   "source": [
    "nb_messages_per_10_minutes"
   ]
  },
  {
   "cell_type": "code",
   "execution_count": 94,
   "metadata": {},
   "outputs": [
    {
     "data": {
      "application/vnd.plotly.v1+json": {
       "config": {
        "plotlyServerURL": "https://plot.ly"
       },
       "data": [
        {
         "type": "scatter",
         "x": [
          "2022-04-15T15:10:00+02:00",
          "2022-04-15T15:20:00+02:00",
          "2022-04-15T15:30:00+02:00",
          "2022-04-15T15:40:00+02:00",
          "2022-04-15T15:50:00+02:00",
          "2022-04-15T16:00:00+02:00",
          "2022-04-15T16:10:00+02:00",
          "2022-04-15T16:20:00+02:00",
          "2022-04-15T16:30:00+02:00",
          "2022-04-15T16:40:00+02:00",
          "2022-04-15T16:50:00+02:00",
          "2022-04-15T17:00:00+02:00",
          "2022-04-15T17:10:00+02:00",
          "2022-04-15T17:20:00+02:00",
          "2022-04-15T17:30:00+02:00",
          "2022-04-15T17:40:00+02:00",
          "2022-04-15T17:50:00+02:00",
          "2022-04-15T18:00:00+02:00",
          "2022-04-15T18:10:00+02:00",
          "2022-04-15T18:20:00+02:00",
          "2022-04-15T18:30:00+02:00",
          "2022-04-15T18:40:00+02:00",
          "2022-04-15T18:50:00+02:00",
          "2022-04-15T19:00:00+02:00",
          "2022-04-15T19:10:00+02:00",
          "2022-04-15T19:20:00+02:00",
          "2022-04-15T19:30:00+02:00",
          "2022-04-15T19:40:00+02:00",
          "2022-04-15T19:50:00+02:00",
          "2022-04-15T20:00:00+02:00",
          "2022-04-15T20:10:00+02:00",
          "2022-04-15T20:20:00+02:00",
          "2022-04-15T20:30:00+02:00",
          "2022-04-15T20:40:00+02:00",
          "2022-04-15T20:50:00+02:00",
          "2022-04-15T21:00:00+02:00",
          "2022-04-15T21:10:00+02:00",
          "2022-04-15T21:20:00+02:00",
          "2022-04-15T21:30:00+02:00",
          "2022-04-15T21:40:00+02:00",
          "2022-04-15T21:50:00+02:00",
          "2022-04-15T22:00:00+02:00",
          "2022-04-15T22:10:00+02:00",
          "2022-04-15T22:20:00+02:00",
          "2022-04-15T22:30:00+02:00",
          "2022-04-15T22:40:00+02:00",
          "2022-04-15T22:50:00+02:00",
          "2022-04-15T23:00:00+02:00",
          "2022-04-15T23:10:00+02:00",
          "2022-04-15T23:20:00+02:00",
          "2022-04-15T23:30:00+02:00",
          "2022-04-15T23:40:00+02:00",
          "2022-04-15T23:50:00+02:00",
          "2022-04-16T00:00:00+02:00",
          "2022-04-16T00:10:00+02:00",
          "2022-04-16T00:20:00+02:00",
          "2022-04-16T00:30:00+02:00",
          "2022-04-16T00:40:00+02:00",
          "2022-04-16T00:50:00+02:00",
          "2022-04-16T01:00:00+02:00",
          "2022-04-16T01:10:00+02:00",
          "2022-04-16T01:20:00+02:00",
          "2022-04-16T01:30:00+02:00",
          "2022-04-16T01:40:00+02:00",
          "2022-04-16T01:50:00+02:00",
          "2022-04-16T02:00:00+02:00",
          "2022-04-16T02:10:00+02:00",
          "2022-04-16T02:20:00+02:00",
          "2022-04-16T02:30:00+02:00",
          "2022-04-16T02:40:00+02:00",
          "2022-04-16T02:50:00+02:00",
          "2022-04-16T03:00:00+02:00",
          "2022-04-16T03:10:00+02:00",
          "2022-04-16T03:20:00+02:00",
          "2022-04-16T03:30:00+02:00",
          "2022-04-16T03:40:00+02:00",
          "2022-04-16T03:50:00+02:00",
          "2022-04-16T04:00:00+02:00",
          "2022-04-16T04:10:00+02:00",
          "2022-04-16T04:20:00+02:00",
          "2022-04-16T04:30:00+02:00",
          "2022-04-16T04:40:00+02:00",
          "2022-04-16T04:50:00+02:00",
          "2022-04-16T05:00:00+02:00",
          "2022-04-16T05:10:00+02:00",
          "2022-04-16T05:20:00+02:00",
          "2022-04-16T05:30:00+02:00",
          "2022-04-16T05:40:00+02:00",
          "2022-04-16T05:50:00+02:00",
          "2022-04-16T06:00:00+02:00",
          "2022-04-16T06:10:00+02:00",
          "2022-04-16T06:20:00+02:00",
          "2022-04-16T06:30:00+02:00",
          "2022-04-16T06:40:00+02:00",
          "2022-04-16T06:50:00+02:00",
          "2022-04-16T07:00:00+02:00",
          "2022-04-16T07:10:00+02:00",
          "2022-04-16T07:20:00+02:00",
          "2022-04-16T07:30:00+02:00",
          "2022-04-16T07:40:00+02:00",
          "2022-04-16T07:50:00+02:00",
          "2022-04-16T08:00:00+02:00",
          "2022-04-16T08:10:00+02:00",
          "2022-04-16T08:20:00+02:00",
          "2022-04-16T08:30:00+02:00",
          "2022-04-16T08:40:00+02:00",
          "2022-04-16T08:50:00+02:00",
          "2022-04-16T09:00:00+02:00",
          "2022-04-16T09:10:00+02:00",
          "2022-04-16T09:20:00+02:00",
          "2022-04-16T09:30:00+02:00",
          "2022-04-16T09:40:00+02:00",
          "2022-04-16T09:50:00+02:00",
          "2022-04-16T10:00:00+02:00",
          "2022-04-16T10:10:00+02:00",
          "2022-04-16T10:20:00+02:00",
          "2022-04-16T10:30:00+02:00",
          "2022-04-16T10:40:00+02:00",
          "2022-04-16T10:50:00+02:00",
          "2022-04-16T11:00:00+02:00",
          "2022-04-16T11:10:00+02:00",
          "2022-04-16T11:20:00+02:00",
          "2022-04-16T11:30:00+02:00",
          "2022-04-16T11:40:00+02:00",
          "2022-04-16T11:50:00+02:00",
          "2022-04-16T12:00:00+02:00",
          "2022-04-16T12:10:00+02:00",
          "2022-04-16T12:20:00+02:00",
          "2022-04-16T12:30:00+02:00",
          "2022-04-16T12:40:00+02:00",
          "2022-04-16T12:50:00+02:00",
          "2022-04-16T13:00:00+02:00",
          "2022-04-16T13:10:00+02:00",
          "2022-04-16T13:20:00+02:00",
          "2022-04-16T13:30:00+02:00",
          "2022-04-16T13:40:00+02:00",
          "2022-04-16T13:50:00+02:00",
          "2022-04-16T14:00:00+02:00",
          "2022-04-16T14:10:00+02:00",
          "2022-04-16T14:20:00+02:00",
          "2022-04-16T14:30:00+02:00",
          "2022-04-16T14:40:00+02:00",
          "2022-04-16T14:50:00+02:00",
          "2022-04-16T15:00:00+02:00",
          "2022-04-16T15:10:00+02:00",
          "2022-04-16T15:20:00+02:00",
          "2022-04-16T15:30:00+02:00",
          "2022-04-16T15:40:00+02:00",
          "2022-04-16T15:50:00+02:00",
          "2022-04-16T16:00:00+02:00",
          "2022-04-16T16:10:00+02:00",
          "2022-04-16T16:20:00+02:00",
          "2022-04-16T16:30:00+02:00",
          "2022-04-16T16:40:00+02:00",
          "2022-04-16T16:50:00+02:00",
          "2022-04-16T17:00:00+02:00",
          "2022-04-16T17:10:00+02:00",
          "2022-04-16T17:20:00+02:00",
          "2022-04-16T17:30:00+02:00",
          "2022-04-16T17:40:00+02:00",
          "2022-04-16T17:50:00+02:00",
          "2022-04-16T18:00:00+02:00",
          "2022-04-16T18:10:00+02:00",
          "2022-04-16T18:20:00+02:00",
          "2022-04-16T18:30:00+02:00",
          "2022-04-16T18:40:00+02:00",
          "2022-04-16T18:50:00+02:00",
          "2022-04-16T19:00:00+02:00",
          "2022-04-16T19:10:00+02:00",
          "2022-04-16T19:20:00+02:00",
          "2022-04-16T19:30:00+02:00",
          "2022-04-16T19:40:00+02:00",
          "2022-04-16T19:50:00+02:00",
          "2022-04-16T20:00:00+02:00",
          "2022-04-16T20:10:00+02:00",
          "2022-04-16T20:20:00+02:00",
          "2022-04-16T20:30:00+02:00",
          "2022-04-16T20:40:00+02:00",
          "2022-04-16T20:50:00+02:00",
          "2022-04-16T21:00:00+02:00",
          "2022-04-16T21:10:00+02:00",
          "2022-04-16T21:20:00+02:00",
          "2022-04-16T21:30:00+02:00",
          "2022-04-16T21:40:00+02:00",
          "2022-04-16T21:50:00+02:00",
          "2022-04-16T22:00:00+02:00",
          "2022-04-16T22:10:00+02:00",
          "2022-04-16T22:20:00+02:00",
          "2022-04-16T22:30:00+02:00",
          "2022-04-16T22:40:00+02:00",
          "2022-04-16T22:50:00+02:00",
          "2022-04-16T23:00:00+02:00",
          "2022-04-16T23:10:00+02:00",
          "2022-04-16T23:20:00+02:00",
          "2022-04-16T23:30:00+02:00",
          "2022-04-16T23:40:00+02:00",
          "2022-04-16T23:50:00+02:00",
          "2022-04-17T00:00:00+02:00",
          "2022-04-17T00:10:00+02:00",
          "2022-04-17T00:20:00+02:00",
          "2022-04-17T00:30:00+02:00",
          "2022-04-17T00:40:00+02:00",
          "2022-04-17T00:50:00+02:00",
          "2022-04-17T01:00:00+02:00",
          "2022-04-17T01:10:00+02:00",
          "2022-04-17T01:20:00+02:00",
          "2022-04-17T01:30:00+02:00",
          "2022-04-17T01:40:00+02:00",
          "2022-04-17T01:50:00+02:00",
          "2022-04-17T02:00:00+02:00",
          "2022-04-17T02:10:00+02:00",
          "2022-04-17T02:20:00+02:00",
          "2022-04-17T02:30:00+02:00",
          "2022-04-17T02:40:00+02:00",
          "2022-04-17T02:50:00+02:00",
          "2022-04-17T03:00:00+02:00",
          "2022-04-17T03:10:00+02:00",
          "2022-04-17T03:20:00+02:00",
          "2022-04-17T03:30:00+02:00",
          "2022-04-17T03:40:00+02:00",
          "2022-04-17T03:50:00+02:00",
          "2022-04-17T04:00:00+02:00",
          "2022-04-17T04:10:00+02:00",
          "2022-04-17T04:20:00+02:00",
          "2022-04-17T04:30:00+02:00",
          "2022-04-17T04:40:00+02:00",
          "2022-04-17T04:50:00+02:00",
          "2022-04-17T05:00:00+02:00",
          "2022-04-17T05:10:00+02:00",
          "2022-04-17T05:20:00+02:00",
          "2022-04-17T05:30:00+02:00",
          "2022-04-17T05:40:00+02:00",
          "2022-04-17T05:50:00+02:00",
          "2022-04-17T06:00:00+02:00",
          "2022-04-17T06:10:00+02:00",
          "2022-04-17T06:20:00+02:00",
          "2022-04-17T06:30:00+02:00",
          "2022-04-17T06:40:00+02:00",
          "2022-04-17T06:50:00+02:00",
          "2022-04-17T07:00:00+02:00",
          "2022-04-17T07:10:00+02:00",
          "2022-04-17T07:20:00+02:00",
          "2022-04-17T07:30:00+02:00",
          "2022-04-17T07:40:00+02:00",
          "2022-04-17T07:50:00+02:00",
          "2022-04-17T08:00:00+02:00",
          "2022-04-17T08:10:00+02:00",
          "2022-04-17T08:20:00+02:00",
          "2022-04-17T08:30:00+02:00",
          "2022-04-17T08:40:00+02:00",
          "2022-04-17T08:50:00+02:00",
          "2022-04-17T09:00:00+02:00",
          "2022-04-17T09:10:00+02:00",
          "2022-04-17T09:20:00+02:00",
          "2022-04-17T09:30:00+02:00",
          "2022-04-17T09:40:00+02:00",
          "2022-04-17T09:50:00+02:00",
          "2022-04-17T10:00:00+02:00",
          "2022-04-17T10:10:00+02:00",
          "2022-04-17T10:20:00+02:00",
          "2022-04-17T10:30:00+02:00",
          "2022-04-17T10:40:00+02:00",
          "2022-04-17T10:50:00+02:00",
          "2022-04-17T11:00:00+02:00",
          "2022-04-17T11:10:00+02:00",
          "2022-04-17T11:20:00+02:00",
          "2022-04-17T11:30:00+02:00",
          "2022-04-17T11:40:00+02:00",
          "2022-04-17T11:50:00+02:00",
          "2022-04-17T12:00:00+02:00",
          "2022-04-17T12:10:00+02:00",
          "2022-04-17T12:20:00+02:00",
          "2022-04-17T12:30:00+02:00",
          "2022-04-17T12:40:00+02:00",
          "2022-04-17T12:50:00+02:00",
          "2022-04-17T13:00:00+02:00",
          "2022-04-17T13:10:00+02:00",
          "2022-04-17T13:20:00+02:00",
          "2022-04-17T13:30:00+02:00",
          "2022-04-17T13:40:00+02:00",
          "2022-04-17T13:50:00+02:00",
          "2022-04-17T14:00:00+02:00",
          "2022-04-17T14:10:00+02:00",
          "2022-04-17T14:20:00+02:00",
          "2022-04-17T14:30:00+02:00",
          "2022-04-17T14:40:00+02:00",
          "2022-04-17T14:50:00+02:00",
          "2022-04-17T15:00:00+02:00",
          "2022-04-17T15:10:00+02:00",
          "2022-04-17T15:20:00+02:00",
          "2022-04-17T15:30:00+02:00",
          "2022-04-17T15:40:00+02:00",
          "2022-04-17T15:50:00+02:00",
          "2022-04-17T16:00:00+02:00",
          "2022-04-17T16:10:00+02:00",
          "2022-04-17T16:20:00+02:00",
          "2022-04-17T16:30:00+02:00",
          "2022-04-17T16:40:00+02:00",
          "2022-04-17T16:50:00+02:00",
          "2022-04-17T17:00:00+02:00",
          "2022-04-17T17:10:00+02:00",
          "2022-04-17T17:20:00+02:00",
          "2022-04-17T17:30:00+02:00",
          "2022-04-17T17:40:00+02:00",
          "2022-04-17T17:50:00+02:00",
          "2022-04-17T18:00:00+02:00",
          "2022-04-17T18:10:00+02:00",
          "2022-04-17T18:20:00+02:00",
          "2022-04-17T18:30:00+02:00",
          "2022-04-17T18:40:00+02:00",
          "2022-04-17T18:50:00+02:00",
          "2022-04-17T19:00:00+02:00",
          "2022-04-17T19:10:00+02:00",
          "2022-04-17T19:20:00+02:00",
          "2022-04-17T19:30:00+02:00",
          "2022-04-17T19:40:00+02:00",
          "2022-04-17T19:50:00+02:00",
          "2022-04-17T20:00:00+02:00",
          "2022-04-17T20:10:00+02:00",
          "2022-04-17T20:20:00+02:00",
          "2022-04-17T20:30:00+02:00",
          "2022-04-17T20:40:00+02:00",
          "2022-04-17T20:50:00+02:00",
          "2022-04-17T21:00:00+02:00",
          "2022-04-17T21:10:00+02:00",
          "2022-04-17T21:20:00+02:00",
          "2022-04-17T21:30:00+02:00",
          "2022-04-17T21:40:00+02:00",
          "2022-04-17T21:50:00+02:00",
          "2022-04-17T22:00:00+02:00",
          "2022-04-17T22:10:00+02:00",
          "2022-04-17T22:20:00+02:00",
          "2022-04-17T22:30:00+02:00",
          "2022-04-17T22:40:00+02:00"
         ],
         "y": [
          90,
          354,
          464,
          1470,
          1021,
          624,
          409,
          454,
          304,
          457,
          685,
          473,
          289,
          423,
          1274,
          1142,
          684,
          738,
          1297,
          1117,
          856,
          850,
          1071,
          696,
          523,
          497,
          839,
          973,
          1078,
          951,
          1527,
          1007,
          1041,
          358,
          393,
          911,
          434,
          574,
          1017,
          745,
          2096,
          2454,
          1671,
          1045,
          656,
          800,
          1315,
          713,
          537,
          740,
          706,
          904,
          1073,
          1106,
          1231,
          1523,
          1456,
          822,
          346,
          253,
          406,
          637,
          437,
          391,
          378,
          278,
          260,
          276,
          232,
          271,
          321,
          249,
          220,
          227,
          170,
          192,
          381,
          224,
          197,
          220,
          212,
          144,
          199,
          286,
          117,
          233,
          180,
          119,
          130,
          336,
          224,
          121,
          229,
          284,
          396,
          293,
          276,
          382,
          491,
          526,
          744,
          502,
          490,
          479,
          692,
          382,
          322,
          298,
          261,
          489,
          772,
          929,
          1418,
          1327,
          699,
          395,
          741,
          883,
          1162,
          1349,
          986,
          1275,
          1066,
          936,
          1241,
          1705,
          1775,
          1512,
          1248,
          1012,
          728,
          876,
          765,
          707,
          687,
          1299,
          724,
          974,
          839,
          1125,
          2395,
          2673,
          2613,
          2213,
          2819,
          888,
          707,
          660,
          680,
          809,
          607,
          768,
          894,
          1601,
          1138,
          650,
          946,
          1066,
          1328,
          573,
          478,
          1007,
          597,
          1156,
          601,
          589,
          418,
          483,
          480,
          399,
          713,
          604,
          903,
          1046,
          1326,
          1257,
          1213,
          1708,
          1473,
          1373,
          1528,
          2140,
          1521,
          828,
          1164,
          549,
          1426,
          1140,
          793,
          1150,
          1160,
          931,
          978,
          790,
          775,
          982,
          702,
          932,
          474,
          372,
          326,
          324,
          320,
          194,
          269,
          261,
          177,
          247,
          213,
          238,
          201,
          141,
          139,
          219,
          144,
          103,
          96,
          107,
          137,
          156,
          121,
          118,
          108,
          147,
          133,
          108,
          117,
          334,
          202,
          143,
          314,
          149,
          235,
          219,
          210,
          215,
          821,
          345,
          412,
          468,
          1235,
          1363,
          1115,
          662,
          435,
          277,
          842,
          884,
          767,
          355,
          640,
          681,
          885,
          803,
          686,
          510,
          1593,
          694,
          1705,
          523,
          265,
          245,
          299,
          278,
          334,
          442,
          208,
          385,
          420,
          369,
          297,
          483,
          1346,
          2032,
          2172,
          1403,
          1547,
          720,
          576,
          527,
          542,
          628,
          1970,
          1812,
          1061,
          803,
          963,
          890,
          960,
          847,
          1792,
          739,
          886,
          655,
          818,
          1475,
          778,
          736,
          774,
          608,
          775,
          1132,
          3025,
          578,
          574,
          630,
          969,
          947,
          2036,
          1732,
          1589,
          1492,
          1303,
          1694,
          1216,
          2478,
          1490,
          1133,
          1444,
          2281,
          2708,
          1655,
          1546,
          864,
          1044,
          1282,
          1180,
          1724,
          1232,
          2760,
          3771,
          4379,
          4498,
          1281
         ]
        }
       ],
       "layout": {
        "annotations": [
         {
          "arrowhead": 1,
          "showarrow": true,
          "text": "Super Mario Sunshine",
          "x": "2022-04-16 14:10:00+02:00",
          "y": 2500
         },
         {
          "arrowhead": 1,
          "showarrow": true,
          "text": "Rayman Origins",
          "x": "2022-04-15 22:20:00+02:00",
          "y": 1400
         },
         {
          "arrowhead": 1,
          "showarrow": true,
          "text": "Metroid Dread",
          "x": "2022-04-16 20:24:00+02:00",
          "y": 2000
         },
         {
          "arrowhead": 1,
          "showarrow": true,
          "text": "DARK SOULS III",
          "x": "2022-04-16 22:10:00+02:00",
          "y": 1400
         },
         {
          "arrowhead": 1,
          "showarrow": true,
          "text": "Metroid Prime",
          "x": "2022-04-17 12:19:00+02:00",
          "y": 1400
         },
         {
          "arrowhead": 1,
          "showarrow": true,
          "text": "Celeste",
          "x": "2022-04-17 15:14:00+02:00",
          "y": 1600
         },
         {
          "arrowhead": 1,
          "showarrow": true,
          "text": "Super Mario 64",
          "x": "2022-04-17 17:30:00+02:00",
          "y": 3100
         },
         {
          "arrowhead": 1,
          "showarrow": true,
          "text": "Zelda Ocarina of Time",
          "x": "2022-04-17 20:34:00+02:00",
          "y": 2700
         },
         {
          "arrowhead": 1,
          "showarrow": true,
          "text": "Hollow Knight",
          "x": "2022-04-17 22:00:00+02:00",
          "y": 2900
         }
        ],
        "template": {
         "data": {
          "bar": [
           {
            "error_x": {
             "color": "#2a3f5f"
            },
            "error_y": {
             "color": "#2a3f5f"
            },
            "marker": {
             "line": {
              "color": "#E5ECF6",
              "width": 0.5
             },
             "pattern": {
              "fillmode": "overlay",
              "size": 10,
              "solidity": 0.2
             }
            },
            "type": "bar"
           }
          ],
          "barpolar": [
           {
            "marker": {
             "line": {
              "color": "#E5ECF6",
              "width": 0.5
             },
             "pattern": {
              "fillmode": "overlay",
              "size": 10,
              "solidity": 0.2
             }
            },
            "type": "barpolar"
           }
          ],
          "carpet": [
           {
            "aaxis": {
             "endlinecolor": "#2a3f5f",
             "gridcolor": "white",
             "linecolor": "white",
             "minorgridcolor": "white",
             "startlinecolor": "#2a3f5f"
            },
            "baxis": {
             "endlinecolor": "#2a3f5f",
             "gridcolor": "white",
             "linecolor": "white",
             "minorgridcolor": "white",
             "startlinecolor": "#2a3f5f"
            },
            "type": "carpet"
           }
          ],
          "choropleth": [
           {
            "colorbar": {
             "outlinewidth": 0,
             "ticks": ""
            },
            "type": "choropleth"
           }
          ],
          "contour": [
           {
            "colorbar": {
             "outlinewidth": 0,
             "ticks": ""
            },
            "colorscale": [
             [
              0,
              "#0d0887"
             ],
             [
              0.1111111111111111,
              "#46039f"
             ],
             [
              0.2222222222222222,
              "#7201a8"
             ],
             [
              0.3333333333333333,
              "#9c179e"
             ],
             [
              0.4444444444444444,
              "#bd3786"
             ],
             [
              0.5555555555555556,
              "#d8576b"
             ],
             [
              0.6666666666666666,
              "#ed7953"
             ],
             [
              0.7777777777777778,
              "#fb9f3a"
             ],
             [
              0.8888888888888888,
              "#fdca26"
             ],
             [
              1,
              "#f0f921"
             ]
            ],
            "type": "contour"
           }
          ],
          "contourcarpet": [
           {
            "colorbar": {
             "outlinewidth": 0,
             "ticks": ""
            },
            "type": "contourcarpet"
           }
          ],
          "heatmap": [
           {
            "colorbar": {
             "outlinewidth": 0,
             "ticks": ""
            },
            "colorscale": [
             [
              0,
              "#0d0887"
             ],
             [
              0.1111111111111111,
              "#46039f"
             ],
             [
              0.2222222222222222,
              "#7201a8"
             ],
             [
              0.3333333333333333,
              "#9c179e"
             ],
             [
              0.4444444444444444,
              "#bd3786"
             ],
             [
              0.5555555555555556,
              "#d8576b"
             ],
             [
              0.6666666666666666,
              "#ed7953"
             ],
             [
              0.7777777777777778,
              "#fb9f3a"
             ],
             [
              0.8888888888888888,
              "#fdca26"
             ],
             [
              1,
              "#f0f921"
             ]
            ],
            "type": "heatmap"
           }
          ],
          "heatmapgl": [
           {
            "colorbar": {
             "outlinewidth": 0,
             "ticks": ""
            },
            "colorscale": [
             [
              0,
              "#0d0887"
             ],
             [
              0.1111111111111111,
              "#46039f"
             ],
             [
              0.2222222222222222,
              "#7201a8"
             ],
             [
              0.3333333333333333,
              "#9c179e"
             ],
             [
              0.4444444444444444,
              "#bd3786"
             ],
             [
              0.5555555555555556,
              "#d8576b"
             ],
             [
              0.6666666666666666,
              "#ed7953"
             ],
             [
              0.7777777777777778,
              "#fb9f3a"
             ],
             [
              0.8888888888888888,
              "#fdca26"
             ],
             [
              1,
              "#f0f921"
             ]
            ],
            "type": "heatmapgl"
           }
          ],
          "histogram": [
           {
            "marker": {
             "pattern": {
              "fillmode": "overlay",
              "size": 10,
              "solidity": 0.2
             }
            },
            "type": "histogram"
           }
          ],
          "histogram2d": [
           {
            "colorbar": {
             "outlinewidth": 0,
             "ticks": ""
            },
            "colorscale": [
             [
              0,
              "#0d0887"
             ],
             [
              0.1111111111111111,
              "#46039f"
             ],
             [
              0.2222222222222222,
              "#7201a8"
             ],
             [
              0.3333333333333333,
              "#9c179e"
             ],
             [
              0.4444444444444444,
              "#bd3786"
             ],
             [
              0.5555555555555556,
              "#d8576b"
             ],
             [
              0.6666666666666666,
              "#ed7953"
             ],
             [
              0.7777777777777778,
              "#fb9f3a"
             ],
             [
              0.8888888888888888,
              "#fdca26"
             ],
             [
              1,
              "#f0f921"
             ]
            ],
            "type": "histogram2d"
           }
          ],
          "histogram2dcontour": [
           {
            "colorbar": {
             "outlinewidth": 0,
             "ticks": ""
            },
            "colorscale": [
             [
              0,
              "#0d0887"
             ],
             [
              0.1111111111111111,
              "#46039f"
             ],
             [
              0.2222222222222222,
              "#7201a8"
             ],
             [
              0.3333333333333333,
              "#9c179e"
             ],
             [
              0.4444444444444444,
              "#bd3786"
             ],
             [
              0.5555555555555556,
              "#d8576b"
             ],
             [
              0.6666666666666666,
              "#ed7953"
             ],
             [
              0.7777777777777778,
              "#fb9f3a"
             ],
             [
              0.8888888888888888,
              "#fdca26"
             ],
             [
              1,
              "#f0f921"
             ]
            ],
            "type": "histogram2dcontour"
           }
          ],
          "mesh3d": [
           {
            "colorbar": {
             "outlinewidth": 0,
             "ticks": ""
            },
            "type": "mesh3d"
           }
          ],
          "parcoords": [
           {
            "line": {
             "colorbar": {
              "outlinewidth": 0,
              "ticks": ""
             }
            },
            "type": "parcoords"
           }
          ],
          "pie": [
           {
            "automargin": true,
            "type": "pie"
           }
          ],
          "scatter": [
           {
            "fillpattern": {
             "fillmode": "overlay",
             "size": 10,
             "solidity": 0.2
            },
            "type": "scatter"
           }
          ],
          "scatter3d": [
           {
            "line": {
             "colorbar": {
              "outlinewidth": 0,
              "ticks": ""
             }
            },
            "marker": {
             "colorbar": {
              "outlinewidth": 0,
              "ticks": ""
             }
            },
            "type": "scatter3d"
           }
          ],
          "scattercarpet": [
           {
            "marker": {
             "colorbar": {
              "outlinewidth": 0,
              "ticks": ""
             }
            },
            "type": "scattercarpet"
           }
          ],
          "scattergeo": [
           {
            "marker": {
             "colorbar": {
              "outlinewidth": 0,
              "ticks": ""
             }
            },
            "type": "scattergeo"
           }
          ],
          "scattergl": [
           {
            "marker": {
             "colorbar": {
              "outlinewidth": 0,
              "ticks": ""
             }
            },
            "type": "scattergl"
           }
          ],
          "scattermapbox": [
           {
            "marker": {
             "colorbar": {
              "outlinewidth": 0,
              "ticks": ""
             }
            },
            "type": "scattermapbox"
           }
          ],
          "scatterpolar": [
           {
            "marker": {
             "colorbar": {
              "outlinewidth": 0,
              "ticks": ""
             }
            },
            "type": "scatterpolar"
           }
          ],
          "scatterpolargl": [
           {
            "marker": {
             "colorbar": {
              "outlinewidth": 0,
              "ticks": ""
             }
            },
            "type": "scatterpolargl"
           }
          ],
          "scatterternary": [
           {
            "marker": {
             "colorbar": {
              "outlinewidth": 0,
              "ticks": ""
             }
            },
            "type": "scatterternary"
           }
          ],
          "surface": [
           {
            "colorbar": {
             "outlinewidth": 0,
             "ticks": ""
            },
            "colorscale": [
             [
              0,
              "#0d0887"
             ],
             [
              0.1111111111111111,
              "#46039f"
             ],
             [
              0.2222222222222222,
              "#7201a8"
             ],
             [
              0.3333333333333333,
              "#9c179e"
             ],
             [
              0.4444444444444444,
              "#bd3786"
             ],
             [
              0.5555555555555556,
              "#d8576b"
             ],
             [
              0.6666666666666666,
              "#ed7953"
             ],
             [
              0.7777777777777778,
              "#fb9f3a"
             ],
             [
              0.8888888888888888,
              "#fdca26"
             ],
             [
              1,
              "#f0f921"
             ]
            ],
            "type": "surface"
           }
          ],
          "table": [
           {
            "cells": {
             "fill": {
              "color": "#EBF0F8"
             },
             "line": {
              "color": "white"
             }
            },
            "header": {
             "fill": {
              "color": "#C8D4E3"
             },
             "line": {
              "color": "white"
             }
            },
            "type": "table"
           }
          ]
         },
         "layout": {
          "annotationdefaults": {
           "arrowcolor": "#2a3f5f",
           "arrowhead": 0,
           "arrowwidth": 1
          },
          "autotypenumbers": "strict",
          "coloraxis": {
           "colorbar": {
            "outlinewidth": 0,
            "ticks": ""
           }
          },
          "colorscale": {
           "diverging": [
            [
             0,
             "#8e0152"
            ],
            [
             0.1,
             "#c51b7d"
            ],
            [
             0.2,
             "#de77ae"
            ],
            [
             0.3,
             "#f1b6da"
            ],
            [
             0.4,
             "#fde0ef"
            ],
            [
             0.5,
             "#f7f7f7"
            ],
            [
             0.6,
             "#e6f5d0"
            ],
            [
             0.7,
             "#b8e186"
            ],
            [
             0.8,
             "#7fbc41"
            ],
            [
             0.9,
             "#4d9221"
            ],
            [
             1,
             "#276419"
            ]
           ],
           "sequential": [
            [
             0,
             "#0d0887"
            ],
            [
             0.1111111111111111,
             "#46039f"
            ],
            [
             0.2222222222222222,
             "#7201a8"
            ],
            [
             0.3333333333333333,
             "#9c179e"
            ],
            [
             0.4444444444444444,
             "#bd3786"
            ],
            [
             0.5555555555555556,
             "#d8576b"
            ],
            [
             0.6666666666666666,
             "#ed7953"
            ],
            [
             0.7777777777777778,
             "#fb9f3a"
            ],
            [
             0.8888888888888888,
             "#fdca26"
            ],
            [
             1,
             "#f0f921"
            ]
           ],
           "sequentialminus": [
            [
             0,
             "#0d0887"
            ],
            [
             0.1111111111111111,
             "#46039f"
            ],
            [
             0.2222222222222222,
             "#7201a8"
            ],
            [
             0.3333333333333333,
             "#9c179e"
            ],
            [
             0.4444444444444444,
             "#bd3786"
            ],
            [
             0.5555555555555556,
             "#d8576b"
            ],
            [
             0.6666666666666666,
             "#ed7953"
            ],
            [
             0.7777777777777778,
             "#fb9f3a"
            ],
            [
             0.8888888888888888,
             "#fdca26"
            ],
            [
             1,
             "#f0f921"
            ]
           ]
          },
          "colorway": [
           "#636efa",
           "#EF553B",
           "#00cc96",
           "#ab63fa",
           "#FFA15A",
           "#19d3f3",
           "#FF6692",
           "#B6E880",
           "#FF97FF",
           "#FECB52"
          ],
          "font": {
           "color": "#2a3f5f"
          },
          "geo": {
           "bgcolor": "white",
           "lakecolor": "white",
           "landcolor": "#E5ECF6",
           "showlakes": true,
           "showland": true,
           "subunitcolor": "white"
          },
          "hoverlabel": {
           "align": "left"
          },
          "hovermode": "closest",
          "mapbox": {
           "style": "light"
          },
          "paper_bgcolor": "white",
          "plot_bgcolor": "#E5ECF6",
          "polar": {
           "angularaxis": {
            "gridcolor": "white",
            "linecolor": "white",
            "ticks": ""
           },
           "bgcolor": "#E5ECF6",
           "radialaxis": {
            "gridcolor": "white",
            "linecolor": "white",
            "ticks": ""
           }
          },
          "scene": {
           "xaxis": {
            "backgroundcolor": "#E5ECF6",
            "gridcolor": "white",
            "gridwidth": 2,
            "linecolor": "white",
            "showbackground": true,
            "ticks": "",
            "zerolinecolor": "white"
           },
           "yaxis": {
            "backgroundcolor": "#E5ECF6",
            "gridcolor": "white",
            "gridwidth": 2,
            "linecolor": "white",
            "showbackground": true,
            "ticks": "",
            "zerolinecolor": "white"
           },
           "zaxis": {
            "backgroundcolor": "#E5ECF6",
            "gridcolor": "white",
            "gridwidth": 2,
            "linecolor": "white",
            "showbackground": true,
            "ticks": "",
            "zerolinecolor": "white"
           }
          },
          "shapedefaults": {
           "line": {
            "color": "#2a3f5f"
           }
          },
          "ternary": {
           "aaxis": {
            "gridcolor": "white",
            "linecolor": "white",
            "ticks": ""
           },
           "baxis": {
            "gridcolor": "white",
            "linecolor": "white",
            "ticks": ""
           },
           "bgcolor": "#E5ECF6",
           "caxis": {
            "gridcolor": "white",
            "linecolor": "white",
            "ticks": ""
           }
          },
          "title": {
           "x": 0.05
          },
          "xaxis": {
           "automargin": true,
           "gridcolor": "white",
           "linecolor": "white",
           "ticks": "",
           "title": {
            "standoff": 15
           },
           "zerolinecolor": "white",
           "zerolinewidth": 2
          },
          "yaxis": {
           "automargin": true,
           "gridcolor": "white",
           "linecolor": "white",
           "ticks": "",
           "title": {
            "standoff": 15
           },
           "zerolinecolor": "white",
           "zerolinewidth": 2
          }
         }
        },
        "title": {
         "text": "Nombre de messages durant SpeeDons 2022",
         "x": 0.5,
         "xanchor": "center",
         "y": 0.9,
         "yanchor": "top"
        },
        "xaxis": {
         "title": {
          "text": "Date"
         }
        },
        "yaxis": {
         "title": {
          "text": "Nombre de messages"
         }
        }
       }
      }
     },
     "metadata": {},
     "output_type": "display_data"
    }
   ],
   "source": [
    "fig_3 = go.Figure()\n",
    "\n",
    "fig_3.add_trace(go.Scatter(x=nb_messages_per_10_minutes.index, y=nb_messages_per_10_minutes[\"message\"]))\n",
    "fig_3.update_layout(title={\n",
    "        'text': f\"Nombre de messages durant SpeeDons 2022\",\n",
    "        'y':0.9,\n",
    "        'x':0.5,\n",
    "        'xanchor': 'center',\n",
    "        'yanchor': 'top'})\n",
    "fig_3.update_xaxes(title=\"Date\")\n",
    "fig_3.update_yaxes(title=\"Nombre de messages\")\n",
    "\n",
    "#add games from https://tracker.speedons.fr/campaigns/c9071ne1km7b1a0app50/schedule\n",
    "fig_3.add_annotation(x=\"2022-04-16 14:10:00+02:00\", y=2500,\n",
    "            text=\"Super Mario Sunshine\",\n",
    "            showarrow=True,\n",
    "            arrowhead=1)\n",
    "fig_3.add_annotation(x=\"2022-04-15 22:20:00+02:00\", y=1400,\n",
    "            text=\"Rayman Origins\",\n",
    "            showarrow=True,\n",
    "            arrowhead=1)\n",
    "fig_3.add_annotation(x=\"2022-04-16 20:24:00+02:00\", y=2000,\n",
    "            text=\"Metroid Dread\",\n",
    "            showarrow=True,\n",
    "            arrowhead=1)\n",
    "fig_3.add_annotation(x=\"2022-04-16 22:10:00+02:00\", y=1400,\n",
    "            text=\"DARK SOULS III\",\n",
    "            showarrow=True,\n",
    "            arrowhead=1)\n",
    "fig_3.add_annotation(x=\"2022-04-17 12:19:00+02:00\", y=1400,\n",
    "            text=\"Metroid Prime\",\n",
    "            showarrow=True,\n",
    "            arrowhead=1)\n",
    "fig_3.add_annotation(x=\"2022-04-17 15:14:00+02:00\", y=1600,\n",
    "            text=\"Celeste\",\n",
    "            showarrow=True,\n",
    "            arrowhead=1)\n",
    "fig_3.add_annotation(x=\"2022-04-17 17:30:00+02:00\", y=3100,\n",
    "            text=\"Super Mario 64\",\n",
    "            showarrow=True,\n",
    "            arrowhead=1)\n",
    "fig_3.add_annotation(x=\"2022-04-17 20:34:00+02:00\", y=2700,\n",
    "            text=\"Zelda Ocarina of Time\",\n",
    "            showarrow=True,\n",
    "            arrowhead=1)\n",
    "fig_3.add_annotation(x=\"2022-04-17 22:00:00+02:00\", y=2900,\n",
    "            text=\"Hollow Knight\",\n",
    "            showarrow=True,\n",
    "            arrowhead=1)\n"
   ]
  }
 ],
 "metadata": {
  "interpreter": {
   "hash": "c815adce93ed5b3270b7a88f352ebd0c26dc93c8a55c9f41d2524b68ff31aeaa"
  },
  "kernelspec": {
   "display_name": "Python 3.10.4 ('SpeeDonsChatAnalysis')",
   "language": "python",
   "name": "python3"
  },
  "language_info": {
   "codemirror_mode": {
    "name": "ipython",
    "version": 3
   },
   "file_extension": ".py",
   "mimetype": "text/x-python",
   "name": "python",
   "nbconvert_exporter": "python",
   "pygments_lexer": "ipython3",
   "version": "3.10.4"
  },
  "orig_nbformat": 4
 },
 "nbformat": 4,
 "nbformat_minor": 2
}
