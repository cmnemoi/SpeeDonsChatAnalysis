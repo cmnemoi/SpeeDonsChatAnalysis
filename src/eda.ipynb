{
 "cells": [
  {
   "cell_type": "markdown",
   "metadata": {},
   "source": [
    "Import libraries"
   ]
  },
  {
   "cell_type": "code",
   "execution_count": 1,
   "metadata": {},
   "outputs": [],
   "source": [
    "import pandas as pd \n",
    "from spacy.lang.fr.stop_words import STOP_WORDS\n",
    "from wordcloud import WordCloud\n",
    "from matplotlib import pyplot as plt\n",
    "import seaborn as sns \n",
    "sns.set()\n",
    "from plotly import express as px \n",
    "from plotly import graph_objects as go\n",
    "import json"
   ]
  },
  {
   "cell_type": "markdown",
   "metadata": {},
   "source": [
    "Import messages"
   ]
  },
  {
   "cell_type": "code",
   "execution_count": 2,
   "metadata": {},
   "outputs": [],
   "source": [
    "with open(\"../data/SpeeDons_chat.json\", \"r\") as file:\n",
    "    data = json.load(file)"
   ]
  },
  {
   "cell_type": "code",
   "execution_count": 3,
   "metadata": {},
   "outputs": [],
   "source": [
    "messages = pd.DataFrame.from_dict(data)"
   ]
  },
  {
   "cell_type": "markdown",
   "metadata": {},
   "source": [
    "Feature engineering"
   ]
  },
  {
   "cell_type": "code",
   "execution_count": 4,
   "metadata": {},
   "outputs": [],
   "source": [
    "def is_subscriber(author):\n",
    "    try:\n",
    "        return author[\"badges\"][0][\"name\"] == \"subscriber\"\n",
    "    except KeyError:\n",
    "        return False"
   ]
  },
  {
   "cell_type": "code",
   "execution_count": 5,
   "metadata": {},
   "outputs": [],
   "source": [
    "messages[\"author_name\"] = [author[\"display_name\"] for author in messages[\"author\"]]\n",
    "messages[\"MV_subscriber\"] = [is_subscriber(author) for author in messages[\"author\"]]\n",
    "messages[\"date\"] = pd.to_datetime(messages[\"timestamp\"], unit=\"us\")\n",
    "messages[\"message_day\"] = [date.day_name() for date in messages[\"date\"]]"
   ]
  },
  {
   "cell_type": "code",
   "execution_count": 6,
   "metadata": {},
   "outputs": [
    {
     "data": {
      "text/html": [
       "<div>\n",
       "<style scoped>\n",
       "    .dataframe tbody tr th:only-of-type {\n",
       "        vertical-align: middle;\n",
       "    }\n",
       "\n",
       "    .dataframe tbody tr th {\n",
       "        vertical-align: top;\n",
       "    }\n",
       "\n",
       "    .dataframe thead th {\n",
       "        text-align: right;\n",
       "    }\n",
       "</style>\n",
       "<table border=\"1\" class=\"dataframe\">\n",
       "  <thead>\n",
       "    <tr style=\"text-align: right;\">\n",
       "      <th></th>\n",
       "      <th>author</th>\n",
       "      <th>emotes</th>\n",
       "      <th>message</th>\n",
       "      <th>message_id</th>\n",
       "      <th>message_type</th>\n",
       "      <th>source</th>\n",
       "      <th>state</th>\n",
       "      <th>time_in_seconds</th>\n",
       "      <th>time_text</th>\n",
       "      <th>timestamp</th>\n",
       "      <th>author_name</th>\n",
       "      <th>MV_subscriber</th>\n",
       "      <th>date</th>\n",
       "      <th>message_day</th>\n",
       "    </tr>\n",
       "  </thead>\n",
       "  <tbody>\n",
       "    <tr>\n",
       "      <th>0</th>\n",
       "      <td>{'badges': [{'click_action': 'turbo', 'click_u...</td>\n",
       "      <td>[{'id': '34', 'images': [{'height': 28, 'id': ...</td>\n",
       "      <td>SwiftRage</td>\n",
       "      <td>6b32e8ac-0d8d-4fa4-91ea-9f7441db7d04</td>\n",
       "      <td>text_message</td>\n",
       "      <td>chat</td>\n",
       "      <td>published</td>\n",
       "      <td>5.866</td>\n",
       "      <td>0:05</td>\n",
       "      <td>1650028650566000</td>\n",
       "      <td>Wadjaah</td>\n",
       "      <td>False</td>\n",
       "      <td>2022-04-15 13:17:30.566</td>\n",
       "      <td>Friday</td>\n",
       "    </tr>\n",
       "    <tr>\n",
       "      <th>1</th>\n",
       "      <td>{'bio': 'Je suis une très jolie fleur. ', 'col...</td>\n",
       "      <td>[{'id': 'emotesv2_5314a90cc7be4059a9e9efdd345d...</td>\n",
       "      <td>ponceOVERTOAD ponceOVERTOAD ponceOVERTOAD ponc...</td>\n",
       "      <td>3111b8fa-e6bd-4b56-b35b-e63af6ed6daa</td>\n",
       "      <td>text_message</td>\n",
       "      <td>chat</td>\n",
       "      <td>published</td>\n",
       "      <td>7.501</td>\n",
       "      <td>0:07</td>\n",
       "      <td>1650028652201000</td>\n",
       "      <td>Kyra_poil</td>\n",
       "      <td>False</td>\n",
       "      <td>2022-04-15 13:17:32.201</td>\n",
       "      <td>Friday</td>\n",
       "    </tr>\n",
       "    <tr>\n",
       "      <th>2</th>\n",
       "      <td>{'badges': [{'click_action': 'subscribe_to_cha...</td>\n",
       "      <td>NaN</td>\n",
       "      <td>Here we go POGGERS</td>\n",
       "      <td>b019aabe-580a-4136-8ea9-fdf350aee5f2</td>\n",
       "      <td>text_message</td>\n",
       "      <td>chat</td>\n",
       "      <td>published</td>\n",
       "      <td>9.390</td>\n",
       "      <td>0:09</td>\n",
       "      <td>1650028654090000</td>\n",
       "      <td>Memuvd</td>\n",
       "      <td>True</td>\n",
       "      <td>2022-04-15 13:17:34.090</td>\n",
       "      <td>Friday</td>\n",
       "    </tr>\n",
       "    <tr>\n",
       "      <th>3</th>\n",
       "      <td>{'badges': [{'click_action': 'visit_url', 'cli...</td>\n",
       "      <td>[{'id': 'emotesv2_8098e37bc383472aa5efbc824bc2...</td>\n",
       "      <td>zrtDance</td>\n",
       "      <td>bc657b5d-8c71-4545-92f0-e79a1a3c14c7</td>\n",
       "      <td>text_message</td>\n",
       "      <td>chat</td>\n",
       "      <td>published</td>\n",
       "      <td>9.557</td>\n",
       "      <td>0:09</td>\n",
       "      <td>1650028654257000</td>\n",
       "      <td>Rex_wafwaf</td>\n",
       "      <td>False</td>\n",
       "      <td>2022-04-15 13:17:34.257</td>\n",
       "      <td>Friday</td>\n",
       "    </tr>\n",
       "    <tr>\n",
       "      <th>4</th>\n",
       "      <td>{'badges': [{'click_action': 'visit_url', 'cli...</td>\n",
       "      <td>NaN</td>\n",
       "      <td>PepoDance PepoDance PepoDance PepoDance PepoDa...</td>\n",
       "      <td>c34ddf82-0a7b-4cbb-82d1-f2e009847520</td>\n",
       "      <td>text_message</td>\n",
       "      <td>chat</td>\n",
       "      <td>published</td>\n",
       "      <td>11.461</td>\n",
       "      <td>0:11</td>\n",
       "      <td>1650028656161000</td>\n",
       "      <td>Licasoras</td>\n",
       "      <td>False</td>\n",
       "      <td>2022-04-15 13:17:36.161</td>\n",
       "      <td>Friday</td>\n",
       "    </tr>\n",
       "    <tr>\n",
       "      <th>...</th>\n",
       "      <td>...</td>\n",
       "      <td>...</td>\n",
       "      <td>...</td>\n",
       "      <td>...</td>\n",
       "      <td>...</td>\n",
       "      <td>...</td>\n",
       "      <td>...</td>\n",
       "      <td>...</td>\n",
       "      <td>...</td>\n",
       "      <td>...</td>\n",
       "      <td>...</td>\n",
       "      <td>...</td>\n",
       "      <td>...</td>\n",
       "      <td>...</td>\n",
       "    </tr>\n",
       "    <tr>\n",
       "      <th>280811</th>\n",
       "      <td>{'badges': [{'click_action': 'visit_url', 'cli...</td>\n",
       "      <td>NaN</td>\n",
       "      <td>la prochaine fois y'aura elden ring !</td>\n",
       "      <td>f9a01411-c67f-4353-a909-869d210d120d</td>\n",
       "      <td>text_message</td>\n",
       "      <td>chat</td>\n",
       "      <td>published</td>\n",
       "      <td>54491.072</td>\n",
       "      <td>15:08:11</td>\n",
       "      <td>1650228395772000</td>\n",
       "      <td>LeNuageux</td>\n",
       "      <td>False</td>\n",
       "      <td>2022-04-17 20:46:35.772</td>\n",
       "      <td>Sunday</td>\n",
       "    </tr>\n",
       "    <tr>\n",
       "      <th>280812</th>\n",
       "      <td>{'badges': [{'click_action': 'none', 'click_ur...</td>\n",
       "      <td>NaN</td>\n",
       "      <td>@LeNuageux Elden Ring n'était pas sorti lors d...</td>\n",
       "      <td>e9c9a209-3f73-4b09-981e-c71e1b6d7dac</td>\n",
       "      <td>text_message</td>\n",
       "      <td>chat</td>\n",
       "      <td>published</td>\n",
       "      <td>54491.420</td>\n",
       "      <td>15:08:11</td>\n",
       "      <td>1650228396120000</td>\n",
       "      <td>Robochiotte</td>\n",
       "      <td>False</td>\n",
       "      <td>2022-04-17 20:46:36.120</td>\n",
       "      <td>Sunday</td>\n",
       "    </tr>\n",
       "    <tr>\n",
       "      <th>280813</th>\n",
       "      <td>{'badges': [{'click_action': 'visit_url', 'cli...</td>\n",
       "      <td>NaN</td>\n",
       "      <td>Bonne nuit à tous !</td>\n",
       "      <td>1d246482-f592-46e9-ad77-5a1ed27d5b7b</td>\n",
       "      <td>text_message</td>\n",
       "      <td>chat</td>\n",
       "      <td>published</td>\n",
       "      <td>54492.236</td>\n",
       "      <td>15:08:12</td>\n",
       "      <td>1650228396936000</td>\n",
       "      <td>Zamness</td>\n",
       "      <td>False</td>\n",
       "      <td>2022-04-17 20:46:36.936</td>\n",
       "      <td>Sunday</td>\n",
       "    </tr>\n",
       "    <tr>\n",
       "      <th>280814</th>\n",
       "      <td>{'bio': 'chalut a tous et bienvenus! j'étais à...</td>\n",
       "      <td>NaN</td>\n",
       "      <td>et merde</td>\n",
       "      <td>4e961735-d7c8-43dd-b302-80989ca7225e</td>\n",
       "      <td>text_message</td>\n",
       "      <td>chat</td>\n",
       "      <td>published</td>\n",
       "      <td>54492.784</td>\n",
       "      <td>15:08:12</td>\n",
       "      <td>1650228397484000</td>\n",
       "      <td>jj12catien</td>\n",
       "      <td>False</td>\n",
       "      <td>2022-04-17 20:46:37.484</td>\n",
       "      <td>Sunday</td>\n",
       "    </tr>\n",
       "    <tr>\n",
       "      <th>280815</th>\n",
       "      <td>{'bio': None, 'created_at': 1551883419217868, ...</td>\n",
       "      <td>[{'id': '555555560', 'images': [{'height': 28,...</td>\n",
       "      <td>bonne nuit tout le monde à l'année prochaine :D</td>\n",
       "      <td>07642cd8-1c1d-4120-a952-1a267db5fc9b</td>\n",
       "      <td>text_message</td>\n",
       "      <td>chat</td>\n",
       "      <td>published</td>\n",
       "      <td>54493.508</td>\n",
       "      <td>15:08:13</td>\n",
       "      <td>1650228398208000</td>\n",
       "      <td>a1exisxi</td>\n",
       "      <td>False</td>\n",
       "      <td>2022-04-17 20:46:38.208</td>\n",
       "      <td>Sunday</td>\n",
       "    </tr>\n",
       "  </tbody>\n",
       "</table>\n",
       "<p>280816 rows × 14 columns</p>\n",
       "</div>"
      ],
      "text/plain": [
       "                                                   author  \\\n",
       "0       {'badges': [{'click_action': 'turbo', 'click_u...   \n",
       "1       {'bio': 'Je suis une très jolie fleur. ', 'col...   \n",
       "2       {'badges': [{'click_action': 'subscribe_to_cha...   \n",
       "3       {'badges': [{'click_action': 'visit_url', 'cli...   \n",
       "4       {'badges': [{'click_action': 'visit_url', 'cli...   \n",
       "...                                                   ...   \n",
       "280811  {'badges': [{'click_action': 'visit_url', 'cli...   \n",
       "280812  {'badges': [{'click_action': 'none', 'click_ur...   \n",
       "280813  {'badges': [{'click_action': 'visit_url', 'cli...   \n",
       "280814  {'bio': 'chalut a tous et bienvenus! j'étais à...   \n",
       "280815  {'bio': None, 'created_at': 1551883419217868, ...   \n",
       "\n",
       "                                                   emotes  \\\n",
       "0       [{'id': '34', 'images': [{'height': 28, 'id': ...   \n",
       "1       [{'id': 'emotesv2_5314a90cc7be4059a9e9efdd345d...   \n",
       "2                                                     NaN   \n",
       "3       [{'id': 'emotesv2_8098e37bc383472aa5efbc824bc2...   \n",
       "4                                                     NaN   \n",
       "...                                                   ...   \n",
       "280811                                                NaN   \n",
       "280812                                                NaN   \n",
       "280813                                                NaN   \n",
       "280814                                                NaN   \n",
       "280815  [{'id': '555555560', 'images': [{'height': 28,...   \n",
       "\n",
       "                                                  message  \\\n",
       "0                                               SwiftRage   \n",
       "1       ponceOVERTOAD ponceOVERTOAD ponceOVERTOAD ponc...   \n",
       "2                                      Here we go POGGERS   \n",
       "3                                                zrtDance   \n",
       "4       PepoDance PepoDance PepoDance PepoDance PepoDa...   \n",
       "...                                                   ...   \n",
       "280811              la prochaine fois y'aura elden ring !   \n",
       "280812  @LeNuageux Elden Ring n'était pas sorti lors d...   \n",
       "280813                                Bonne nuit à tous !   \n",
       "280814                                           et merde   \n",
       "280815    bonne nuit tout le monde à l'année prochaine :D   \n",
       "\n",
       "                                  message_id  message_type source      state  \\\n",
       "0       6b32e8ac-0d8d-4fa4-91ea-9f7441db7d04  text_message   chat  published   \n",
       "1       3111b8fa-e6bd-4b56-b35b-e63af6ed6daa  text_message   chat  published   \n",
       "2       b019aabe-580a-4136-8ea9-fdf350aee5f2  text_message   chat  published   \n",
       "3       bc657b5d-8c71-4545-92f0-e79a1a3c14c7  text_message   chat  published   \n",
       "4       c34ddf82-0a7b-4cbb-82d1-f2e009847520  text_message   chat  published   \n",
       "...                                      ...           ...    ...        ...   \n",
       "280811  f9a01411-c67f-4353-a909-869d210d120d  text_message   chat  published   \n",
       "280812  e9c9a209-3f73-4b09-981e-c71e1b6d7dac  text_message   chat  published   \n",
       "280813  1d246482-f592-46e9-ad77-5a1ed27d5b7b  text_message   chat  published   \n",
       "280814  4e961735-d7c8-43dd-b302-80989ca7225e  text_message   chat  published   \n",
       "280815  07642cd8-1c1d-4120-a952-1a267db5fc9b  text_message   chat  published   \n",
       "\n",
       "        time_in_seconds time_text         timestamp  author_name  \\\n",
       "0                 5.866      0:05  1650028650566000      Wadjaah   \n",
       "1                 7.501      0:07  1650028652201000    Kyra_poil   \n",
       "2                 9.390      0:09  1650028654090000       Memuvd   \n",
       "3                 9.557      0:09  1650028654257000   Rex_wafwaf   \n",
       "4                11.461      0:11  1650028656161000    Licasoras   \n",
       "...                 ...       ...               ...          ...   \n",
       "280811        54491.072  15:08:11  1650228395772000    LeNuageux   \n",
       "280812        54491.420  15:08:11  1650228396120000  Robochiotte   \n",
       "280813        54492.236  15:08:12  1650228396936000      Zamness   \n",
       "280814        54492.784  15:08:12  1650228397484000   jj12catien   \n",
       "280815        54493.508  15:08:13  1650228398208000     a1exisxi   \n",
       "\n",
       "        MV_subscriber                    date message_day  \n",
       "0               False 2022-04-15 13:17:30.566      Friday  \n",
       "1               False 2022-04-15 13:17:32.201      Friday  \n",
       "2                True 2022-04-15 13:17:34.090      Friday  \n",
       "3               False 2022-04-15 13:17:34.257      Friday  \n",
       "4               False 2022-04-15 13:17:36.161      Friday  \n",
       "...               ...                     ...         ...  \n",
       "280811          False 2022-04-17 20:46:35.772      Sunday  \n",
       "280812          False 2022-04-17 20:46:36.120      Sunday  \n",
       "280813          False 2022-04-17 20:46:36.936      Sunday  \n",
       "280814          False 2022-04-17 20:46:37.484      Sunday  \n",
       "280815          False 2022-04-17 20:46:38.208      Sunday  \n",
       "\n",
       "[280816 rows x 14 columns]"
      ]
     },
     "execution_count": 6,
     "metadata": {},
     "output_type": "execute_result"
    }
   ],
   "source": [
    "messages"
   ]
  },
  {
   "cell_type": "markdown",
   "metadata": {},
   "source": [
    "# Analyse des données"
   ]
  },
  {
   "cell_type": "markdown",
   "metadata": {},
   "source": [
    "Nombre de total de messages"
   ]
  },
  {
   "cell_type": "code",
   "execution_count": 105,
   "metadata": {},
   "outputs": [
    {
     "name": "stdout",
     "output_type": "stream",
     "text": [
      "Le nombre total de messages postés lors de SpeeDons 2022 est de 280816 !\n"
     ]
    }
   ],
   "source": [
    "print(f\"Le nombre total de messages postés lors de SpeeDons 2022 est de {len(messages)} !\")"
   ]
  },
  {
   "cell_type": "markdown",
   "metadata": {},
   "source": [
    "Nombre de messages par jour"
   ]
  },
  {
   "cell_type": "code",
   "execution_count": 121,
   "metadata": {},
   "outputs": [
    {
     "ename": "ValueError",
     "evalue": "Mime type rendering requires nbformat>=4.2.0 but it is not installed",
     "output_type": "error",
     "traceback": [
      "\u001b[0;31m---------------------------------------------------------------------------\u001b[0m",
      "\u001b[0;31mValueError\u001b[0m                                Traceback (most recent call last)",
      "File \u001b[0;32m~/miniconda3/envs/SpeeDonsChatAnalysis/lib/python3.10/site-packages/IPython/core/formatters.py:921\u001b[0m, in \u001b[0;36mIPythonDisplayFormatter.__call__\u001b[0;34m(self, obj)\u001b[0m\n\u001b[1;32m    <a href='file:///home/cmnemoi/miniconda3/envs/SpeeDonsChatAnalysis/lib/python3.10/site-packages/IPython/core/formatters.py?line=918'>919</a>\u001b[0m method \u001b[39m=\u001b[39m get_real_method(obj, \u001b[39mself\u001b[39m\u001b[39m.\u001b[39mprint_method)\n\u001b[1;32m    <a href='file:///home/cmnemoi/miniconda3/envs/SpeeDonsChatAnalysis/lib/python3.10/site-packages/IPython/core/formatters.py?line=919'>920</a>\u001b[0m \u001b[39mif\u001b[39;00m method \u001b[39mis\u001b[39;00m \u001b[39mnot\u001b[39;00m \u001b[39mNone\u001b[39;00m:\n\u001b[0;32m--> <a href='file:///home/cmnemoi/miniconda3/envs/SpeeDonsChatAnalysis/lib/python3.10/site-packages/IPython/core/formatters.py?line=920'>921</a>\u001b[0m     method()\n\u001b[1;32m    <a href='file:///home/cmnemoi/miniconda3/envs/SpeeDonsChatAnalysis/lib/python3.10/site-packages/IPython/core/formatters.py?line=921'>922</a>\u001b[0m     \u001b[39mreturn\u001b[39;00m \u001b[39mTrue\u001b[39;00m\n",
      "File \u001b[0;32m~/miniconda3/envs/SpeeDonsChatAnalysis/lib/python3.10/site-packages/plotly/basedatatypes.py:844\u001b[0m, in \u001b[0;36mBaseFigure._ipython_display_\u001b[0;34m(self)\u001b[0m\n\u001b[1;32m    <a href='file:///home/cmnemoi/miniconda3/envs/SpeeDonsChatAnalysis/lib/python3.10/site-packages/plotly/basedatatypes.py?line=840'>841</a>\u001b[0m \u001b[39mimport\u001b[39;00m \u001b[39mplotly\u001b[39;00m\u001b[39m.\u001b[39;00m\u001b[39mio\u001b[39;00m \u001b[39mas\u001b[39;00m \u001b[39mpio\u001b[39;00m\n\u001b[1;32m    <a href='file:///home/cmnemoi/miniconda3/envs/SpeeDonsChatAnalysis/lib/python3.10/site-packages/plotly/basedatatypes.py?line=842'>843</a>\u001b[0m \u001b[39mif\u001b[39;00m pio\u001b[39m.\u001b[39mrenderers\u001b[39m.\u001b[39mrender_on_display \u001b[39mand\u001b[39;00m pio\u001b[39m.\u001b[39mrenderers\u001b[39m.\u001b[39mdefault:\n\u001b[0;32m--> <a href='file:///home/cmnemoi/miniconda3/envs/SpeeDonsChatAnalysis/lib/python3.10/site-packages/plotly/basedatatypes.py?line=843'>844</a>\u001b[0m     pio\u001b[39m.\u001b[39;49mshow(\u001b[39mself\u001b[39;49m)\n\u001b[1;32m    <a href='file:///home/cmnemoi/miniconda3/envs/SpeeDonsChatAnalysis/lib/python3.10/site-packages/plotly/basedatatypes.py?line=844'>845</a>\u001b[0m \u001b[39melse\u001b[39;00m:\n\u001b[1;32m    <a href='file:///home/cmnemoi/miniconda3/envs/SpeeDonsChatAnalysis/lib/python3.10/site-packages/plotly/basedatatypes.py?line=845'>846</a>\u001b[0m     \u001b[39mprint\u001b[39m(\u001b[39mrepr\u001b[39m(\u001b[39mself\u001b[39m))\n",
      "File \u001b[0;32m~/miniconda3/envs/SpeeDonsChatAnalysis/lib/python3.10/site-packages/plotly/io/_renderers.py:397\u001b[0m, in \u001b[0;36mshow\u001b[0;34m(fig, renderer, validate, **kwargs)\u001b[0m\n\u001b[1;32m    <a href='file:///home/cmnemoi/miniconda3/envs/SpeeDonsChatAnalysis/lib/python3.10/site-packages/plotly/io/_renderers.py?line=391'>392</a>\u001b[0m         \u001b[39mraise\u001b[39;00m \u001b[39mValueError\u001b[39;00m(\n\u001b[1;32m    <a href='file:///home/cmnemoi/miniconda3/envs/SpeeDonsChatAnalysis/lib/python3.10/site-packages/plotly/io/_renderers.py?line=392'>393</a>\u001b[0m             \u001b[39m\"\u001b[39m\u001b[39mMime type rendering requires ipython but it is not installed\u001b[39m\u001b[39m\"\u001b[39m\n\u001b[1;32m    <a href='file:///home/cmnemoi/miniconda3/envs/SpeeDonsChatAnalysis/lib/python3.10/site-packages/plotly/io/_renderers.py?line=393'>394</a>\u001b[0m         )\n\u001b[1;32m    <a href='file:///home/cmnemoi/miniconda3/envs/SpeeDonsChatAnalysis/lib/python3.10/site-packages/plotly/io/_renderers.py?line=395'>396</a>\u001b[0m     \u001b[39mif\u001b[39;00m \u001b[39mnot\u001b[39;00m nbformat \u001b[39mor\u001b[39;00m LooseVersion(nbformat\u001b[39m.\u001b[39m__version__) \u001b[39m<\u001b[39m LooseVersion(\u001b[39m\"\u001b[39m\u001b[39m4.2.0\u001b[39m\u001b[39m\"\u001b[39m):\n\u001b[0;32m--> <a href='file:///home/cmnemoi/miniconda3/envs/SpeeDonsChatAnalysis/lib/python3.10/site-packages/plotly/io/_renderers.py?line=396'>397</a>\u001b[0m         \u001b[39mraise\u001b[39;00m \u001b[39mValueError\u001b[39;00m(\n\u001b[1;32m    <a href='file:///home/cmnemoi/miniconda3/envs/SpeeDonsChatAnalysis/lib/python3.10/site-packages/plotly/io/_renderers.py?line=397'>398</a>\u001b[0m             \u001b[39m\"\u001b[39m\u001b[39mMime type rendering requires nbformat>=4.2.0 but it is not installed\u001b[39m\u001b[39m\"\u001b[39m\n\u001b[1;32m    <a href='file:///home/cmnemoi/miniconda3/envs/SpeeDonsChatAnalysis/lib/python3.10/site-packages/plotly/io/_renderers.py?line=398'>399</a>\u001b[0m         )\n\u001b[1;32m    <a href='file:///home/cmnemoi/miniconda3/envs/SpeeDonsChatAnalysis/lib/python3.10/site-packages/plotly/io/_renderers.py?line=400'>401</a>\u001b[0m     ipython_display\u001b[39m.\u001b[39mdisplay(bundle, raw\u001b[39m=\u001b[39m\u001b[39mTrue\u001b[39;00m)\n\u001b[1;32m    <a href='file:///home/cmnemoi/miniconda3/envs/SpeeDonsChatAnalysis/lib/python3.10/site-packages/plotly/io/_renderers.py?line=402'>403</a>\u001b[0m \u001b[39m# external renderers\u001b[39;00m\n",
      "\u001b[0;31mValueError\u001b[0m: Mime type rendering requires nbformat>=4.2.0 but it is not installed"
     ]
    },
    {
     "data": {
      "application/vnd.plotly.v1+json": {
       "config": {
        "plotlyServerURL": "https://plot.ly"
       },
       "data": [
        {
         "alignmentgroup": "True",
         "hovertemplate": "message_day=%{x}<br>message=%{y}<extra></extra>",
         "legendgroup": "Friday",
         "marker": {
          "color": "#636efa",
          "pattern": {
           "shape": ""
          }
         },
         "name": "Friday",
         "offsetgroup": "Friday",
         "orientation": "v",
         "showlegend": true,
         "textposition": "auto",
         "type": "bar",
         "x": [
          "Friday"
         ],
         "xaxis": "x",
         "y": [
          53806
         ],
         "yaxis": "y"
        },
        {
         "alignmentgroup": "True",
         "hovertemplate": "message_day=%{x}<br>message=%{y}<extra></extra>",
         "legendgroup": "Saturday",
         "marker": {
          "color": "#EF553B",
          "pattern": {
           "shape": ""
          }
         },
         "name": "Saturday",
         "offsetgroup": "Saturday",
         "orientation": "v",
         "showlegend": true,
         "textposition": "auto",
         "type": "bar",
         "x": [
          "Saturday"
         ],
         "xaxis": "x",
         "y": [
          111228
         ],
         "yaxis": "y"
        },
        {
         "alignmentgroup": "True",
         "hovertemplate": "message_day=%{x}<br>message=%{y}<extra></extra>",
         "legendgroup": "Sunday",
         "marker": {
          "color": "#00cc96",
          "pattern": {
           "shape": ""
          }
         },
         "name": "Sunday",
         "offsetgroup": "Sunday",
         "orientation": "v",
         "showlegend": true,
         "textposition": "auto",
         "type": "bar",
         "x": [
          "Sunday"
         ],
         "xaxis": "x",
         "y": [
          115782
         ],
         "yaxis": "y"
        }
       ],
       "layout": {
        "barmode": "relative",
        "legend": {
         "title": {
          "text": "message_day"
         },
         "tracegroupgap": 0
        },
        "margin": {
         "t": 60
        },
        "template": {
         "data": {
          "bar": [
           {
            "error_x": {
             "color": "#2a3f5f"
            },
            "error_y": {
             "color": "#2a3f5f"
            },
            "marker": {
             "line": {
              "color": "#E5ECF6",
              "width": 0.5
             },
             "pattern": {
              "fillmode": "overlay",
              "size": 10,
              "solidity": 0.2
             }
            },
            "type": "bar"
           }
          ],
          "barpolar": [
           {
            "marker": {
             "line": {
              "color": "#E5ECF6",
              "width": 0.5
             },
             "pattern": {
              "fillmode": "overlay",
              "size": 10,
              "solidity": 0.2
             }
            },
            "type": "barpolar"
           }
          ],
          "carpet": [
           {
            "aaxis": {
             "endlinecolor": "#2a3f5f",
             "gridcolor": "white",
             "linecolor": "white",
             "minorgridcolor": "white",
             "startlinecolor": "#2a3f5f"
            },
            "baxis": {
             "endlinecolor": "#2a3f5f",
             "gridcolor": "white",
             "linecolor": "white",
             "minorgridcolor": "white",
             "startlinecolor": "#2a3f5f"
            },
            "type": "carpet"
           }
          ],
          "choropleth": [
           {
            "colorbar": {
             "outlinewidth": 0,
             "ticks": ""
            },
            "type": "choropleth"
           }
          ],
          "contour": [
           {
            "colorbar": {
             "outlinewidth": 0,
             "ticks": ""
            },
            "colorscale": [
             [
              0,
              "#0d0887"
             ],
             [
              0.1111111111111111,
              "#46039f"
             ],
             [
              0.2222222222222222,
              "#7201a8"
             ],
             [
              0.3333333333333333,
              "#9c179e"
             ],
             [
              0.4444444444444444,
              "#bd3786"
             ],
             [
              0.5555555555555556,
              "#d8576b"
             ],
             [
              0.6666666666666666,
              "#ed7953"
             ],
             [
              0.7777777777777778,
              "#fb9f3a"
             ],
             [
              0.8888888888888888,
              "#fdca26"
             ],
             [
              1,
              "#f0f921"
             ]
            ],
            "type": "contour"
           }
          ],
          "contourcarpet": [
           {
            "colorbar": {
             "outlinewidth": 0,
             "ticks": ""
            },
            "type": "contourcarpet"
           }
          ],
          "heatmap": [
           {
            "colorbar": {
             "outlinewidth": 0,
             "ticks": ""
            },
            "colorscale": [
             [
              0,
              "#0d0887"
             ],
             [
              0.1111111111111111,
              "#46039f"
             ],
             [
              0.2222222222222222,
              "#7201a8"
             ],
             [
              0.3333333333333333,
              "#9c179e"
             ],
             [
              0.4444444444444444,
              "#bd3786"
             ],
             [
              0.5555555555555556,
              "#d8576b"
             ],
             [
              0.6666666666666666,
              "#ed7953"
             ],
             [
              0.7777777777777778,
              "#fb9f3a"
             ],
             [
              0.8888888888888888,
              "#fdca26"
             ],
             [
              1,
              "#f0f921"
             ]
            ],
            "type": "heatmap"
           }
          ],
          "heatmapgl": [
           {
            "colorbar": {
             "outlinewidth": 0,
             "ticks": ""
            },
            "colorscale": [
             [
              0,
              "#0d0887"
             ],
             [
              0.1111111111111111,
              "#46039f"
             ],
             [
              0.2222222222222222,
              "#7201a8"
             ],
             [
              0.3333333333333333,
              "#9c179e"
             ],
             [
              0.4444444444444444,
              "#bd3786"
             ],
             [
              0.5555555555555556,
              "#d8576b"
             ],
             [
              0.6666666666666666,
              "#ed7953"
             ],
             [
              0.7777777777777778,
              "#fb9f3a"
             ],
             [
              0.8888888888888888,
              "#fdca26"
             ],
             [
              1,
              "#f0f921"
             ]
            ],
            "type": "heatmapgl"
           }
          ],
          "histogram": [
           {
            "marker": {
             "pattern": {
              "fillmode": "overlay",
              "size": 10,
              "solidity": 0.2
             }
            },
            "type": "histogram"
           }
          ],
          "histogram2d": [
           {
            "colorbar": {
             "outlinewidth": 0,
             "ticks": ""
            },
            "colorscale": [
             [
              0,
              "#0d0887"
             ],
             [
              0.1111111111111111,
              "#46039f"
             ],
             [
              0.2222222222222222,
              "#7201a8"
             ],
             [
              0.3333333333333333,
              "#9c179e"
             ],
             [
              0.4444444444444444,
              "#bd3786"
             ],
             [
              0.5555555555555556,
              "#d8576b"
             ],
             [
              0.6666666666666666,
              "#ed7953"
             ],
             [
              0.7777777777777778,
              "#fb9f3a"
             ],
             [
              0.8888888888888888,
              "#fdca26"
             ],
             [
              1,
              "#f0f921"
             ]
            ],
            "type": "histogram2d"
           }
          ],
          "histogram2dcontour": [
           {
            "colorbar": {
             "outlinewidth": 0,
             "ticks": ""
            },
            "colorscale": [
             [
              0,
              "#0d0887"
             ],
             [
              0.1111111111111111,
              "#46039f"
             ],
             [
              0.2222222222222222,
              "#7201a8"
             ],
             [
              0.3333333333333333,
              "#9c179e"
             ],
             [
              0.4444444444444444,
              "#bd3786"
             ],
             [
              0.5555555555555556,
              "#d8576b"
             ],
             [
              0.6666666666666666,
              "#ed7953"
             ],
             [
              0.7777777777777778,
              "#fb9f3a"
             ],
             [
              0.8888888888888888,
              "#fdca26"
             ],
             [
              1,
              "#f0f921"
             ]
            ],
            "type": "histogram2dcontour"
           }
          ],
          "mesh3d": [
           {
            "colorbar": {
             "outlinewidth": 0,
             "ticks": ""
            },
            "type": "mesh3d"
           }
          ],
          "parcoords": [
           {
            "line": {
             "colorbar": {
              "outlinewidth": 0,
              "ticks": ""
             }
            },
            "type": "parcoords"
           }
          ],
          "pie": [
           {
            "automargin": true,
            "type": "pie"
           }
          ],
          "scatter": [
           {
            "fillpattern": {
             "fillmode": "overlay",
             "size": 10,
             "solidity": 0.2
            },
            "type": "scatter"
           }
          ],
          "scatter3d": [
           {
            "line": {
             "colorbar": {
              "outlinewidth": 0,
              "ticks": ""
             }
            },
            "marker": {
             "colorbar": {
              "outlinewidth": 0,
              "ticks": ""
             }
            },
            "type": "scatter3d"
           }
          ],
          "scattercarpet": [
           {
            "marker": {
             "colorbar": {
              "outlinewidth": 0,
              "ticks": ""
             }
            },
            "type": "scattercarpet"
           }
          ],
          "scattergeo": [
           {
            "marker": {
             "colorbar": {
              "outlinewidth": 0,
              "ticks": ""
             }
            },
            "type": "scattergeo"
           }
          ],
          "scattergl": [
           {
            "marker": {
             "colorbar": {
              "outlinewidth": 0,
              "ticks": ""
             }
            },
            "type": "scattergl"
           }
          ],
          "scattermapbox": [
           {
            "marker": {
             "colorbar": {
              "outlinewidth": 0,
              "ticks": ""
             }
            },
            "type": "scattermapbox"
           }
          ],
          "scatterpolar": [
           {
            "marker": {
             "colorbar": {
              "outlinewidth": 0,
              "ticks": ""
             }
            },
            "type": "scatterpolar"
           }
          ],
          "scatterpolargl": [
           {
            "marker": {
             "colorbar": {
              "outlinewidth": 0,
              "ticks": ""
             }
            },
            "type": "scatterpolargl"
           }
          ],
          "scatterternary": [
           {
            "marker": {
             "colorbar": {
              "outlinewidth": 0,
              "ticks": ""
             }
            },
            "type": "scatterternary"
           }
          ],
          "surface": [
           {
            "colorbar": {
             "outlinewidth": 0,
             "ticks": ""
            },
            "colorscale": [
             [
              0,
              "#0d0887"
             ],
             [
              0.1111111111111111,
              "#46039f"
             ],
             [
              0.2222222222222222,
              "#7201a8"
             ],
             [
              0.3333333333333333,
              "#9c179e"
             ],
             [
              0.4444444444444444,
              "#bd3786"
             ],
             [
              0.5555555555555556,
              "#d8576b"
             ],
             [
              0.6666666666666666,
              "#ed7953"
             ],
             [
              0.7777777777777778,
              "#fb9f3a"
             ],
             [
              0.8888888888888888,
              "#fdca26"
             ],
             [
              1,
              "#f0f921"
             ]
            ],
            "type": "surface"
           }
          ],
          "table": [
           {
            "cells": {
             "fill": {
              "color": "#EBF0F8"
             },
             "line": {
              "color": "white"
             }
            },
            "header": {
             "fill": {
              "color": "#C8D4E3"
             },
             "line": {
              "color": "white"
             }
            },
            "type": "table"
           }
          ]
         },
         "layout": {
          "annotationdefaults": {
           "arrowcolor": "#2a3f5f",
           "arrowhead": 0,
           "arrowwidth": 1
          },
          "autotypenumbers": "strict",
          "coloraxis": {
           "colorbar": {
            "outlinewidth": 0,
            "ticks": ""
           }
          },
          "colorscale": {
           "diverging": [
            [
             0,
             "#8e0152"
            ],
            [
             0.1,
             "#c51b7d"
            ],
            [
             0.2,
             "#de77ae"
            ],
            [
             0.3,
             "#f1b6da"
            ],
            [
             0.4,
             "#fde0ef"
            ],
            [
             0.5,
             "#f7f7f7"
            ],
            [
             0.6,
             "#e6f5d0"
            ],
            [
             0.7,
             "#b8e186"
            ],
            [
             0.8,
             "#7fbc41"
            ],
            [
             0.9,
             "#4d9221"
            ],
            [
             1,
             "#276419"
            ]
           ],
           "sequential": [
            [
             0,
             "#0d0887"
            ],
            [
             0.1111111111111111,
             "#46039f"
            ],
            [
             0.2222222222222222,
             "#7201a8"
            ],
            [
             0.3333333333333333,
             "#9c179e"
            ],
            [
             0.4444444444444444,
             "#bd3786"
            ],
            [
             0.5555555555555556,
             "#d8576b"
            ],
            [
             0.6666666666666666,
             "#ed7953"
            ],
            [
             0.7777777777777778,
             "#fb9f3a"
            ],
            [
             0.8888888888888888,
             "#fdca26"
            ],
            [
             1,
             "#f0f921"
            ]
           ],
           "sequentialminus": [
            [
             0,
             "#0d0887"
            ],
            [
             0.1111111111111111,
             "#46039f"
            ],
            [
             0.2222222222222222,
             "#7201a8"
            ],
            [
             0.3333333333333333,
             "#9c179e"
            ],
            [
             0.4444444444444444,
             "#bd3786"
            ],
            [
             0.5555555555555556,
             "#d8576b"
            ],
            [
             0.6666666666666666,
             "#ed7953"
            ],
            [
             0.7777777777777778,
             "#fb9f3a"
            ],
            [
             0.8888888888888888,
             "#fdca26"
            ],
            [
             1,
             "#f0f921"
            ]
           ]
          },
          "colorway": [
           "#636efa",
           "#EF553B",
           "#00cc96",
           "#ab63fa",
           "#FFA15A",
           "#19d3f3",
           "#FF6692",
           "#B6E880",
           "#FF97FF",
           "#FECB52"
          ],
          "font": {
           "color": "#2a3f5f"
          },
          "geo": {
           "bgcolor": "white",
           "lakecolor": "white",
           "landcolor": "#E5ECF6",
           "showlakes": true,
           "showland": true,
           "subunitcolor": "white"
          },
          "hoverlabel": {
           "align": "left"
          },
          "hovermode": "closest",
          "mapbox": {
           "style": "light"
          },
          "paper_bgcolor": "white",
          "plot_bgcolor": "#E5ECF6",
          "polar": {
           "angularaxis": {
            "gridcolor": "white",
            "linecolor": "white",
            "ticks": ""
           },
           "bgcolor": "#E5ECF6",
           "radialaxis": {
            "gridcolor": "white",
            "linecolor": "white",
            "ticks": ""
           }
          },
          "scene": {
           "xaxis": {
            "backgroundcolor": "#E5ECF6",
            "gridcolor": "white",
            "gridwidth": 2,
            "linecolor": "white",
            "showbackground": true,
            "ticks": "",
            "zerolinecolor": "white"
           },
           "yaxis": {
            "backgroundcolor": "#E5ECF6",
            "gridcolor": "white",
            "gridwidth": 2,
            "linecolor": "white",
            "showbackground": true,
            "ticks": "",
            "zerolinecolor": "white"
           },
           "zaxis": {
            "backgroundcolor": "#E5ECF6",
            "gridcolor": "white",
            "gridwidth": 2,
            "linecolor": "white",
            "showbackground": true,
            "ticks": "",
            "zerolinecolor": "white"
           }
          },
          "shapedefaults": {
           "line": {
            "color": "#2a3f5f"
           }
          },
          "ternary": {
           "aaxis": {
            "gridcolor": "white",
            "linecolor": "white",
            "ticks": ""
           },
           "baxis": {
            "gridcolor": "white",
            "linecolor": "white",
            "ticks": ""
           },
           "bgcolor": "#E5ECF6",
           "caxis": {
            "gridcolor": "white",
            "linecolor": "white",
            "ticks": ""
           }
          },
          "title": {
           "x": 0.05
          },
          "xaxis": {
           "automargin": true,
           "gridcolor": "white",
           "linecolor": "white",
           "ticks": "",
           "title": {
            "standoff": 15
           },
           "zerolinecolor": "white",
           "zerolinewidth": 2
          },
          "yaxis": {
           "automargin": true,
           "gridcolor": "white",
           "linecolor": "white",
           "ticks": "",
           "title": {
            "standoff": 15
           },
           "zerolinecolor": "white",
           "zerolinewidth": 2
          }
         }
        },
        "title": {
         "text": "Nombre de messages par jour lors de SpeeDons 2022",
         "x": 0.5,
         "xanchor": "center",
         "y": 0.95,
         "yanchor": "top"
        },
        "xaxis": {
         "anchor": "y",
         "categoryarray": [
          "Friday",
          "Saturday",
          "Sunday"
         ],
         "categoryorder": "array",
         "domain": [
          0,
          1
         ],
         "title": {
          "text": "Jour"
         }
        },
        "yaxis": {
         "anchor": "x",
         "domain": [
          0,
          1
         ],
         "title": {
          "text": "Nombre de messages"
         }
        }
       }
      },
      "text/html": [
       "<div>                        <script type=\"text/javascript\">window.PlotlyConfig = {MathJaxConfig: 'local'};</script>\n",
       "        <script src=\"https://cdn.plot.ly/plotly-2.11.1.min.js\"></script>                <div id=\"ed116113-80ae-4776-8697-e737c1c7c6bd\" class=\"plotly-graph-div\" style=\"height:100%; width:100%;\"></div>            <script type=\"text/javascript\">                                    window.PLOTLYENV=window.PLOTLYENV || {};                                    if (document.getElementById(\"ed116113-80ae-4776-8697-e737c1c7c6bd\")) {                    Plotly.newPlot(                        \"ed116113-80ae-4776-8697-e737c1c7c6bd\",                        [{\"alignmentgroup\":\"True\",\"hovertemplate\":\"message_day=%{x}<br>message=%{y}<extra></extra>\",\"legendgroup\":\"Friday\",\"marker\":{\"color\":\"#636efa\",\"pattern\":{\"shape\":\"\"}},\"name\":\"Friday\",\"offsetgroup\":\"Friday\",\"orientation\":\"v\",\"showlegend\":true,\"textposition\":\"auto\",\"x\":[\"Friday\"],\"xaxis\":\"x\",\"y\":[53806],\"yaxis\":\"y\",\"type\":\"bar\"},{\"alignmentgroup\":\"True\",\"hovertemplate\":\"message_day=%{x}<br>message=%{y}<extra></extra>\",\"legendgroup\":\"Saturday\",\"marker\":{\"color\":\"#EF553B\",\"pattern\":{\"shape\":\"\"}},\"name\":\"Saturday\",\"offsetgroup\":\"Saturday\",\"orientation\":\"v\",\"showlegend\":true,\"textposition\":\"auto\",\"x\":[\"Saturday\"],\"xaxis\":\"x\",\"y\":[111228],\"yaxis\":\"y\",\"type\":\"bar\"},{\"alignmentgroup\":\"True\",\"hovertemplate\":\"message_day=%{x}<br>message=%{y}<extra></extra>\",\"legendgroup\":\"Sunday\",\"marker\":{\"color\":\"#00cc96\",\"pattern\":{\"shape\":\"\"}},\"name\":\"Sunday\",\"offsetgroup\":\"Sunday\",\"orientation\":\"v\",\"showlegend\":true,\"textposition\":\"auto\",\"x\":[\"Sunday\"],\"xaxis\":\"x\",\"y\":[115782],\"yaxis\":\"y\",\"type\":\"bar\"}],                        {\"template\":{\"data\":{\"histogram2dcontour\":[{\"type\":\"histogram2dcontour\",\"colorbar\":{\"outlinewidth\":0,\"ticks\":\"\"},\"colorscale\":[[0.0,\"#0d0887\"],[0.1111111111111111,\"#46039f\"],[0.2222222222222222,\"#7201a8\"],[0.3333333333333333,\"#9c179e\"],[0.4444444444444444,\"#bd3786\"],[0.5555555555555556,\"#d8576b\"],[0.6666666666666666,\"#ed7953\"],[0.7777777777777778,\"#fb9f3a\"],[0.8888888888888888,\"#fdca26\"],[1.0,\"#f0f921\"]]}],\"choropleth\":[{\"type\":\"choropleth\",\"colorbar\":{\"outlinewidth\":0,\"ticks\":\"\"}}],\"histogram2d\":[{\"type\":\"histogram2d\",\"colorbar\":{\"outlinewidth\":0,\"ticks\":\"\"},\"colorscale\":[[0.0,\"#0d0887\"],[0.1111111111111111,\"#46039f\"],[0.2222222222222222,\"#7201a8\"],[0.3333333333333333,\"#9c179e\"],[0.4444444444444444,\"#bd3786\"],[0.5555555555555556,\"#d8576b\"],[0.6666666666666666,\"#ed7953\"],[0.7777777777777778,\"#fb9f3a\"],[0.8888888888888888,\"#fdca26\"],[1.0,\"#f0f921\"]]}],\"heatmap\":[{\"type\":\"heatmap\",\"colorbar\":{\"outlinewidth\":0,\"ticks\":\"\"},\"colorscale\":[[0.0,\"#0d0887\"],[0.1111111111111111,\"#46039f\"],[0.2222222222222222,\"#7201a8\"],[0.3333333333333333,\"#9c179e\"],[0.4444444444444444,\"#bd3786\"],[0.5555555555555556,\"#d8576b\"],[0.6666666666666666,\"#ed7953\"],[0.7777777777777778,\"#fb9f3a\"],[0.8888888888888888,\"#fdca26\"],[1.0,\"#f0f921\"]]}],\"heatmapgl\":[{\"type\":\"heatmapgl\",\"colorbar\":{\"outlinewidth\":0,\"ticks\":\"\"},\"colorscale\":[[0.0,\"#0d0887\"],[0.1111111111111111,\"#46039f\"],[0.2222222222222222,\"#7201a8\"],[0.3333333333333333,\"#9c179e\"],[0.4444444444444444,\"#bd3786\"],[0.5555555555555556,\"#d8576b\"],[0.6666666666666666,\"#ed7953\"],[0.7777777777777778,\"#fb9f3a\"],[0.8888888888888888,\"#fdca26\"],[1.0,\"#f0f921\"]]}],\"contourcarpet\":[{\"type\":\"contourcarpet\",\"colorbar\":{\"outlinewidth\":0,\"ticks\":\"\"}}],\"contour\":[{\"type\":\"contour\",\"colorbar\":{\"outlinewidth\":0,\"ticks\":\"\"},\"colorscale\":[[0.0,\"#0d0887\"],[0.1111111111111111,\"#46039f\"],[0.2222222222222222,\"#7201a8\"],[0.3333333333333333,\"#9c179e\"],[0.4444444444444444,\"#bd3786\"],[0.5555555555555556,\"#d8576b\"],[0.6666666666666666,\"#ed7953\"],[0.7777777777777778,\"#fb9f3a\"],[0.8888888888888888,\"#fdca26\"],[1.0,\"#f0f921\"]]}],\"surface\":[{\"type\":\"surface\",\"colorbar\":{\"outlinewidth\":0,\"ticks\":\"\"},\"colorscale\":[[0.0,\"#0d0887\"],[0.1111111111111111,\"#46039f\"],[0.2222222222222222,\"#7201a8\"],[0.3333333333333333,\"#9c179e\"],[0.4444444444444444,\"#bd3786\"],[0.5555555555555556,\"#d8576b\"],[0.6666666666666666,\"#ed7953\"],[0.7777777777777778,\"#fb9f3a\"],[0.8888888888888888,\"#fdca26\"],[1.0,\"#f0f921\"]]}],\"mesh3d\":[{\"type\":\"mesh3d\",\"colorbar\":{\"outlinewidth\":0,\"ticks\":\"\"}}],\"scatter\":[{\"fillpattern\":{\"fillmode\":\"overlay\",\"size\":10,\"solidity\":0.2},\"type\":\"scatter\"}],\"parcoords\":[{\"type\":\"parcoords\",\"line\":{\"colorbar\":{\"outlinewidth\":0,\"ticks\":\"\"}}}],\"scatterpolargl\":[{\"type\":\"scatterpolargl\",\"marker\":{\"colorbar\":{\"outlinewidth\":0,\"ticks\":\"\"}}}],\"bar\":[{\"error_x\":{\"color\":\"#2a3f5f\"},\"error_y\":{\"color\":\"#2a3f5f\"},\"marker\":{\"line\":{\"color\":\"#E5ECF6\",\"width\":0.5},\"pattern\":{\"fillmode\":\"overlay\",\"size\":10,\"solidity\":0.2}},\"type\":\"bar\"}],\"scattergeo\":[{\"type\":\"scattergeo\",\"marker\":{\"colorbar\":{\"outlinewidth\":0,\"ticks\":\"\"}}}],\"scatterpolar\":[{\"type\":\"scatterpolar\",\"marker\":{\"colorbar\":{\"outlinewidth\":0,\"ticks\":\"\"}}}],\"histogram\":[{\"marker\":{\"pattern\":{\"fillmode\":\"overlay\",\"size\":10,\"solidity\":0.2}},\"type\":\"histogram\"}],\"scattergl\":[{\"type\":\"scattergl\",\"marker\":{\"colorbar\":{\"outlinewidth\":0,\"ticks\":\"\"}}}],\"scatter3d\":[{\"type\":\"scatter3d\",\"line\":{\"colorbar\":{\"outlinewidth\":0,\"ticks\":\"\"}},\"marker\":{\"colorbar\":{\"outlinewidth\":0,\"ticks\":\"\"}}}],\"scattermapbox\":[{\"type\":\"scattermapbox\",\"marker\":{\"colorbar\":{\"outlinewidth\":0,\"ticks\":\"\"}}}],\"scatterternary\":[{\"type\":\"scatterternary\",\"marker\":{\"colorbar\":{\"outlinewidth\":0,\"ticks\":\"\"}}}],\"scattercarpet\":[{\"type\":\"scattercarpet\",\"marker\":{\"colorbar\":{\"outlinewidth\":0,\"ticks\":\"\"}}}],\"carpet\":[{\"aaxis\":{\"endlinecolor\":\"#2a3f5f\",\"gridcolor\":\"white\",\"linecolor\":\"white\",\"minorgridcolor\":\"white\",\"startlinecolor\":\"#2a3f5f\"},\"baxis\":{\"endlinecolor\":\"#2a3f5f\",\"gridcolor\":\"white\",\"linecolor\":\"white\",\"minorgridcolor\":\"white\",\"startlinecolor\":\"#2a3f5f\"},\"type\":\"carpet\"}],\"table\":[{\"cells\":{\"fill\":{\"color\":\"#EBF0F8\"},\"line\":{\"color\":\"white\"}},\"header\":{\"fill\":{\"color\":\"#C8D4E3\"},\"line\":{\"color\":\"white\"}},\"type\":\"table\"}],\"barpolar\":[{\"marker\":{\"line\":{\"color\":\"#E5ECF6\",\"width\":0.5},\"pattern\":{\"fillmode\":\"overlay\",\"size\":10,\"solidity\":0.2}},\"type\":\"barpolar\"}],\"pie\":[{\"automargin\":true,\"type\":\"pie\"}]},\"layout\":{\"autotypenumbers\":\"strict\",\"colorway\":[\"#636efa\",\"#EF553B\",\"#00cc96\",\"#ab63fa\",\"#FFA15A\",\"#19d3f3\",\"#FF6692\",\"#B6E880\",\"#FF97FF\",\"#FECB52\"],\"font\":{\"color\":\"#2a3f5f\"},\"hovermode\":\"closest\",\"hoverlabel\":{\"align\":\"left\"},\"paper_bgcolor\":\"white\",\"plot_bgcolor\":\"#E5ECF6\",\"polar\":{\"bgcolor\":\"#E5ECF6\",\"angularaxis\":{\"gridcolor\":\"white\",\"linecolor\":\"white\",\"ticks\":\"\"},\"radialaxis\":{\"gridcolor\":\"white\",\"linecolor\":\"white\",\"ticks\":\"\"}},\"ternary\":{\"bgcolor\":\"#E5ECF6\",\"aaxis\":{\"gridcolor\":\"white\",\"linecolor\":\"white\",\"ticks\":\"\"},\"baxis\":{\"gridcolor\":\"white\",\"linecolor\":\"white\",\"ticks\":\"\"},\"caxis\":{\"gridcolor\":\"white\",\"linecolor\":\"white\",\"ticks\":\"\"}},\"coloraxis\":{\"colorbar\":{\"outlinewidth\":0,\"ticks\":\"\"}},\"colorscale\":{\"sequential\":[[0.0,\"#0d0887\"],[0.1111111111111111,\"#46039f\"],[0.2222222222222222,\"#7201a8\"],[0.3333333333333333,\"#9c179e\"],[0.4444444444444444,\"#bd3786\"],[0.5555555555555556,\"#d8576b\"],[0.6666666666666666,\"#ed7953\"],[0.7777777777777778,\"#fb9f3a\"],[0.8888888888888888,\"#fdca26\"],[1.0,\"#f0f921\"]],\"sequentialminus\":[[0.0,\"#0d0887\"],[0.1111111111111111,\"#46039f\"],[0.2222222222222222,\"#7201a8\"],[0.3333333333333333,\"#9c179e\"],[0.4444444444444444,\"#bd3786\"],[0.5555555555555556,\"#d8576b\"],[0.6666666666666666,\"#ed7953\"],[0.7777777777777778,\"#fb9f3a\"],[0.8888888888888888,\"#fdca26\"],[1.0,\"#f0f921\"]],\"diverging\":[[0,\"#8e0152\"],[0.1,\"#c51b7d\"],[0.2,\"#de77ae\"],[0.3,\"#f1b6da\"],[0.4,\"#fde0ef\"],[0.5,\"#f7f7f7\"],[0.6,\"#e6f5d0\"],[0.7,\"#b8e186\"],[0.8,\"#7fbc41\"],[0.9,\"#4d9221\"],[1,\"#276419\"]]},\"xaxis\":{\"gridcolor\":\"white\",\"linecolor\":\"white\",\"ticks\":\"\",\"title\":{\"standoff\":15},\"zerolinecolor\":\"white\",\"automargin\":true,\"zerolinewidth\":2},\"yaxis\":{\"gridcolor\":\"white\",\"linecolor\":\"white\",\"ticks\":\"\",\"title\":{\"standoff\":15},\"zerolinecolor\":\"white\",\"automargin\":true,\"zerolinewidth\":2},\"scene\":{\"xaxis\":{\"backgroundcolor\":\"#E5ECF6\",\"gridcolor\":\"white\",\"linecolor\":\"white\",\"showbackground\":true,\"ticks\":\"\",\"zerolinecolor\":\"white\",\"gridwidth\":2},\"yaxis\":{\"backgroundcolor\":\"#E5ECF6\",\"gridcolor\":\"white\",\"linecolor\":\"white\",\"showbackground\":true,\"ticks\":\"\",\"zerolinecolor\":\"white\",\"gridwidth\":2},\"zaxis\":{\"backgroundcolor\":\"#E5ECF6\",\"gridcolor\":\"white\",\"linecolor\":\"white\",\"showbackground\":true,\"ticks\":\"\",\"zerolinecolor\":\"white\",\"gridwidth\":2}},\"shapedefaults\":{\"line\":{\"color\":\"#2a3f5f\"}},\"annotationdefaults\":{\"arrowcolor\":\"#2a3f5f\",\"arrowhead\":0,\"arrowwidth\":1},\"geo\":{\"bgcolor\":\"white\",\"landcolor\":\"#E5ECF6\",\"subunitcolor\":\"white\",\"showland\":true,\"showlakes\":true,\"lakecolor\":\"white\"},\"title\":{\"x\":0.05},\"mapbox\":{\"style\":\"light\"}}},\"xaxis\":{\"anchor\":\"y\",\"domain\":[0.0,1.0],\"title\":{\"text\":\"Jour\"},\"categoryorder\":\"array\",\"categoryarray\":[\"Friday\",\"Saturday\",\"Sunday\"]},\"yaxis\":{\"anchor\":\"x\",\"domain\":[0.0,1.0],\"title\":{\"text\":\"Nombre de messages\"}},\"legend\":{\"title\":{\"text\":\"message_day\"},\"tracegroupgap\":0},\"margin\":{\"t\":60},\"barmode\":\"relative\",\"title\":{\"text\":\"Nombre de messages par jour lors de SpeeDons 2022\",\"y\":0.95,\"x\":0.5,\"xanchor\":\"center\",\"yanchor\":\"top\"}},                        {\"responsive\": true}                    )                };                            </script>        </div>"
      ],
      "text/plain": [
       "Figure({\n",
       "    'data': [{'alignmentgroup': 'True',\n",
       "              'hovertemplate': 'message_day=%{x}<br>message=%{y}<extra></extra>',\n",
       "              'legendgroup': 'Friday',\n",
       "              'marker': {'color': '#636efa', 'pattern': {'shape': ''}},\n",
       "              'name': 'Friday',\n",
       "              'offsetgroup': 'Friday',\n",
       "              'orientation': 'v',\n",
       "              'showlegend': True,\n",
       "              'textposition': 'auto',\n",
       "              'type': 'bar',\n",
       "              'x': array(['Friday'], dtype=object),\n",
       "              'xaxis': 'x',\n",
       "              'y': array([53806]),\n",
       "              'yaxis': 'y'},\n",
       "             {'alignmentgroup': 'True',\n",
       "              'hovertemplate': 'message_day=%{x}<br>message=%{y}<extra></extra>',\n",
       "              'legendgroup': 'Saturday',\n",
       "              'marker': {'color': '#EF553B', 'pattern': {'shape': ''}},\n",
       "              'name': 'Saturday',\n",
       "              'offsetgroup': 'Saturday',\n",
       "              'orientation': 'v',\n",
       "              'showlegend': True,\n",
       "              'textposition': 'auto',\n",
       "              'type': 'bar',\n",
       "              'x': array(['Saturday'], dtype=object),\n",
       "              'xaxis': 'x',\n",
       "              'y': array([111228]),\n",
       "              'yaxis': 'y'},\n",
       "             {'alignmentgroup': 'True',\n",
       "              'hovertemplate': 'message_day=%{x}<br>message=%{y}<extra></extra>',\n",
       "              'legendgroup': 'Sunday',\n",
       "              'marker': {'color': '#00cc96', 'pattern': {'shape': ''}},\n",
       "              'name': 'Sunday',\n",
       "              'offsetgroup': 'Sunday',\n",
       "              'orientation': 'v',\n",
       "              'showlegend': True,\n",
       "              'textposition': 'auto',\n",
       "              'type': 'bar',\n",
       "              'x': array(['Sunday'], dtype=object),\n",
       "              'xaxis': 'x',\n",
       "              'y': array([115782]),\n",
       "              'yaxis': 'y'}],\n",
       "    'layout': {'barmode': 'relative',\n",
       "               'legend': {'title': {'text': 'message_day'}, 'tracegroupgap': 0},\n",
       "               'margin': {'t': 60},\n",
       "               'template': '...',\n",
       "               'title': {'text': 'Nombre de messages par jour lors de SpeeDons 2022',\n",
       "                         'x': 0.5,\n",
       "                         'xanchor': 'center',\n",
       "                         'y': 0.95,\n",
       "                         'yanchor': 'top'},\n",
       "               'xaxis': {'anchor': 'y',\n",
       "                         'categoryarray': [Friday, Saturday, Sunday],\n",
       "                         'categoryorder': 'array',\n",
       "                         'domain': [0.0, 1.0],\n",
       "                         'title': {'text': 'Jour'}},\n",
       "               'yaxis': {'anchor': 'x', 'domain': [0.0, 1.0], 'title': {'text': 'Nombre de messages'}}}\n",
       "})"
      ]
     },
     "execution_count": 121,
     "metadata": {},
     "output_type": "execute_result"
    }
   ],
   "source": [
    "messages_per_day = pd.DataFrame(messages.groupby(\"message_day\").count()[\"message\"])\n",
    "\n",
    "fig_1 = px.bar(data_frame=messages_per_day, y=\"message\", color=messages_per_day.index)\n",
    "fig_1.update_layout(title={\n",
    "        'text': f\"Nombre de messages par jour lors de SpeeDons 2022\",\n",
    "        'y':0.95,\n",
    "        'x':0.5,\n",
    "        'xanchor': 'center',\n",
    "        'yanchor': 'top'})\n",
    "fig_1.update_xaxes(title=\"Jour\")\n",
    "fig_1.update_yaxes(title=\"Nombre de messages\")"
   ]
  },
  {
   "cell_type": "markdown",
   "metadata": {},
   "source": [
    "Top N des meilleurs posteurs"
   ]
  },
  {
   "cell_type": "code",
   "execution_count": 76,
   "metadata": {},
   "outputs": [
    {
     "data": {
      "text/html": [
       "<div>\n",
       "<style scoped>\n",
       "    .dataframe tbody tr th:only-of-type {\n",
       "        vertical-align: middle;\n",
       "    }\n",
       "\n",
       "    .dataframe tbody tr th {\n",
       "        vertical-align: top;\n",
       "    }\n",
       "\n",
       "    .dataframe thead th {\n",
       "        text-align: right;\n",
       "    }\n",
       "</style>\n",
       "<table border=\"1\" class=\"dataframe\">\n",
       "  <thead>\n",
       "    <tr style=\"text-align: right;\">\n",
       "      <th></th>\n",
       "      <th>message</th>\n",
       "    </tr>\n",
       "    <tr>\n",
       "      <th>author_name</th>\n",
       "      <th></th>\n",
       "    </tr>\n",
       "  </thead>\n",
       "  <tbody>\n",
       "    <tr>\n",
       "      <th>J0selitoo</th>\n",
       "      <td>1596</td>\n",
       "    </tr>\n",
       "    <tr>\n",
       "      <th>KBlastR</th>\n",
       "      <td>1276</td>\n",
       "    </tr>\n",
       "    <tr>\n",
       "      <th>YohanLeHeroo</th>\n",
       "      <td>1155</td>\n",
       "    </tr>\n",
       "    <tr>\n",
       "      <th>CoLLiNeClegane</th>\n",
       "      <td>1036</td>\n",
       "    </tr>\n",
       "    <tr>\n",
       "      <th>ForbiddenPit</th>\n",
       "      <td>947</td>\n",
       "    </tr>\n",
       "  </tbody>\n",
       "</table>\n",
       "</div>"
      ],
      "text/plain": [
       "                message\n",
       "author_name            \n",
       "J0selitoo          1596\n",
       "KBlastR            1276\n",
       "YohanLeHeroo       1155\n",
       "CoLLiNeClegane     1036\n",
       "ForbiddenPit        947"
      ]
     },
     "execution_count": 76,
     "metadata": {},
     "output_type": "execute_result"
    }
   ],
   "source": [
    "N = 5\n",
    "n_best_viewers = messages.groupby(\"author_name\")[\"message\"].count().sort_values(ascending=False)[:N]\n",
    "n_best_viewers = pd.DataFrame(n_best_viewers, index=n_best_viewers.index);n_best_viewers"
   ]
  },
  {
   "cell_type": "code",
   "execution_count": 102,
   "metadata": {},
   "outputs": [
    {
     "ename": "ValueError",
     "evalue": "Mime type rendering requires nbformat>=4.2.0 but it is not installed",
     "output_type": "error",
     "traceback": [
      "\u001b[0;31m---------------------------------------------------------------------------\u001b[0m",
      "\u001b[0;31mValueError\u001b[0m                                Traceback (most recent call last)",
      "File \u001b[0;32m~/miniconda3/envs/SpeeDonsChatAnalysis/lib/python3.10/site-packages/IPython/core/formatters.py:921\u001b[0m, in \u001b[0;36mIPythonDisplayFormatter.__call__\u001b[0;34m(self, obj)\u001b[0m\n\u001b[1;32m    <a href='file:///home/cmnemoi/miniconda3/envs/SpeeDonsChatAnalysis/lib/python3.10/site-packages/IPython/core/formatters.py?line=918'>919</a>\u001b[0m method \u001b[39m=\u001b[39m get_real_method(obj, \u001b[39mself\u001b[39m\u001b[39m.\u001b[39mprint_method)\n\u001b[1;32m    <a href='file:///home/cmnemoi/miniconda3/envs/SpeeDonsChatAnalysis/lib/python3.10/site-packages/IPython/core/formatters.py?line=919'>920</a>\u001b[0m \u001b[39mif\u001b[39;00m method \u001b[39mis\u001b[39;00m \u001b[39mnot\u001b[39;00m \u001b[39mNone\u001b[39;00m:\n\u001b[0;32m--> <a href='file:///home/cmnemoi/miniconda3/envs/SpeeDonsChatAnalysis/lib/python3.10/site-packages/IPython/core/formatters.py?line=920'>921</a>\u001b[0m     method()\n\u001b[1;32m    <a href='file:///home/cmnemoi/miniconda3/envs/SpeeDonsChatAnalysis/lib/python3.10/site-packages/IPython/core/formatters.py?line=921'>922</a>\u001b[0m     \u001b[39mreturn\u001b[39;00m \u001b[39mTrue\u001b[39;00m\n",
      "File \u001b[0;32m~/miniconda3/envs/SpeeDonsChatAnalysis/lib/python3.10/site-packages/plotly/basedatatypes.py:844\u001b[0m, in \u001b[0;36mBaseFigure._ipython_display_\u001b[0;34m(self)\u001b[0m\n\u001b[1;32m    <a href='file:///home/cmnemoi/miniconda3/envs/SpeeDonsChatAnalysis/lib/python3.10/site-packages/plotly/basedatatypes.py?line=840'>841</a>\u001b[0m \u001b[39mimport\u001b[39;00m \u001b[39mplotly\u001b[39;00m\u001b[39m.\u001b[39;00m\u001b[39mio\u001b[39;00m \u001b[39mas\u001b[39;00m \u001b[39mpio\u001b[39;00m\n\u001b[1;32m    <a href='file:///home/cmnemoi/miniconda3/envs/SpeeDonsChatAnalysis/lib/python3.10/site-packages/plotly/basedatatypes.py?line=842'>843</a>\u001b[0m \u001b[39mif\u001b[39;00m pio\u001b[39m.\u001b[39mrenderers\u001b[39m.\u001b[39mrender_on_display \u001b[39mand\u001b[39;00m pio\u001b[39m.\u001b[39mrenderers\u001b[39m.\u001b[39mdefault:\n\u001b[0;32m--> <a href='file:///home/cmnemoi/miniconda3/envs/SpeeDonsChatAnalysis/lib/python3.10/site-packages/plotly/basedatatypes.py?line=843'>844</a>\u001b[0m     pio\u001b[39m.\u001b[39;49mshow(\u001b[39mself\u001b[39;49m)\n\u001b[1;32m    <a href='file:///home/cmnemoi/miniconda3/envs/SpeeDonsChatAnalysis/lib/python3.10/site-packages/plotly/basedatatypes.py?line=844'>845</a>\u001b[0m \u001b[39melse\u001b[39;00m:\n\u001b[1;32m    <a href='file:///home/cmnemoi/miniconda3/envs/SpeeDonsChatAnalysis/lib/python3.10/site-packages/plotly/basedatatypes.py?line=845'>846</a>\u001b[0m     \u001b[39mprint\u001b[39m(\u001b[39mrepr\u001b[39m(\u001b[39mself\u001b[39m))\n",
      "File \u001b[0;32m~/miniconda3/envs/SpeeDonsChatAnalysis/lib/python3.10/site-packages/plotly/io/_renderers.py:397\u001b[0m, in \u001b[0;36mshow\u001b[0;34m(fig, renderer, validate, **kwargs)\u001b[0m\n\u001b[1;32m    <a href='file:///home/cmnemoi/miniconda3/envs/SpeeDonsChatAnalysis/lib/python3.10/site-packages/plotly/io/_renderers.py?line=391'>392</a>\u001b[0m         \u001b[39mraise\u001b[39;00m \u001b[39mValueError\u001b[39;00m(\n\u001b[1;32m    <a href='file:///home/cmnemoi/miniconda3/envs/SpeeDonsChatAnalysis/lib/python3.10/site-packages/plotly/io/_renderers.py?line=392'>393</a>\u001b[0m             \u001b[39m\"\u001b[39m\u001b[39mMime type rendering requires ipython but it is not installed\u001b[39m\u001b[39m\"\u001b[39m\n\u001b[1;32m    <a href='file:///home/cmnemoi/miniconda3/envs/SpeeDonsChatAnalysis/lib/python3.10/site-packages/plotly/io/_renderers.py?line=393'>394</a>\u001b[0m         )\n\u001b[1;32m    <a href='file:///home/cmnemoi/miniconda3/envs/SpeeDonsChatAnalysis/lib/python3.10/site-packages/plotly/io/_renderers.py?line=395'>396</a>\u001b[0m     \u001b[39mif\u001b[39;00m \u001b[39mnot\u001b[39;00m nbformat \u001b[39mor\u001b[39;00m LooseVersion(nbformat\u001b[39m.\u001b[39m__version__) \u001b[39m<\u001b[39m LooseVersion(\u001b[39m\"\u001b[39m\u001b[39m4.2.0\u001b[39m\u001b[39m\"\u001b[39m):\n\u001b[0;32m--> <a href='file:///home/cmnemoi/miniconda3/envs/SpeeDonsChatAnalysis/lib/python3.10/site-packages/plotly/io/_renderers.py?line=396'>397</a>\u001b[0m         \u001b[39mraise\u001b[39;00m \u001b[39mValueError\u001b[39;00m(\n\u001b[1;32m    <a href='file:///home/cmnemoi/miniconda3/envs/SpeeDonsChatAnalysis/lib/python3.10/site-packages/plotly/io/_renderers.py?line=397'>398</a>\u001b[0m             \u001b[39m\"\u001b[39m\u001b[39mMime type rendering requires nbformat>=4.2.0 but it is not installed\u001b[39m\u001b[39m\"\u001b[39m\n\u001b[1;32m    <a href='file:///home/cmnemoi/miniconda3/envs/SpeeDonsChatAnalysis/lib/python3.10/site-packages/plotly/io/_renderers.py?line=398'>399</a>\u001b[0m         )\n\u001b[1;32m    <a href='file:///home/cmnemoi/miniconda3/envs/SpeeDonsChatAnalysis/lib/python3.10/site-packages/plotly/io/_renderers.py?line=400'>401</a>\u001b[0m     ipython_display\u001b[39m.\u001b[39mdisplay(bundle, raw\u001b[39m=\u001b[39m\u001b[39mTrue\u001b[39;00m)\n\u001b[1;32m    <a href='file:///home/cmnemoi/miniconda3/envs/SpeeDonsChatAnalysis/lib/python3.10/site-packages/plotly/io/_renderers.py?line=402'>403</a>\u001b[0m \u001b[39m# external renderers\u001b[39;00m\n",
      "\u001b[0;31mValueError\u001b[0m: Mime type rendering requires nbformat>=4.2.0 but it is not installed"
     ]
    },
    {
     "data": {
      "application/vnd.plotly.v1+json": {
       "config": {
        "plotlyServerURL": "https://plot.ly"
       },
       "data": [
        {
         "alignmentgroup": "True",
         "hovertemplate": "author_name=%{x}<br>message=%{y}<extra></extra>",
         "legendgroup": "J0selitoo",
         "marker": {
          "color": "#636efa",
          "pattern": {
           "shape": ""
          }
         },
         "name": "J0selitoo",
         "offsetgroup": "J0selitoo",
         "orientation": "v",
         "showlegend": true,
         "textposition": "auto",
         "type": "bar",
         "x": [
          "J0selitoo"
         ],
         "xaxis": "x",
         "y": [
          1596
         ],
         "yaxis": "y"
        },
        {
         "alignmentgroup": "True",
         "hovertemplate": "author_name=%{x}<br>message=%{y}<extra></extra>",
         "legendgroup": "KBlastR",
         "marker": {
          "color": "#EF553B",
          "pattern": {
           "shape": ""
          }
         },
         "name": "KBlastR",
         "offsetgroup": "KBlastR",
         "orientation": "v",
         "showlegend": true,
         "textposition": "auto",
         "type": "bar",
         "x": [
          "KBlastR"
         ],
         "xaxis": "x",
         "y": [
          1276
         ],
         "yaxis": "y"
        },
        {
         "alignmentgroup": "True",
         "hovertemplate": "author_name=%{x}<br>message=%{y}<extra></extra>",
         "legendgroup": "YohanLeHeroo",
         "marker": {
          "color": "#00cc96",
          "pattern": {
           "shape": ""
          }
         },
         "name": "YohanLeHeroo",
         "offsetgroup": "YohanLeHeroo",
         "orientation": "v",
         "showlegend": true,
         "textposition": "auto",
         "type": "bar",
         "x": [
          "YohanLeHeroo"
         ],
         "xaxis": "x",
         "y": [
          1155
         ],
         "yaxis": "y"
        },
        {
         "alignmentgroup": "True",
         "hovertemplate": "author_name=%{x}<br>message=%{y}<extra></extra>",
         "legendgroup": "CoLLiNeClegane",
         "marker": {
          "color": "#ab63fa",
          "pattern": {
           "shape": ""
          }
         },
         "name": "CoLLiNeClegane",
         "offsetgroup": "CoLLiNeClegane",
         "orientation": "v",
         "showlegend": true,
         "textposition": "auto",
         "type": "bar",
         "x": [
          "CoLLiNeClegane"
         ],
         "xaxis": "x",
         "y": [
          1036
         ],
         "yaxis": "y"
        },
        {
         "alignmentgroup": "True",
         "hovertemplate": "author_name=%{x}<br>message=%{y}<extra></extra>",
         "legendgroup": "ForbiddenPit",
         "marker": {
          "color": "#FFA15A",
          "pattern": {
           "shape": ""
          }
         },
         "name": "ForbiddenPit",
         "offsetgroup": "ForbiddenPit",
         "orientation": "v",
         "showlegend": true,
         "textposition": "auto",
         "type": "bar",
         "x": [
          "ForbiddenPit"
         ],
         "xaxis": "x",
         "y": [
          947
         ],
         "yaxis": "y"
        }
       ],
       "layout": {
        "barmode": "relative",
        "legend": {
         "title": {
          "text": "author_name"
         },
         "tracegroupgap": 0
        },
        "margin": {
         "t": 60
        },
        "template": {
         "data": {
          "bar": [
           {
            "error_x": {
             "color": "#2a3f5f"
            },
            "error_y": {
             "color": "#2a3f5f"
            },
            "marker": {
             "line": {
              "color": "#E5ECF6",
              "width": 0.5
             },
             "pattern": {
              "fillmode": "overlay",
              "size": 10,
              "solidity": 0.2
             }
            },
            "type": "bar"
           }
          ],
          "barpolar": [
           {
            "marker": {
             "line": {
              "color": "#E5ECF6",
              "width": 0.5
             },
             "pattern": {
              "fillmode": "overlay",
              "size": 10,
              "solidity": 0.2
             }
            },
            "type": "barpolar"
           }
          ],
          "carpet": [
           {
            "aaxis": {
             "endlinecolor": "#2a3f5f",
             "gridcolor": "white",
             "linecolor": "white",
             "minorgridcolor": "white",
             "startlinecolor": "#2a3f5f"
            },
            "baxis": {
             "endlinecolor": "#2a3f5f",
             "gridcolor": "white",
             "linecolor": "white",
             "minorgridcolor": "white",
             "startlinecolor": "#2a3f5f"
            },
            "type": "carpet"
           }
          ],
          "choropleth": [
           {
            "colorbar": {
             "outlinewidth": 0,
             "ticks": ""
            },
            "type": "choropleth"
           }
          ],
          "contour": [
           {
            "colorbar": {
             "outlinewidth": 0,
             "ticks": ""
            },
            "colorscale": [
             [
              0,
              "#0d0887"
             ],
             [
              0.1111111111111111,
              "#46039f"
             ],
             [
              0.2222222222222222,
              "#7201a8"
             ],
             [
              0.3333333333333333,
              "#9c179e"
             ],
             [
              0.4444444444444444,
              "#bd3786"
             ],
             [
              0.5555555555555556,
              "#d8576b"
             ],
             [
              0.6666666666666666,
              "#ed7953"
             ],
             [
              0.7777777777777778,
              "#fb9f3a"
             ],
             [
              0.8888888888888888,
              "#fdca26"
             ],
             [
              1,
              "#f0f921"
             ]
            ],
            "type": "contour"
           }
          ],
          "contourcarpet": [
           {
            "colorbar": {
             "outlinewidth": 0,
             "ticks": ""
            },
            "type": "contourcarpet"
           }
          ],
          "heatmap": [
           {
            "colorbar": {
             "outlinewidth": 0,
             "ticks": ""
            },
            "colorscale": [
             [
              0,
              "#0d0887"
             ],
             [
              0.1111111111111111,
              "#46039f"
             ],
             [
              0.2222222222222222,
              "#7201a8"
             ],
             [
              0.3333333333333333,
              "#9c179e"
             ],
             [
              0.4444444444444444,
              "#bd3786"
             ],
             [
              0.5555555555555556,
              "#d8576b"
             ],
             [
              0.6666666666666666,
              "#ed7953"
             ],
             [
              0.7777777777777778,
              "#fb9f3a"
             ],
             [
              0.8888888888888888,
              "#fdca26"
             ],
             [
              1,
              "#f0f921"
             ]
            ],
            "type": "heatmap"
           }
          ],
          "heatmapgl": [
           {
            "colorbar": {
             "outlinewidth": 0,
             "ticks": ""
            },
            "colorscale": [
             [
              0,
              "#0d0887"
             ],
             [
              0.1111111111111111,
              "#46039f"
             ],
             [
              0.2222222222222222,
              "#7201a8"
             ],
             [
              0.3333333333333333,
              "#9c179e"
             ],
             [
              0.4444444444444444,
              "#bd3786"
             ],
             [
              0.5555555555555556,
              "#d8576b"
             ],
             [
              0.6666666666666666,
              "#ed7953"
             ],
             [
              0.7777777777777778,
              "#fb9f3a"
             ],
             [
              0.8888888888888888,
              "#fdca26"
             ],
             [
              1,
              "#f0f921"
             ]
            ],
            "type": "heatmapgl"
           }
          ],
          "histogram": [
           {
            "marker": {
             "pattern": {
              "fillmode": "overlay",
              "size": 10,
              "solidity": 0.2
             }
            },
            "type": "histogram"
           }
          ],
          "histogram2d": [
           {
            "colorbar": {
             "outlinewidth": 0,
             "ticks": ""
            },
            "colorscale": [
             [
              0,
              "#0d0887"
             ],
             [
              0.1111111111111111,
              "#46039f"
             ],
             [
              0.2222222222222222,
              "#7201a8"
             ],
             [
              0.3333333333333333,
              "#9c179e"
             ],
             [
              0.4444444444444444,
              "#bd3786"
             ],
             [
              0.5555555555555556,
              "#d8576b"
             ],
             [
              0.6666666666666666,
              "#ed7953"
             ],
             [
              0.7777777777777778,
              "#fb9f3a"
             ],
             [
              0.8888888888888888,
              "#fdca26"
             ],
             [
              1,
              "#f0f921"
             ]
            ],
            "type": "histogram2d"
           }
          ],
          "histogram2dcontour": [
           {
            "colorbar": {
             "outlinewidth": 0,
             "ticks": ""
            },
            "colorscale": [
             [
              0,
              "#0d0887"
             ],
             [
              0.1111111111111111,
              "#46039f"
             ],
             [
              0.2222222222222222,
              "#7201a8"
             ],
             [
              0.3333333333333333,
              "#9c179e"
             ],
             [
              0.4444444444444444,
              "#bd3786"
             ],
             [
              0.5555555555555556,
              "#d8576b"
             ],
             [
              0.6666666666666666,
              "#ed7953"
             ],
             [
              0.7777777777777778,
              "#fb9f3a"
             ],
             [
              0.8888888888888888,
              "#fdca26"
             ],
             [
              1,
              "#f0f921"
             ]
            ],
            "type": "histogram2dcontour"
           }
          ],
          "mesh3d": [
           {
            "colorbar": {
             "outlinewidth": 0,
             "ticks": ""
            },
            "type": "mesh3d"
           }
          ],
          "parcoords": [
           {
            "line": {
             "colorbar": {
              "outlinewidth": 0,
              "ticks": ""
             }
            },
            "type": "parcoords"
           }
          ],
          "pie": [
           {
            "automargin": true,
            "type": "pie"
           }
          ],
          "scatter": [
           {
            "fillpattern": {
             "fillmode": "overlay",
             "size": 10,
             "solidity": 0.2
            },
            "type": "scatter"
           }
          ],
          "scatter3d": [
           {
            "line": {
             "colorbar": {
              "outlinewidth": 0,
              "ticks": ""
             }
            },
            "marker": {
             "colorbar": {
              "outlinewidth": 0,
              "ticks": ""
             }
            },
            "type": "scatter3d"
           }
          ],
          "scattercarpet": [
           {
            "marker": {
             "colorbar": {
              "outlinewidth": 0,
              "ticks": ""
             }
            },
            "type": "scattercarpet"
           }
          ],
          "scattergeo": [
           {
            "marker": {
             "colorbar": {
              "outlinewidth": 0,
              "ticks": ""
             }
            },
            "type": "scattergeo"
           }
          ],
          "scattergl": [
           {
            "marker": {
             "colorbar": {
              "outlinewidth": 0,
              "ticks": ""
             }
            },
            "type": "scattergl"
           }
          ],
          "scattermapbox": [
           {
            "marker": {
             "colorbar": {
              "outlinewidth": 0,
              "ticks": ""
             }
            },
            "type": "scattermapbox"
           }
          ],
          "scatterpolar": [
           {
            "marker": {
             "colorbar": {
              "outlinewidth": 0,
              "ticks": ""
             }
            },
            "type": "scatterpolar"
           }
          ],
          "scatterpolargl": [
           {
            "marker": {
             "colorbar": {
              "outlinewidth": 0,
              "ticks": ""
             }
            },
            "type": "scatterpolargl"
           }
          ],
          "scatterternary": [
           {
            "marker": {
             "colorbar": {
              "outlinewidth": 0,
              "ticks": ""
             }
            },
            "type": "scatterternary"
           }
          ],
          "surface": [
           {
            "colorbar": {
             "outlinewidth": 0,
             "ticks": ""
            },
            "colorscale": [
             [
              0,
              "#0d0887"
             ],
             [
              0.1111111111111111,
              "#46039f"
             ],
             [
              0.2222222222222222,
              "#7201a8"
             ],
             [
              0.3333333333333333,
              "#9c179e"
             ],
             [
              0.4444444444444444,
              "#bd3786"
             ],
             [
              0.5555555555555556,
              "#d8576b"
             ],
             [
              0.6666666666666666,
              "#ed7953"
             ],
             [
              0.7777777777777778,
              "#fb9f3a"
             ],
             [
              0.8888888888888888,
              "#fdca26"
             ],
             [
              1,
              "#f0f921"
             ]
            ],
            "type": "surface"
           }
          ],
          "table": [
           {
            "cells": {
             "fill": {
              "color": "#EBF0F8"
             },
             "line": {
              "color": "white"
             }
            },
            "header": {
             "fill": {
              "color": "#C8D4E3"
             },
             "line": {
              "color": "white"
             }
            },
            "type": "table"
           }
          ]
         },
         "layout": {
          "annotationdefaults": {
           "arrowcolor": "#2a3f5f",
           "arrowhead": 0,
           "arrowwidth": 1
          },
          "autotypenumbers": "strict",
          "coloraxis": {
           "colorbar": {
            "outlinewidth": 0,
            "ticks": ""
           }
          },
          "colorscale": {
           "diverging": [
            [
             0,
             "#8e0152"
            ],
            [
             0.1,
             "#c51b7d"
            ],
            [
             0.2,
             "#de77ae"
            ],
            [
             0.3,
             "#f1b6da"
            ],
            [
             0.4,
             "#fde0ef"
            ],
            [
             0.5,
             "#f7f7f7"
            ],
            [
             0.6,
             "#e6f5d0"
            ],
            [
             0.7,
             "#b8e186"
            ],
            [
             0.8,
             "#7fbc41"
            ],
            [
             0.9,
             "#4d9221"
            ],
            [
             1,
             "#276419"
            ]
           ],
           "sequential": [
            [
             0,
             "#0d0887"
            ],
            [
             0.1111111111111111,
             "#46039f"
            ],
            [
             0.2222222222222222,
             "#7201a8"
            ],
            [
             0.3333333333333333,
             "#9c179e"
            ],
            [
             0.4444444444444444,
             "#bd3786"
            ],
            [
             0.5555555555555556,
             "#d8576b"
            ],
            [
             0.6666666666666666,
             "#ed7953"
            ],
            [
             0.7777777777777778,
             "#fb9f3a"
            ],
            [
             0.8888888888888888,
             "#fdca26"
            ],
            [
             1,
             "#f0f921"
            ]
           ],
           "sequentialminus": [
            [
             0,
             "#0d0887"
            ],
            [
             0.1111111111111111,
             "#46039f"
            ],
            [
             0.2222222222222222,
             "#7201a8"
            ],
            [
             0.3333333333333333,
             "#9c179e"
            ],
            [
             0.4444444444444444,
             "#bd3786"
            ],
            [
             0.5555555555555556,
             "#d8576b"
            ],
            [
             0.6666666666666666,
             "#ed7953"
            ],
            [
             0.7777777777777778,
             "#fb9f3a"
            ],
            [
             0.8888888888888888,
             "#fdca26"
            ],
            [
             1,
             "#f0f921"
            ]
           ]
          },
          "colorway": [
           "#636efa",
           "#EF553B",
           "#00cc96",
           "#ab63fa",
           "#FFA15A",
           "#19d3f3",
           "#FF6692",
           "#B6E880",
           "#FF97FF",
           "#FECB52"
          ],
          "font": {
           "color": "#2a3f5f"
          },
          "geo": {
           "bgcolor": "white",
           "lakecolor": "white",
           "landcolor": "#E5ECF6",
           "showlakes": true,
           "showland": true,
           "subunitcolor": "white"
          },
          "hoverlabel": {
           "align": "left"
          },
          "hovermode": "closest",
          "mapbox": {
           "style": "light"
          },
          "paper_bgcolor": "white",
          "plot_bgcolor": "#E5ECF6",
          "polar": {
           "angularaxis": {
            "gridcolor": "white",
            "linecolor": "white",
            "ticks": ""
           },
           "bgcolor": "#E5ECF6",
           "radialaxis": {
            "gridcolor": "white",
            "linecolor": "white",
            "ticks": ""
           }
          },
          "scene": {
           "xaxis": {
            "backgroundcolor": "#E5ECF6",
            "gridcolor": "white",
            "gridwidth": 2,
            "linecolor": "white",
            "showbackground": true,
            "ticks": "",
            "zerolinecolor": "white"
           },
           "yaxis": {
            "backgroundcolor": "#E5ECF6",
            "gridcolor": "white",
            "gridwidth": 2,
            "linecolor": "white",
            "showbackground": true,
            "ticks": "",
            "zerolinecolor": "white"
           },
           "zaxis": {
            "backgroundcolor": "#E5ECF6",
            "gridcolor": "white",
            "gridwidth": 2,
            "linecolor": "white",
            "showbackground": true,
            "ticks": "",
            "zerolinecolor": "white"
           }
          },
          "shapedefaults": {
           "line": {
            "color": "#2a3f5f"
           }
          },
          "ternary": {
           "aaxis": {
            "gridcolor": "white",
            "linecolor": "white",
            "ticks": ""
           },
           "baxis": {
            "gridcolor": "white",
            "linecolor": "white",
            "ticks": ""
           },
           "bgcolor": "#E5ECF6",
           "caxis": {
            "gridcolor": "white",
            "linecolor": "white",
            "ticks": ""
           }
          },
          "title": {
           "x": 0.05
          },
          "xaxis": {
           "automargin": true,
           "gridcolor": "white",
           "linecolor": "white",
           "ticks": "",
           "title": {
            "standoff": 15
           },
           "zerolinecolor": "white",
           "zerolinewidth": 2
          },
          "yaxis": {
           "automargin": true,
           "gridcolor": "white",
           "linecolor": "white",
           "ticks": "",
           "title": {
            "standoff": 15
           },
           "zerolinecolor": "white",
           "zerolinewidth": 2
          }
         }
        },
        "title": {
         "text": "Top 5 des plus gros posteurs lors de SpeeDons 2022",
         "x": 0.5,
         "xanchor": "center",
         "y": 0.95,
         "yanchor": "top"
        },
        "xaxis": {
         "anchor": "y",
         "categoryarray": [
          "J0selitoo",
          "KBlastR",
          "YohanLeHeroo",
          "CoLLiNeClegane",
          "ForbiddenPit"
         ],
         "categoryorder": "array",
         "domain": [
          0,
          1
         ],
         "title": {
          "text": "Auteur"
         }
        },
        "yaxis": {
         "anchor": "x",
         "domain": [
          0,
          1
         ],
         "title": {
          "text": "Nombre de messages"
         }
        }
       }
      },
      "text/html": [
       "<div>                        <script type=\"text/javascript\">window.PlotlyConfig = {MathJaxConfig: 'local'};</script>\n",
       "        <script src=\"https://cdn.plot.ly/plotly-2.11.1.min.js\"></script>                <div id=\"9c2ca9c4-6d2b-4792-b3f3-fe59c6372e77\" class=\"plotly-graph-div\" style=\"height:100%; width:100%;\"></div>            <script type=\"text/javascript\">                                    window.PLOTLYENV=window.PLOTLYENV || {};                                    if (document.getElementById(\"9c2ca9c4-6d2b-4792-b3f3-fe59c6372e77\")) {                    Plotly.newPlot(                        \"9c2ca9c4-6d2b-4792-b3f3-fe59c6372e77\",                        [{\"alignmentgroup\":\"True\",\"hovertemplate\":\"author_name=%{x}<br>message=%{y}<extra></extra>\",\"legendgroup\":\"J0selitoo\",\"marker\":{\"color\":\"#636efa\",\"pattern\":{\"shape\":\"\"}},\"name\":\"J0selitoo\",\"offsetgroup\":\"J0selitoo\",\"orientation\":\"v\",\"showlegend\":true,\"textposition\":\"auto\",\"x\":[\"J0selitoo\"],\"xaxis\":\"x\",\"y\":[1596],\"yaxis\":\"y\",\"type\":\"bar\"},{\"alignmentgroup\":\"True\",\"hovertemplate\":\"author_name=%{x}<br>message=%{y}<extra></extra>\",\"legendgroup\":\"KBlastR\",\"marker\":{\"color\":\"#EF553B\",\"pattern\":{\"shape\":\"\"}},\"name\":\"KBlastR\",\"offsetgroup\":\"KBlastR\",\"orientation\":\"v\",\"showlegend\":true,\"textposition\":\"auto\",\"x\":[\"KBlastR\"],\"xaxis\":\"x\",\"y\":[1276],\"yaxis\":\"y\",\"type\":\"bar\"},{\"alignmentgroup\":\"True\",\"hovertemplate\":\"author_name=%{x}<br>message=%{y}<extra></extra>\",\"legendgroup\":\"YohanLeHeroo\",\"marker\":{\"color\":\"#00cc96\",\"pattern\":{\"shape\":\"\"}},\"name\":\"YohanLeHeroo\",\"offsetgroup\":\"YohanLeHeroo\",\"orientation\":\"v\",\"showlegend\":true,\"textposition\":\"auto\",\"x\":[\"YohanLeHeroo\"],\"xaxis\":\"x\",\"y\":[1155],\"yaxis\":\"y\",\"type\":\"bar\"},{\"alignmentgroup\":\"True\",\"hovertemplate\":\"author_name=%{x}<br>message=%{y}<extra></extra>\",\"legendgroup\":\"CoLLiNeClegane\",\"marker\":{\"color\":\"#ab63fa\",\"pattern\":{\"shape\":\"\"}},\"name\":\"CoLLiNeClegane\",\"offsetgroup\":\"CoLLiNeClegane\",\"orientation\":\"v\",\"showlegend\":true,\"textposition\":\"auto\",\"x\":[\"CoLLiNeClegane\"],\"xaxis\":\"x\",\"y\":[1036],\"yaxis\":\"y\",\"type\":\"bar\"},{\"alignmentgroup\":\"True\",\"hovertemplate\":\"author_name=%{x}<br>message=%{y}<extra></extra>\",\"legendgroup\":\"ForbiddenPit\",\"marker\":{\"color\":\"#FFA15A\",\"pattern\":{\"shape\":\"\"}},\"name\":\"ForbiddenPit\",\"offsetgroup\":\"ForbiddenPit\",\"orientation\":\"v\",\"showlegend\":true,\"textposition\":\"auto\",\"x\":[\"ForbiddenPit\"],\"xaxis\":\"x\",\"y\":[947],\"yaxis\":\"y\",\"type\":\"bar\"}],                        {\"template\":{\"data\":{\"histogram2dcontour\":[{\"type\":\"histogram2dcontour\",\"colorbar\":{\"outlinewidth\":0,\"ticks\":\"\"},\"colorscale\":[[0.0,\"#0d0887\"],[0.1111111111111111,\"#46039f\"],[0.2222222222222222,\"#7201a8\"],[0.3333333333333333,\"#9c179e\"],[0.4444444444444444,\"#bd3786\"],[0.5555555555555556,\"#d8576b\"],[0.6666666666666666,\"#ed7953\"],[0.7777777777777778,\"#fb9f3a\"],[0.8888888888888888,\"#fdca26\"],[1.0,\"#f0f921\"]]}],\"choropleth\":[{\"type\":\"choropleth\",\"colorbar\":{\"outlinewidth\":0,\"ticks\":\"\"}}],\"histogram2d\":[{\"type\":\"histogram2d\",\"colorbar\":{\"outlinewidth\":0,\"ticks\":\"\"},\"colorscale\":[[0.0,\"#0d0887\"],[0.1111111111111111,\"#46039f\"],[0.2222222222222222,\"#7201a8\"],[0.3333333333333333,\"#9c179e\"],[0.4444444444444444,\"#bd3786\"],[0.5555555555555556,\"#d8576b\"],[0.6666666666666666,\"#ed7953\"],[0.7777777777777778,\"#fb9f3a\"],[0.8888888888888888,\"#fdca26\"],[1.0,\"#f0f921\"]]}],\"heatmap\":[{\"type\":\"heatmap\",\"colorbar\":{\"outlinewidth\":0,\"ticks\":\"\"},\"colorscale\":[[0.0,\"#0d0887\"],[0.1111111111111111,\"#46039f\"],[0.2222222222222222,\"#7201a8\"],[0.3333333333333333,\"#9c179e\"],[0.4444444444444444,\"#bd3786\"],[0.5555555555555556,\"#d8576b\"],[0.6666666666666666,\"#ed7953\"],[0.7777777777777778,\"#fb9f3a\"],[0.8888888888888888,\"#fdca26\"],[1.0,\"#f0f921\"]]}],\"heatmapgl\":[{\"type\":\"heatmapgl\",\"colorbar\":{\"outlinewidth\":0,\"ticks\":\"\"},\"colorscale\":[[0.0,\"#0d0887\"],[0.1111111111111111,\"#46039f\"],[0.2222222222222222,\"#7201a8\"],[0.3333333333333333,\"#9c179e\"],[0.4444444444444444,\"#bd3786\"],[0.5555555555555556,\"#d8576b\"],[0.6666666666666666,\"#ed7953\"],[0.7777777777777778,\"#fb9f3a\"],[0.8888888888888888,\"#fdca26\"],[1.0,\"#f0f921\"]]}],\"contourcarpet\":[{\"type\":\"contourcarpet\",\"colorbar\":{\"outlinewidth\":0,\"ticks\":\"\"}}],\"contour\":[{\"type\":\"contour\",\"colorbar\":{\"outlinewidth\":0,\"ticks\":\"\"},\"colorscale\":[[0.0,\"#0d0887\"],[0.1111111111111111,\"#46039f\"],[0.2222222222222222,\"#7201a8\"],[0.3333333333333333,\"#9c179e\"],[0.4444444444444444,\"#bd3786\"],[0.5555555555555556,\"#d8576b\"],[0.6666666666666666,\"#ed7953\"],[0.7777777777777778,\"#fb9f3a\"],[0.8888888888888888,\"#fdca26\"],[1.0,\"#f0f921\"]]}],\"surface\":[{\"type\":\"surface\",\"colorbar\":{\"outlinewidth\":0,\"ticks\":\"\"},\"colorscale\":[[0.0,\"#0d0887\"],[0.1111111111111111,\"#46039f\"],[0.2222222222222222,\"#7201a8\"],[0.3333333333333333,\"#9c179e\"],[0.4444444444444444,\"#bd3786\"],[0.5555555555555556,\"#d8576b\"],[0.6666666666666666,\"#ed7953\"],[0.7777777777777778,\"#fb9f3a\"],[0.8888888888888888,\"#fdca26\"],[1.0,\"#f0f921\"]]}],\"mesh3d\":[{\"type\":\"mesh3d\",\"colorbar\":{\"outlinewidth\":0,\"ticks\":\"\"}}],\"scatter\":[{\"fillpattern\":{\"fillmode\":\"overlay\",\"size\":10,\"solidity\":0.2},\"type\":\"scatter\"}],\"parcoords\":[{\"type\":\"parcoords\",\"line\":{\"colorbar\":{\"outlinewidth\":0,\"ticks\":\"\"}}}],\"scatterpolargl\":[{\"type\":\"scatterpolargl\",\"marker\":{\"colorbar\":{\"outlinewidth\":0,\"ticks\":\"\"}}}],\"bar\":[{\"error_x\":{\"color\":\"#2a3f5f\"},\"error_y\":{\"color\":\"#2a3f5f\"},\"marker\":{\"line\":{\"color\":\"#E5ECF6\",\"width\":0.5},\"pattern\":{\"fillmode\":\"overlay\",\"size\":10,\"solidity\":0.2}},\"type\":\"bar\"}],\"scattergeo\":[{\"type\":\"scattergeo\",\"marker\":{\"colorbar\":{\"outlinewidth\":0,\"ticks\":\"\"}}}],\"scatterpolar\":[{\"type\":\"scatterpolar\",\"marker\":{\"colorbar\":{\"outlinewidth\":0,\"ticks\":\"\"}}}],\"histogram\":[{\"marker\":{\"pattern\":{\"fillmode\":\"overlay\",\"size\":10,\"solidity\":0.2}},\"type\":\"histogram\"}],\"scattergl\":[{\"type\":\"scattergl\",\"marker\":{\"colorbar\":{\"outlinewidth\":0,\"ticks\":\"\"}}}],\"scatter3d\":[{\"type\":\"scatter3d\",\"line\":{\"colorbar\":{\"outlinewidth\":0,\"ticks\":\"\"}},\"marker\":{\"colorbar\":{\"outlinewidth\":0,\"ticks\":\"\"}}}],\"scattermapbox\":[{\"type\":\"scattermapbox\",\"marker\":{\"colorbar\":{\"outlinewidth\":0,\"ticks\":\"\"}}}],\"scatterternary\":[{\"type\":\"scatterternary\",\"marker\":{\"colorbar\":{\"outlinewidth\":0,\"ticks\":\"\"}}}],\"scattercarpet\":[{\"type\":\"scattercarpet\",\"marker\":{\"colorbar\":{\"outlinewidth\":0,\"ticks\":\"\"}}}],\"carpet\":[{\"aaxis\":{\"endlinecolor\":\"#2a3f5f\",\"gridcolor\":\"white\",\"linecolor\":\"white\",\"minorgridcolor\":\"white\",\"startlinecolor\":\"#2a3f5f\"},\"baxis\":{\"endlinecolor\":\"#2a3f5f\",\"gridcolor\":\"white\",\"linecolor\":\"white\",\"minorgridcolor\":\"white\",\"startlinecolor\":\"#2a3f5f\"},\"type\":\"carpet\"}],\"table\":[{\"cells\":{\"fill\":{\"color\":\"#EBF0F8\"},\"line\":{\"color\":\"white\"}},\"header\":{\"fill\":{\"color\":\"#C8D4E3\"},\"line\":{\"color\":\"white\"}},\"type\":\"table\"}],\"barpolar\":[{\"marker\":{\"line\":{\"color\":\"#E5ECF6\",\"width\":0.5},\"pattern\":{\"fillmode\":\"overlay\",\"size\":10,\"solidity\":0.2}},\"type\":\"barpolar\"}],\"pie\":[{\"automargin\":true,\"type\":\"pie\"}]},\"layout\":{\"autotypenumbers\":\"strict\",\"colorway\":[\"#636efa\",\"#EF553B\",\"#00cc96\",\"#ab63fa\",\"#FFA15A\",\"#19d3f3\",\"#FF6692\",\"#B6E880\",\"#FF97FF\",\"#FECB52\"],\"font\":{\"color\":\"#2a3f5f\"},\"hovermode\":\"closest\",\"hoverlabel\":{\"align\":\"left\"},\"paper_bgcolor\":\"white\",\"plot_bgcolor\":\"#E5ECF6\",\"polar\":{\"bgcolor\":\"#E5ECF6\",\"angularaxis\":{\"gridcolor\":\"white\",\"linecolor\":\"white\",\"ticks\":\"\"},\"radialaxis\":{\"gridcolor\":\"white\",\"linecolor\":\"white\",\"ticks\":\"\"}},\"ternary\":{\"bgcolor\":\"#E5ECF6\",\"aaxis\":{\"gridcolor\":\"white\",\"linecolor\":\"white\",\"ticks\":\"\"},\"baxis\":{\"gridcolor\":\"white\",\"linecolor\":\"white\",\"ticks\":\"\"},\"caxis\":{\"gridcolor\":\"white\",\"linecolor\":\"white\",\"ticks\":\"\"}},\"coloraxis\":{\"colorbar\":{\"outlinewidth\":0,\"ticks\":\"\"}},\"colorscale\":{\"sequential\":[[0.0,\"#0d0887\"],[0.1111111111111111,\"#46039f\"],[0.2222222222222222,\"#7201a8\"],[0.3333333333333333,\"#9c179e\"],[0.4444444444444444,\"#bd3786\"],[0.5555555555555556,\"#d8576b\"],[0.6666666666666666,\"#ed7953\"],[0.7777777777777778,\"#fb9f3a\"],[0.8888888888888888,\"#fdca26\"],[1.0,\"#f0f921\"]],\"sequentialminus\":[[0.0,\"#0d0887\"],[0.1111111111111111,\"#46039f\"],[0.2222222222222222,\"#7201a8\"],[0.3333333333333333,\"#9c179e\"],[0.4444444444444444,\"#bd3786\"],[0.5555555555555556,\"#d8576b\"],[0.6666666666666666,\"#ed7953\"],[0.7777777777777778,\"#fb9f3a\"],[0.8888888888888888,\"#fdca26\"],[1.0,\"#f0f921\"]],\"diverging\":[[0,\"#8e0152\"],[0.1,\"#c51b7d\"],[0.2,\"#de77ae\"],[0.3,\"#f1b6da\"],[0.4,\"#fde0ef\"],[0.5,\"#f7f7f7\"],[0.6,\"#e6f5d0\"],[0.7,\"#b8e186\"],[0.8,\"#7fbc41\"],[0.9,\"#4d9221\"],[1,\"#276419\"]]},\"xaxis\":{\"gridcolor\":\"white\",\"linecolor\":\"white\",\"ticks\":\"\",\"title\":{\"standoff\":15},\"zerolinecolor\":\"white\",\"automargin\":true,\"zerolinewidth\":2},\"yaxis\":{\"gridcolor\":\"white\",\"linecolor\":\"white\",\"ticks\":\"\",\"title\":{\"standoff\":15},\"zerolinecolor\":\"white\",\"automargin\":true,\"zerolinewidth\":2},\"scene\":{\"xaxis\":{\"backgroundcolor\":\"#E5ECF6\",\"gridcolor\":\"white\",\"linecolor\":\"white\",\"showbackground\":true,\"ticks\":\"\",\"zerolinecolor\":\"white\",\"gridwidth\":2},\"yaxis\":{\"backgroundcolor\":\"#E5ECF6\",\"gridcolor\":\"white\",\"linecolor\":\"white\",\"showbackground\":true,\"ticks\":\"\",\"zerolinecolor\":\"white\",\"gridwidth\":2},\"zaxis\":{\"backgroundcolor\":\"#E5ECF6\",\"gridcolor\":\"white\",\"linecolor\":\"white\",\"showbackground\":true,\"ticks\":\"\",\"zerolinecolor\":\"white\",\"gridwidth\":2}},\"shapedefaults\":{\"line\":{\"color\":\"#2a3f5f\"}},\"annotationdefaults\":{\"arrowcolor\":\"#2a3f5f\",\"arrowhead\":0,\"arrowwidth\":1},\"geo\":{\"bgcolor\":\"white\",\"landcolor\":\"#E5ECF6\",\"subunitcolor\":\"white\",\"showland\":true,\"showlakes\":true,\"lakecolor\":\"white\"},\"title\":{\"x\":0.05},\"mapbox\":{\"style\":\"light\"}}},\"xaxis\":{\"anchor\":\"y\",\"domain\":[0.0,1.0],\"title\":{\"text\":\"Auteur\"},\"categoryorder\":\"array\",\"categoryarray\":[\"J0selitoo\",\"KBlastR\",\"YohanLeHeroo\",\"CoLLiNeClegane\",\"ForbiddenPit\"]},\"yaxis\":{\"anchor\":\"x\",\"domain\":[0.0,1.0],\"title\":{\"text\":\"Nombre de messages\"}},\"legend\":{\"title\":{\"text\":\"author_name\"},\"tracegroupgap\":0},\"margin\":{\"t\":60},\"barmode\":\"relative\",\"title\":{\"text\":\"Top 5 des plus gros posteurs lors de SpeeDons 2022\",\"y\":0.95,\"x\":0.5,\"xanchor\":\"center\",\"yanchor\":\"top\"}},                        {\"responsive\": true}                    )                };                            </script>        </div>"
      ],
      "text/plain": [
       "Figure({\n",
       "    'data': [{'alignmentgroup': 'True',\n",
       "              'hovertemplate': 'author_name=%{x}<br>message=%{y}<extra></extra>',\n",
       "              'legendgroup': 'J0selitoo',\n",
       "              'marker': {'color': '#636efa', 'pattern': {'shape': ''}},\n",
       "              'name': 'J0selitoo',\n",
       "              'offsetgroup': 'J0selitoo',\n",
       "              'orientation': 'v',\n",
       "              'showlegend': True,\n",
       "              'textposition': 'auto',\n",
       "              'type': 'bar',\n",
       "              'x': array(['J0selitoo'], dtype=object),\n",
       "              'xaxis': 'x',\n",
       "              'y': array([1596]),\n",
       "              'yaxis': 'y'},\n",
       "             {'alignmentgroup': 'True',\n",
       "              'hovertemplate': 'author_name=%{x}<br>message=%{y}<extra></extra>',\n",
       "              'legendgroup': 'KBlastR',\n",
       "              'marker': {'color': '#EF553B', 'pattern': {'shape': ''}},\n",
       "              'name': 'KBlastR',\n",
       "              'offsetgroup': 'KBlastR',\n",
       "              'orientation': 'v',\n",
       "              'showlegend': True,\n",
       "              'textposition': 'auto',\n",
       "              'type': 'bar',\n",
       "              'x': array(['KBlastR'], dtype=object),\n",
       "              'xaxis': 'x',\n",
       "              'y': array([1276]),\n",
       "              'yaxis': 'y'},\n",
       "             {'alignmentgroup': 'True',\n",
       "              'hovertemplate': 'author_name=%{x}<br>message=%{y}<extra></extra>',\n",
       "              'legendgroup': 'YohanLeHeroo',\n",
       "              'marker': {'color': '#00cc96', 'pattern': {'shape': ''}},\n",
       "              'name': 'YohanLeHeroo',\n",
       "              'offsetgroup': 'YohanLeHeroo',\n",
       "              'orientation': 'v',\n",
       "              'showlegend': True,\n",
       "              'textposition': 'auto',\n",
       "              'type': 'bar',\n",
       "              'x': array(['YohanLeHeroo'], dtype=object),\n",
       "              'xaxis': 'x',\n",
       "              'y': array([1155]),\n",
       "              'yaxis': 'y'},\n",
       "             {'alignmentgroup': 'True',\n",
       "              'hovertemplate': 'author_name=%{x}<br>message=%{y}<extra></extra>',\n",
       "              'legendgroup': 'CoLLiNeClegane',\n",
       "              'marker': {'color': '#ab63fa', 'pattern': {'shape': ''}},\n",
       "              'name': 'CoLLiNeClegane',\n",
       "              'offsetgroup': 'CoLLiNeClegane',\n",
       "              'orientation': 'v',\n",
       "              'showlegend': True,\n",
       "              'textposition': 'auto',\n",
       "              'type': 'bar',\n",
       "              'x': array(['CoLLiNeClegane'], dtype=object),\n",
       "              'xaxis': 'x',\n",
       "              'y': array([1036]),\n",
       "              'yaxis': 'y'},\n",
       "             {'alignmentgroup': 'True',\n",
       "              'hovertemplate': 'author_name=%{x}<br>message=%{y}<extra></extra>',\n",
       "              'legendgroup': 'ForbiddenPit',\n",
       "              'marker': {'color': '#FFA15A', 'pattern': {'shape': ''}},\n",
       "              'name': 'ForbiddenPit',\n",
       "              'offsetgroup': 'ForbiddenPit',\n",
       "              'orientation': 'v',\n",
       "              'showlegend': True,\n",
       "              'textposition': 'auto',\n",
       "              'type': 'bar',\n",
       "              'x': array(['ForbiddenPit'], dtype=object),\n",
       "              'xaxis': 'x',\n",
       "              'y': array([947]),\n",
       "              'yaxis': 'y'}],\n",
       "    'layout': {'barmode': 'relative',\n",
       "               'legend': {'title': {'text': 'author_name'}, 'tracegroupgap': 0},\n",
       "               'margin': {'t': 60},\n",
       "               'template': '...',\n",
       "               'title': {'text': 'Top 5 des plus gros posteurs lors de SpeeDons 2022',\n",
       "                         'x': 0.5,\n",
       "                         'xanchor': 'center',\n",
       "                         'y': 0.95,\n",
       "                         'yanchor': 'top'},\n",
       "               'xaxis': {'anchor': 'y',\n",
       "                         'categoryarray': [J0selitoo, KBlastR, YohanLeHeroo,\n",
       "                                           CoLLiNeClegane, ForbiddenPit],\n",
       "                         'categoryorder': 'array',\n",
       "                         'domain': [0.0, 1.0],\n",
       "                         'title': {'text': 'Auteur'}},\n",
       "               'yaxis': {'anchor': 'x', 'domain': [0.0, 1.0], 'title': {'text': 'Nombre de messages'}}}\n",
       "})"
      ]
     },
     "execution_count": 102,
     "metadata": {},
     "output_type": "execute_result"
    }
   ],
   "source": [
    "fig_2 = px.bar(data_frame=n_best_viewers, y=\"message\", color=n_best_viewers.index)\n",
    "fig_2.update_layout(title={\n",
    "        'text': f\"Top {N} des plus gros posteurs lors de SpeeDons 2022\",\n",
    "        'y':0.95,\n",
    "        'x':0.5,\n",
    "        'xanchor': 'center',\n",
    "        'yanchor': 'top'})\n",
    "fig_2.update_xaxes(title=\"Auteur\")\n",
    "fig_2.update_yaxes(title=\"Nombre de messages\")"
   ]
  },
  {
   "cell_type": "markdown",
   "metadata": {},
   "source": [
    "Messages des gros streamers"
   ]
  },
  {
   "cell_type": "code",
   "execution_count": 90,
   "metadata": {},
   "outputs": [],
   "source": [
    "def get_user_messages(author):\n",
    "    return messages[messages[\"author_name\"] == author][\"message\"]"
   ]
  },
  {
   "cell_type": "code",
   "execution_count": 95,
   "metadata": {},
   "outputs": [
    {
     "name": "stdout",
     "output_type": "stream",
     "text": [
      "mistermv messages :\n",
      "MOAR COWBELL\n",
      "Bon j'ai publié la VOD mais elle fait 32h donc ça va prendre quelques minutes lol\n",
      "\n",
      "\n",
      "ZeratoR messages :\n",
      "JDF en effet @kwev\n",
      "17006/20000\n",
      "17285/20000\n",
      "17737/20000 !!!\n",
      "monkaS\n",
      "monkaS monkaS monkaS\n",
      "🥵\n",
      "monkaS\n",
      "zrtPetthezerator\n",
      "monkaS\n",
      "monkaS\n",
      "Ho putain\n",
      "monkaS monkaS monkaS\n",
      "Regarde pas derrière toi monkaS\n",
      "monkaS\n",
      "monkaS je suis en détente monkaS\n",
      "monkaS\n",
      "zrtNotLikeThis\n",
      "monkaS\n",
      "monkaS hoooo\n",
      "monkaS\n",
      "Ça va\n",
      "Encore le lobby des douches pour nous les gamers…..\n",
      "Attendez mais la run va durer 5h là ?\n",
      "Attendez mais la run dure 5h?\n",
      "Je ne suis pas ZeratoR je suis le bot qui le remplace car il dort (non)\n",
      "@yamato une belle nuit à vous\n",
      "Attendez mais la run dure 5h là ?\n",
      "ééééééééééééééééya\n",
      "le runner joue vraiment bien, il s'appelle TAS c'est ça ?\n",
      "non seulement le runner TAS est très fort, mais c'est pas la première fois que je le vois faire du speedrun, il doit vraiment avoir du temps à perdre\n",
      "je connais TAS en vrai il est assez prétentieux, toujours à dire \"je suis le meilleur, vous ne pouvez pas me battre\" nieunieunieu\n",
      "L\n",
      "G\n",
      "attendez la run dure 5h\n",
      "quel jeu de fou sérieux putain EDMOND\n",
      "clairement un JDF\n",
      "Le runner à gauche de MV joue avec les pieds c'est pur ça qu'il ne tient pas de manette\n",
      "bonjour à tous, c'est MV qui joue actuellement ?\n",
      "attendez la run dure 5h là ?\n",
      "ha ok donc c'est Ponce qui joue je comprenais pas merci damdam !\n",
      "c'est quoi ce jeu tout bugué xDDD les devs ont aucune chance que le jeu ai du succès sérieux xDD\n",
      "?????????????\n",
      "mais vous trichez Monsieur\n",
      "HA OUI C EST VRAI MOI J ADORE CA\n",
      "Je comprends pas pourquoi Ama se déconcentre franchement il pourrait faire un effort au prix qu’on le paye……\n",
      "U\n",
      "\n",
      "\n",
      "DamDamLive messages :\n",
      "SVP allez y molo avec les références politiques dans vos dons ahahah\n",
      "pour les noms des casteurs, ça sera indiqué soon sur l'overlay, la régie bosse dessus !\n",
      "Les 20000€ avant la fin de Monkey Ball ?\n",
      "dans le doute, faites des dons ahahaha\n",
      "Objectif : Chicorée, l'ami du petit déjeuner\n",
      "@bracmort\n",
      "nope\n",
      "meilleure musique franchement\n",
      "Oubliez pas l'incentive pour le prochain jeu ! Masque blindfold : Chaton (255€) VS Doge (240€)\n",
      "j'ai passé 1 heure sur Kraid la 1ère fois NotLikeThis\n",
      "Attendez là\n",
      "200000 WHEN ???\n",
      "Hey @raie_de_boule !\n",
      "#JeSuisOuafOuaf\n",
      "Speedrun légendaire bon sang\n",
      "ahahahahah\n",
      "putain c'est génial ahahah\n",
      "Tiens tiens tiens...y a pas un nouveau défi dans les incentives ?\n",
      "Allez, 500'000€ là !!\n",
      "C'est LE moment pour prendre des notes ahahah\n",
      "498K !!!!\n",
      "plus que 30 secondes\n",
      "Aelthan et Zerator, le feat le plus audacieux depuis la création d'internet\n",
      "c'est qui l'influenceur à côté d'Aelthan ?\n",
      "\n",
      "\n"
     ]
    }
   ],
   "source": [
    "big_streamers = [\"mistermv\", \"ZeratoR\", \"DamDamLive\"]\n",
    "\n",
    "for streamer in big_streamers:\n",
    "    print(f\"{streamer} messages :\")\n",
    "    for message in get_user_messages(streamer):\n",
    "        print(message)\n",
    "    print(\"\\n\")"
   ]
  },
  {
   "cell_type": "markdown",
   "metadata": {},
   "source": [
    "Proportion de viewers qui ont posté non abonnés à MV"
   ]
  },
  {
   "cell_type": "code",
   "execution_count": 133,
   "metadata": {},
   "outputs": [
    {
     "name": "stdout",
     "output_type": "stream",
     "text": [
      "La proportion de viewers ayant posté non abonnés à MV lors de SpeeDons 2022 a été de 85.17% !\n"
     ]
    }
   ],
   "source": [
    "nb_mv_subscriber = len(messages[messages[\"MV_subscriber\"]])\n",
    "\n",
    "print(\"La proportion de viewers ayant posté non abonnés à MV lors de SpeeDons 2022 a été de {:.2f}% !\".format(100 - nb_mv_subscriber *100 / len(messages)))"
   ]
  },
  {
   "cell_type": "markdown",
   "metadata": {},
   "source": [
    "Distribution de la longeur des messages"
   ]
  },
  {
   "cell_type": "code",
   "execution_count": 138,
   "metadata": {},
   "outputs": [
    {
     "name": "stderr",
     "output_type": "stream",
     "text": [
      "/home/cmnemoi/miniconda3/envs/SpeeDonsChatAnalysis/lib/python3.10/site-packages/seaborn/distributions.py:2619: FutureWarning:\n",
      "\n",
      "`distplot` is a deprecated function and will be removed in a future version. Please adapt your code to use either `displot` (a figure-level function with similar flexibility) or `histplot` (an axes-level function for histograms).\n",
      "\n"
     ]
    },
    {
     "data": {
      "text/plain": [
       "<AxesSubplot:ylabel='Density'>"
      ]
     },
     "execution_count": 138,
     "metadata": {},
     "output_type": "execute_result"
    },
    {
     "data": {
      "image/png": "[encoded data removed]",
      "text/plain": [
       "<Figure size 432x288 with 1 Axes>"
      ]
     },
     "metadata": {},
     "output_type": "display_data"
    }
   ],
   "source": [
    "messages_length = pd.Series([len(message) for message in messages[\"message\"]]);messages_length\n",
    "\n",
    "sns.distplot(x=messages_length)"
   ]
  },
  {
   "cell_type": "code",
   "execution_count": 165,
   "metadata": {},
   "outputs": [
    {
     "name": "stdout",
     "output_type": "stream",
     "text": [
      "Le message le plus court a été un sobre \"J\" au mileu d'un spam d'emotes. Voilà, merci kekegolden pour cette éloquence sans nom\n"
     ]
    }
   ],
   "source": [
    "print('Le message le plus court a été un sobre \"{}\" au mileu d\\'un spam d\\'emotes. Voilà, merci {} pour cette éloquence sans nom'.format(messages.loc[messages_length.argmin(),\"message\"], messages.loc[messages_length.argmin(),\"author_name\"]))"
   ]
  },
  {
   "cell_type": "code",
   "execution_count": 168,
   "metadata": {},
   "outputs": [
    {
     "name": "stdout",
     "output_type": "stream",
     "text": [
      "Le message le plus long a été \"ponceOVERTOAD zrtSauron ponceOVERTOAD zrtSauron ponceOVERTOAD zrtSauron ponceOVERTOAD zrtSauron ponceOVERTOAD zrtSauron ponceOVERTOAD zrtSauron ponceOVERTOAD zrtSauron ponceOVERTOAD zrtSauron ponceOVERTOAD zrtSauron ponceOVERTOAD zrtSauron ponceOVERTOAD zrtSauron ponceOVERTOAD zrtSauron ponceOVERTOAD zrtSauron ponceOVERTOAD zrtSauron ponceOVERTOAD zrtSauron ponceOVERTOAD zrtSauron ponceOVERTOAD zrtSauron ponceOVERTOAD zrtSauron ponceOVERTOAD zrtSauron ponceOVERTOAD zrtSauron ponceOVERTOAD zrtSau\".\n",
      "Merci Mousttachou pour ton enthousiasme!\n"
     ]
    }
   ],
   "source": [
    "index_longuest_message = messages_length.argmax()\n",
    "print('Le message le plus long a été \"{}\".\\nMerci {} pour ton enthousiasme!'.format(messages.loc[index_longuest_message,\"message\"], messages.loc[index_longuest_message,\"author_name\"]))"
   ]
  },
  {
   "cell_type": "code",
   "execution_count": 95,
   "metadata": {},
   "outputs": [],
   "source": [
    "temp = list(STOP_WORDS)\n",
    "STOP_WORDS = [word.upper() for word in temp]"
   ]
  },
  {
   "cell_type": "code",
   "execution_count": 102,
   "metadata": {},
   "outputs": [],
   "source": [
    "list_messages = [message for message in messages[\"message\"]]\n",
    "words = pd.Series([word.split(' ') for word in list_messages])\n",
    "words = words.explode().reset_index(drop=True)\n",
    "words = pd.Series([word.upper() for word in words]).value_counts()\n",
    "words = words.drop(STOP_WORDS, errors='ignore')"
   ]
  },
  {
   "cell_type": "code",
   "execution_count": 107,
   "metadata": {},
   "outputs": [
    {
     "data": {
      "text/plain": [
       "PEPOG        45964\n",
       "CLAP         32575\n",
       "CATJAM       21292\n",
       "<3           19730\n",
       "GG           18170\n",
       "             ...  \n",
       "DARONNES         1\n",
       "ENFOIROS         1\n",
       "130K!!!          1\n",
       "SACRILÈGE        1\n",
       "SILENCE.         1\n",
       "Length: 67206, dtype: int64"
      ]
     },
     "execution_count": 107,
     "metadata": {},
     "output_type": "execute_result"
    }
   ],
   "source": [
    "words"
   ]
  },
  {
   "cell_type": "code",
   "execution_count": 110,
   "metadata": {},
   "outputs": [
    {
     "data": {
      "text/plain": [
       "PEPOG        0.046002\n",
       "CLAP         0.032602\n",
       "CATJAM       0.021309\n",
       "<3           0.019746\n",
       "GG           0.018185\n",
       "               ...   \n",
       "DARONNES     0.000001\n",
       "ENFOIROS     0.000001\n",
       "130K!!!      0.000001\n",
       "SACRILÈGE    0.000001\n",
       "SILENCE.     0.000001\n",
       "Length: 67206, dtype: float64"
      ]
     },
     "execution_count": 110,
     "metadata": {},
     "output_type": "execute_result"
    }
   ],
   "source": [
    "words_frequency = words / words.sum();words_frequency"
   ]
  },
  {
   "cell_type": "code",
   "execution_count": 111,
   "metadata": {},
   "outputs": [],
   "source": [
    "wordcloud = WordCloud(width=800, height=600).generate_from_frequencies(words_frequency)"
   ]
  },
  {
   "cell_type": "code",
   "execution_count": 112,
   "metadata": {},
   "outputs": [
    {
     "data": {
      "text/plain": [
       "(-0.5, 799.5, 599.5, -0.5)"
      ]
     },
     "execution_count": 112,
     "metadata": {},
     "output_type": "execute_result"
    },
    {
     "data": {
      "image/png": "[encoded data removed]",
      "text/plain": [
       "<Figure size 432x288 with 1 Axes>"
      ]
     },
     "metadata": {},
     "output_type": "display_data"
    }
   ],
   "source": [
    "plt.imshow(wordcloud, interpolation='bilinear')\n",
    "plt.axis(\"off\")"
   ]
  }
 ],
 "metadata": {
  "interpreter": {
   "hash": "c815adce93ed5b3270b7a88f352ebd0c26dc93c8a55c9f41d2524b68ff31aeaa"
  },
  "kernelspec": {
   "display_name": "Python 3.10.4 ('SpeeDonsChatAnalysis')",
   "language": "python",
   "name": "python3"
  },
  "language_info": {
   "codemirror_mode": {
    "name": "ipython",
    "version": 3
   },
   "file_extension": ".py",
   "mimetype": "text/x-python",
   "name": "python",
   "nbconvert_exporter": "python",
   "pygments_lexer": "ipython3",
   "version": "3.10.4"
  },
  "orig_nbformat": 4
 },
 "nbformat": 4,
 "nbformat_minor": 2
}
